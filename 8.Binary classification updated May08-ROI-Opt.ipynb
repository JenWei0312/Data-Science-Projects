{
 "cells": [
  {
   "cell_type": "markdown",
   "metadata": {},
   "source": [
    "# ROI Optimization"
   ]
  },
  {
   "cell_type": "markdown",
   "metadata": {},
   "source": [
    "## Design of this workbook\n",
    "\n",
    "### Testing Data\n",
    "We made a synthetic imbalanced data set by dropping the majority of the positive samples of the Bone-and-Joint deep dive data\n",
    "\n",
    "### Method tested\n",
    "0. Baseline model\n",
    "    - Dummy classifier\n",
    "    - Vanilla lightGBM\n",
    "1. Pre-processing\n",
    "    - SMOT(0.1) + random undersampling(0.5)\n",
    "    - Pos_class_weights\n",
    "2. Optimized objective function\n",
    "    - Cost optimized\n",
    "    - focal loss for f1 optimization\n",
    "3. Post-processing\n",
    "    - Change decisioon threshold on Vanilla lightGBM output to maximize F1/AUC\n",
    "    - Change decisioon threshold on focal loss algorithm output to minimize cost\n",
    "\n",
    "### Evaluation Metrics\n",
    "- F1 (main metric)\n",
    "- Cost of misclassification\n",
    "- matthews corrlation coefficient https://www.researchgate.net/publication/338351315_The_advantages_of_the_Matthews_correlation_coefficient_MCC_over_F1_score_and_accuracy_in_binary_classification_evaluation\n",
    "- AUC"
   ]
  },
  {
   "cell_type": "code",
   "execution_count": 1,
   "metadata": {},
   "outputs": [],
   "source": [
    "import os\n",
    "import pickle\n",
    "import pandas as pd\n",
    "import numpy as np\n",
    "from numpy import where\n",
    "from numpy import mean\n",
    "\n",
    "from sklearn.model_selection import GridSearchCV, train_test_split, cross_val_score, RepeatedStratifiedKFold, StratifiedKFold,ShuffleSplit\n",
    "\n",
    "from imblearn.over_sampling import SMOTE, ADASYN\n",
    "from imblearn.under_sampling import RandomUnderSampler\n",
    "#from sklearn.preprocessing import MinMaxScaler\n",
    "from imblearn.pipeline import Pipeline\n",
    "\n",
    "from collections import Counter\n",
    "#from sklearn.datasets import make_classification\n",
    "from matplotlib import pyplot\n",
    "\n",
    "import hyperopt\n",
    "from hyperopt import hp, tpe\n",
    "from hyperopt.fmin import fmin\n",
    "import lightgbm as lgbm\n",
    "from sklearn.dummy import DummyClassifier\n",
    "#from sklearn.model_selection import cross_val_score, StratifiedKFold, cross_val_predict,ShuffleSplit\n",
    "#from imblearn.pipeline import Pipeline\n",
    "\n",
    "from sklearn.metrics import classification_report\n",
    "from sklearn.metrics import matthews_corrcoef\n",
    "from sklearn.metrics import roc_curve\n",
    "from sklearn.metrics import roc_auc_score\n",
    "from sklearn.metrics import auc\n",
    "from sklearn.metrics import make_scorer\n",
    "from sklearn.metrics import precision_recall_fscore_support\n",
    "from sklearn.metrics import confusion_matrix\n",
    "\n",
    "import seaborn as sns\n",
    "import matplotlib.pyplot as plt\n",
    "\n",
    "\n",
    "NPSEED = 1337\n",
    "np.random.seed(NPSEED)\n",
    "def warn(*args, **kwargs):\n",
    "    pass\n",
    "import warnings\n",
    "warnings.warn = warn"
   ]
  },
  {
   "cell_type": "markdown",
   "metadata": {},
   "source": [
    "### Loading Data and Check Data Set"
   ]
  },
  {
   "cell_type": "code",
   "execution_count": 117,
   "metadata": {},
   "outputs": [
    {
     "data": {
      "text/html": [
       "<div>\n",
       "<style scoped>\n",
       "    .dataframe tbody tr th:only-of-type {\n",
       "        vertical-align: middle;\n",
       "    }\n",
       "\n",
       "    .dataframe tbody tr th {\n",
       "        vertical-align: top;\n",
       "    }\n",
       "\n",
       "    .dataframe thead th {\n",
       "        text-align: right;\n",
       "    }\n",
       "</style>\n",
       "<table border=\"1\" class=\"dataframe\">\n",
       "  <thead>\n",
       "    <tr style=\"text-align: right;\">\n",
       "      <th></th>\n",
       "      <th>sex_1</th>\n",
       "      <th>sex_2</th>\n",
       "      <th>admitAge</th>\n",
       "      <th>admitCategoryCode_1</th>\n",
       "      <th>admitCategoryCode_2</th>\n",
       "      <th>entryCode_1</th>\n",
       "      <th>entryCode_2</th>\n",
       "      <th>entryCode_3</th>\n",
       "      <th>entryCode_4</th>\n",
       "      <th>admitByAmbulanceCode_1</th>\n",
       "      <th>...</th>\n",
       "      <th>raDrugAlcoholAbuse</th>\n",
       "      <th>raObesity</th>\n",
       "      <th>raStroke</th>\n",
       "      <th>raMentalHealth</th>\n",
       "      <th>raHepatic</th>\n",
       "      <th>raAsthma</th>\n",
       "      <th>raRheumatoid</th>\n",
       "      <th>raHIV</th>\n",
       "      <th>raPneumonia</th>\n",
       "      <th>riskTotal</th>\n",
       "    </tr>\n",
       "  </thead>\n",
       "  <tbody>\n",
       "    <tr>\n",
       "      <td>1</td>\n",
       "      <td>1</td>\n",
       "      <td>0</td>\n",
       "      <td>90.0</td>\n",
       "      <td>1</td>\n",
       "      <td>0</td>\n",
       "      <td>1</td>\n",
       "      <td>0</td>\n",
       "      <td>0</td>\n",
       "      <td>0</td>\n",
       "      <td>1</td>\n",
       "      <td>...</td>\n",
       "      <td>0.0</td>\n",
       "      <td>0.0</td>\n",
       "      <td>0.0</td>\n",
       "      <td>1.0</td>\n",
       "      <td>0.0</td>\n",
       "      <td>0.0</td>\n",
       "      <td>0.0</td>\n",
       "      <td>0.0</td>\n",
       "      <td>1.0</td>\n",
       "      <td>2.0</td>\n",
       "    </tr>\n",
       "    <tr>\n",
       "      <td>2</td>\n",
       "      <td>1</td>\n",
       "      <td>0</td>\n",
       "      <td>81.0</td>\n",
       "      <td>1</td>\n",
       "      <td>0</td>\n",
       "      <td>1</td>\n",
       "      <td>0</td>\n",
       "      <td>0</td>\n",
       "      <td>0</td>\n",
       "      <td>1</td>\n",
       "      <td>...</td>\n",
       "      <td>0.0</td>\n",
       "      <td>0.0</td>\n",
       "      <td>1.0</td>\n",
       "      <td>0.0</td>\n",
       "      <td>0.0</td>\n",
       "      <td>0.0</td>\n",
       "      <td>0.0</td>\n",
       "      <td>0.0</td>\n",
       "      <td>1.0</td>\n",
       "      <td>3.0</td>\n",
       "    </tr>\n",
       "    <tr>\n",
       "      <td>3</td>\n",
       "      <td>1</td>\n",
       "      <td>0</td>\n",
       "      <td>72.0</td>\n",
       "      <td>1</td>\n",
       "      <td>0</td>\n",
       "      <td>1</td>\n",
       "      <td>0</td>\n",
       "      <td>0</td>\n",
       "      <td>0</td>\n",
       "      <td>1</td>\n",
       "      <td>...</td>\n",
       "      <td>0.0</td>\n",
       "      <td>0.0</td>\n",
       "      <td>0.0</td>\n",
       "      <td>1.0</td>\n",
       "      <td>0.0</td>\n",
       "      <td>0.0</td>\n",
       "      <td>1.0</td>\n",
       "      <td>0.0</td>\n",
       "      <td>0.0</td>\n",
       "      <td>3.0</td>\n",
       "    </tr>\n",
       "    <tr>\n",
       "      <td>7</td>\n",
       "      <td>1</td>\n",
       "      <td>0</td>\n",
       "      <td>88.0</td>\n",
       "      <td>1</td>\n",
       "      <td>0</td>\n",
       "      <td>1</td>\n",
       "      <td>0</td>\n",
       "      <td>0</td>\n",
       "      <td>0</td>\n",
       "      <td>1</td>\n",
       "      <td>...</td>\n",
       "      <td>0.0</td>\n",
       "      <td>0.0</td>\n",
       "      <td>0.0</td>\n",
       "      <td>0.0</td>\n",
       "      <td>0.0</td>\n",
       "      <td>0.0</td>\n",
       "      <td>0.0</td>\n",
       "      <td>0.0</td>\n",
       "      <td>0.0</td>\n",
       "      <td>3.0</td>\n",
       "    </tr>\n",
       "    <tr>\n",
       "      <td>9</td>\n",
       "      <td>1</td>\n",
       "      <td>0</td>\n",
       "      <td>89.0</td>\n",
       "      <td>1</td>\n",
       "      <td>0</td>\n",
       "      <td>1</td>\n",
       "      <td>0</td>\n",
       "      <td>0</td>\n",
       "      <td>0</td>\n",
       "      <td>1</td>\n",
       "      <td>...</td>\n",
       "      <td>0.0</td>\n",
       "      <td>0.0</td>\n",
       "      <td>0.0</td>\n",
       "      <td>0.0</td>\n",
       "      <td>0.0</td>\n",
       "      <td>0.0</td>\n",
       "      <td>0.0</td>\n",
       "      <td>0.0</td>\n",
       "      <td>0.0</td>\n",
       "      <td>2.0</td>\n",
       "    </tr>\n",
       "  </tbody>\n",
       "</table>\n",
       "<p>5 rows × 103 columns</p>\n",
       "</div>"
      ],
      "text/plain": [
       "   sex_1  sex_2  admitAge  admitCategoryCode_1  admitCategoryCode_2  \\\n",
       "1      1      0      90.0                    1                    0   \n",
       "2      1      0      81.0                    1                    0   \n",
       "3      1      0      72.0                    1                    0   \n",
       "7      1      0      88.0                    1                    0   \n",
       "9      1      0      89.0                    1                    0   \n",
       "\n",
       "   entryCode_1  entryCode_2  entryCode_3  entryCode_4  admitByAmbulanceCode_1  \\\n",
       "1            1            0            0            0                       1   \n",
       "2            1            0            0            0                       1   \n",
       "3            1            0            0            0                       1   \n",
       "7            1            0            0            0                       1   \n",
       "9            1            0            0            0                       1   \n",
       "\n",
       "   ...  raDrugAlcoholAbuse  raObesity  raStroke  raMentalHealth  raHepatic  \\\n",
       "1  ...                 0.0        0.0       0.0             1.0        0.0   \n",
       "2  ...                 0.0        0.0       1.0             0.0        0.0   \n",
       "3  ...                 0.0        0.0       0.0             1.0        0.0   \n",
       "7  ...                 0.0        0.0       0.0             0.0        0.0   \n",
       "9  ...                 0.0        0.0       0.0             0.0        0.0   \n",
       "\n",
       "   raAsthma  raRheumatoid  raHIV  raPneumonia  riskTotal  \n",
       "1       0.0           0.0    0.0          1.0        2.0  \n",
       "2       0.0           0.0    0.0          1.0        3.0  \n",
       "3       0.0           1.0    0.0          0.0        3.0  \n",
       "7       0.0           0.0    0.0          0.0        3.0  \n",
       "9       0.0           0.0    0.0          0.0        2.0  \n",
       "\n",
       "[5 rows x 103 columns]"
      ]
     },
     "metadata": {},
     "output_type": "display_data"
    },
    {
     "name": "stdout",
     "output_type": "stream",
     "text": [
      "Data shape (11126, 103)\n"
     ]
    },
    {
     "data": {
      "image/png": "[encoded data removed]",
      "text/plain": [
       "<Figure size 432x288 with 1 Axes>"
      ]
     },
     "metadata": {},
     "output_type": "display_data"
    }
   ],
   "source": [
    "data = pickle.load(open('data/encoded_data.p','rb'))\n",
    "display(data.head())\n",
    "print(f\"Data shape {data.shape}\")\n",
    "data['episodeDispositionCode'].value_counts().plot(kind='bar')\n",
    "plt.show()\n",
    "class_names =  ['Not continuing', 'Continuing Care']\n",
    "features = list(data.keys())\n",
    "features.remove('episodeDispositionCode')"
   ]
  },
  {
   "cell_type": "code",
   "execution_count": 118,
   "metadata": {},
   "outputs": [
    {
     "data": {
      "text/plain": [
       "0.0    6807\n",
       "1.0    4319\n",
       "Name: episodeDispositionCode, dtype: int64"
      ]
     },
     "execution_count": 118,
     "metadata": {},
     "output_type": "execute_result"
    }
   ],
   "source": [
    "data['episodeDispositionCode'].value_counts()"
   ]
  },
  {
   "cell_type": "code",
   "execution_count": 119,
   "metadata": {},
   "outputs": [
    {
     "name": "stdout",
     "output_type": "stream",
     "text": [
      "Features used:\n",
      "sex_1, sex_2, admitAge, admitCategoryCode_1, admitCategoryCode_2, entryCode_1, entryCode_2, entryCode_3, entryCode_4, admitByAmbulanceCode_1, admitByAmbulanceCode_2, admitByAmbulanceCode_3, admitByAmbulanceCode_4, institutionZoneId_1, institutionZoneId_2, institutionZoneId_3, institutionZoneId_4, institutionZoneId_5, institutionZone_1, institutionZone_2, institutionZone_3, institutionZone_4, institutionZone_5, institutionTypeId_1, institutionTypeIdFrom_1, institutionTypeIdFrom_2, institutionTypeIdFrom_3, institutionTypeIdFrom_4, institutionTypeIdFrom_5, institutionTypeIdFrom_6, institutionTypeIdFrom_7, institutionTypeIdFrom_8, mainPatientService, mostRespDxCode_1, mostRespDxCode_2, mostRespDxCode_3, mostRespDxCode_4, mostRespDxCode_5, mostRespDxCode_6, mostRespDxCode_7, mostRespDxCode_8, mostRespDxCode_9, mostRespDxCode_10, mostRespDxCode_11, mostRespDxCode_12, mostRespDxCode_13, mostRespDxCode_14, mostRespDxCode_15, mostRespDxCode_16, mostRespDxCode_17, mostRespDxCode_18, mostRespDxCode_19, mostRespDxCode_20, mostRespDxCode_21, mostRespDxCode_22, mostRespDxCode_23, mostRespDxCode_24, mostRespDxCode_25, mostRespDxCode_26, mostRespDxCode_27, mostRespDxCode_28, mostRespDxCode_29, mostRespDxCode_30, mostRespDxCode_31, mostRespDxCode_32, mostRespDxCode_33, mostRespDxCode_34, mostRespDxCode_35, mostRespDxCode_36, mostRespDxCode_37, mostRespDxCode_38, procedureTypeCode_1, procedureTypeCode_2, procedureTypeCode_3, procedureTypeCode_4, procedureTypeCode_5, episodeHoursToAdmit, episodeHoursToOR, episodeTrfToAdmitCount, episodePreAdmitOOZTrf, admitHoursToOR, transfusion, ipStayIsBilateral, raBackPain, raCancer, raCardiac, raPulmonary, raRenal, raDVT, raDementia, raDepression, raDiabetes, raDrugAlcoholAbuse, raObesity, raStroke, raMentalHealth, raHepatic, raAsthma, raRheumatoid, raHIV, raPneumonia, riskTotal, "
     ]
    }
   ],
   "source": [
    "print('Features used:')\n",
    "for feature in features:\n",
    "    print(feature, end = ', ')"
   ]
  },
  {
   "cell_type": "markdown",
   "metadata": {},
   "source": [
    "### Create an imbalanced data set by dropping the majority of the positive samples"
   ]
  },
  {
   "cell_type": "code",
   "execution_count": 120,
   "metadata": {},
   "outputs": [],
   "source": [
    "# Drop 80 of positive samples to create imbalanced data set\n",
    "\n",
    "data_true = data.loc[data['episodeDispositionCode'] ==1].sample(frac=1).reset_index(drop=True)\n",
    "data_false = data.loc[data['episodeDispositionCode'] ==0]\n",
    "data_imbalance = pd.concat([data_true[:720], data_false], axis=0).sample(frac=1).reset_index(drop=True)\n",
    "\n",
    "\n",
    "X_imbalance = data_imbalance.drop('episodeDispositionCode', axis=1)\n",
    "y_imbalance = data_imbalance['episodeDispositionCode']\n",
    "#random state used to be 42\n",
    "X_train, X_test, y_train, y_test = train_test_split(X_imbalance, y_imbalance, test_size=0.20, random_state=42, stratify = y_imbalance)\n",
    "X_train, X_valid, y_train, y_valid = train_test_split(X_train, y_train, test_size=0.20, random_state=42, stratify = y_train)\n",
    "feat_names = list(X_train.keys())\n"
   ]
  },
  {
   "cell_type": "code",
   "execution_count": 121,
   "metadata": {},
   "outputs": [
    {
     "name": "stdout",
     "output_type": "stream",
     "text": [
      "We made up an imbalanced data set where only  10.0  percent of sample is positive\n",
      "0.0    6807\n",
      "1.0     720\n",
      "Name: episodeDispositionCode, dtype: int64\n"
     ]
    }
   ],
   "source": [
    "minority_proportion = sum(y_train==1)/len(y_train)\n",
    "print('We made up an imbalanced data set where only ', np.round(minority_proportion,2)*100,' percent of sample is positive')\n",
    "print(data_imbalance['episodeDispositionCode'].value_counts())\n"
   ]
  },
  {
   "cell_type": "markdown",
   "metadata": {},
   "source": [
    "### Performance metric:\n",
    "\n",
    "### For Cummunicate Business Value\n",
    "- Cost of misclassification\n",
    "- Benefit from correct classification\n",
    "- Net benefit\n",
    "\n",
    "### For Technical Matrix\n",
    "- Confusion Matrix\n",
    "- F1\n",
    "- MCC\n",
    "- AUC\n",
    "\n",
    "\n",
    "\n",
    "### Conditions/Things to Test On\n",
    "0. Assume positive class is the minority class\n",
    "1. How imbalanced the dataset is? Minority class makes up to\n",
    "    - 3%\n",
    "    - 10%\n",
    "    - 20%\n",
    "    - 40% (balanced)\n",
    "2. How does the cost of false minority class compared to cost of false majority class?\n",
    "    - c_n >> c_p\n",
    "    - c_n << c_p (does it even make sense?)\n",
    "    - c_n ~ c_p  (is that just equivalent to maximizing F1 score?)\n"
   ]
  },
  {
   "cell_type": "code",
   "execution_count": 7,
   "metadata": {},
   "outputs": [],
   "source": [
    "# Define technical performance metric\n",
    "\n",
    "def get_metrics(y_test, y_pred):\n",
    "    cm = confusion_matrix(y_test, y_pred)\n",
    "    class_names =  ['Negative', 'Positive']    \n",
    "    df_cm = pd.DataFrame(cm, columns=class_names, index = class_names)\n",
    "    df_cm.index.name = 'Actual'\n",
    "    df_cm.columns.name = 'Predicted'\n",
    "    sns.set(font_scale=1.4)#for label size\n",
    "    sns.heatmap(df_cm, cmap=\"Blues\", annot=True,annot_kws={\"size\": 16},  fmt='d')\n",
    "    plt.show()\n",
    "    metrics = np.array( precision_recall_fscore_support(y_test, y_pred) )\n",
    "    df_cm = pd.DataFrame(metrics, index=['Precision', 'Recall', 'F','Support'], columns = class_names)\n",
    "    df_cm.index.name = 'Class'\n",
    "    df_cm.columns.name = 'Metrics'\n",
    "    display(df_cm)"
   ]
  },
  {
   "cell_type": "code",
   "execution_count": 8,
   "metadata": {},
   "outputs": [],
   "source": [
    "# Define benefit metric\n",
    "def get_return_metrics(y_test, y_pred,b_P,c_P,b_N=0,c_N=0):\n",
    "    cm = confusion_matrix(y_test, y_pred)\n",
    "    class_names =  ['Negative', 'Positive']    \n",
    "    df_cm = pd.DataFrame(cm, columns=class_names, index = class_names)\n",
    "    df_cm.iloc[0,0] = df_cm.iloc[0,0]*(b_N-c_N) # Return on true negative\n",
    "    df_cm.iloc[1,1] = df_cm.iloc[1,1]*(b_P-c_P) # Return on true positive\n",
    "    df_cm.iloc[0,1] = -df_cm.iloc[0,1]*(c_P) # Cost of false positive\n",
    "    df_cm.iloc[1,0] = -df_cm.iloc[1,0]*(c_N) # Cost of false negative\n",
    "    \n",
    "    df_cm.index.name = 'Actual'\n",
    "    df_cm.columns.name = 'Predicted'\n",
    "    sns.set(font_scale=1.4)#for label size\n",
    "    sns.heatmap(df_cm, cmap=\"Reds\", annot=True,annot_kws={\"size\": 16},  fmt='d')\n",
    "    plt.show()\n"
   ]
  },
  {
   "cell_type": "code",
   "execution_count": 9,
   "metadata": {},
   "outputs": [],
   "source": [
    "# Define cost function for misclassifications\n",
    "\n",
    "def Cost(y_pred, y_true, C_p, C_n):\n",
    "    residual= (y_true - y_pred).astype(\"float\")\n",
    "    #print('Residual:\\t',residual)\n",
    "    loss = np.where(residual <=0, (residual**2)*C_p, residual**2*C_n)\n",
    "    #print('Loss:\\t',loss[:20])\n",
    "    return np.mean(loss)\n",
    "\n",
    "# Define Benefit function for correctly classify objectives\n",
    "# We consider the scenario of churn prediction, where correctly identify positive cases means \n",
    "# capturing otherwise lost revenue at the expense of preventitive actions\n",
    "\n",
    "def Benefit(y_true, B_p, B_n):\n",
    "    \n",
    "    benefit = np.where( y_true==1,1,0)*B_p+np.where( y_true==0,1,0)*B_n\n",
    "    #print('Benefit:\\t',benefit[:20])\n",
    "    return np.mean(benefit)\n",
    "\n",
    "\n",
    "# Define return function = Benefit - Cost for preventitive action\n",
    "# Use 100% as the default investment percentage\n",
    "def RealizedBenefit(y_pred,y_true, B_p, C_p):\n",
    "    \n",
    "    #RealizedBenefit = np.sum((y_pred.to_numpy()==1)&(y_true.to_numpy()==1))*B_p - np.sum((y_pred.to_numpy()==1))*C_p\n",
    "    RealizedBenefit = np.sum((np.asarray(y_pred)==1)&(np.asarray(y_true)==1))*B_p \\\n",
    "                        - np.sum((np.asarray(y_pred)==1))*C_p\n",
    "    \n",
    "    #return np.sum(RealizedBenefit)\n",
    "    return RealizedBenefit\n"
   ]
  },
  {
   "cell_type": "code",
   "execution_count": 10,
   "metadata": {},
   "outputs": [],
   "source": [
    "# Define weights here\n",
    "c_p=1\n",
    "c_n=7\n",
    "b_p=c_n+c_p\n",
    "b_n=0"
   ]
  },
  {
   "cell_type": "markdown",
   "metadata": {},
   "source": [
    "## Baseline Model -- The Dummy Classifier, and Default Model -- Vanilla LightGBM"
   ]
  },
  {
   "cell_type": "code",
   "execution_count": 11,
   "metadata": {},
   "outputs": [],
   "source": [
    "# Dummy Classifier\n",
    "dummy_clf = DummyClassifier(strategy=\"most_frequent\",random_state=33).fit(X_train,y_train) \n",
    "\n",
    "y_pred_dummy = dummy_clf.predict(X_test) \n",
    "y_prob_dummy = dummy_clf.predict_proba(X_test)[:,1]\n",
    "y_val_pred_dummy = dummy_clf.predict(X_valid)\n",
    "y_val_prob_dummy = dummy_clf.predict_proba(X_valid)[:,1]\n",
    "\n",
    "## The defualt is_unbalance = True/False as the objective parameter\n",
    "## If we use as the objective parameter, the resulting model performed the same as setting scale_pos_weight\n",
    "clf_default = lgbm.LGBMClassifier(is_unbalance=False,random_state=33,learning_rate=0.1, early_stopping_rounds = 10, n_estimators=10000)\n",
    "\n",
    "clf_default.fit(X_train,y_train,eval_set=[(X_valid, y_valid)],verbose=False)\n",
    "\n",
    "y_pred_default = clf_default.predict(X_test)\n",
    "y_prob_default = clf_default.predict_proba(X_test)[:,1]\n",
    "y_val_pred_default = clf_default.predict(X_valid)\n",
    "y_val_prob_default = clf_default.predict_proba(X_valid)[:,1]\n",
    "\n"
   ]
  },
  {
   "cell_type": "code",
   "execution_count": 12,
   "metadata": {},
   "outputs": [
    {
     "data": {
      "image/png": "[encoded data removed]",
      "text/plain": [
       "<Figure size 432x288 with 2 Axes>"
      ]
     },
     "metadata": {
      "needs_background": "light"
     },
     "output_type": "display_data"
    },
    {
     "data": {
      "text/html": [
       "<div>\n",
       "<style scoped>\n",
       "    .dataframe tbody tr th:only-of-type {\n",
       "        vertical-align: middle;\n",
       "    }\n",
       "\n",
       "    .dataframe tbody tr th {\n",
       "        vertical-align: top;\n",
       "    }\n",
       "\n",
       "    .dataframe thead th {\n",
       "        text-align: right;\n",
       "    }\n",
       "</style>\n",
       "<table border=\"1\" class=\"dataframe\">\n",
       "  <thead>\n",
       "    <tr style=\"text-align: right;\">\n",
       "      <th>Metrics</th>\n",
       "      <th>Negative</th>\n",
       "      <th>Positive</th>\n",
       "    </tr>\n",
       "    <tr>\n",
       "      <th>Class</th>\n",
       "      <th></th>\n",
       "      <th></th>\n",
       "    </tr>\n",
       "  </thead>\n",
       "  <tbody>\n",
       "    <tr>\n",
       "      <td>Precision</td>\n",
       "      <td>0.904382</td>\n",
       "      <td>0.0</td>\n",
       "    </tr>\n",
       "    <tr>\n",
       "      <td>Recall</td>\n",
       "      <td>1.000000</td>\n",
       "      <td>0.0</td>\n",
       "    </tr>\n",
       "    <tr>\n",
       "      <td>F</td>\n",
       "      <td>0.949791</td>\n",
       "      <td>0.0</td>\n",
       "    </tr>\n",
       "    <tr>\n",
       "      <td>Support</td>\n",
       "      <td>1362.000000</td>\n",
       "      <td>144.0</td>\n",
       "    </tr>\n",
       "  </tbody>\n",
       "</table>\n",
       "</div>"
      ],
      "text/plain": [
       "Metrics       Negative  Positive\n",
       "Class                           \n",
       "Precision     0.904382       0.0\n",
       "Recall        1.000000       0.0\n",
       "F             0.949791       0.0\n",
       "Support    1362.000000     144.0"
      ]
     },
     "metadata": {},
     "output_type": "display_data"
    },
    {
     "name": "stdout",
     "output_type": "stream",
     "text": [
      "The matthews correlation coefficient is\t 0.0\n",
      "The cost of miscalssification under the dummy model is \t 0.67\n",
      "The benefit of the dummy model is \t 0.76\n"
     ]
    },
    {
     "name": "stderr",
     "output_type": "stream",
     "text": [
      "/Users/jenwei/opt/anaconda3/lib/python3.7/site-packages/sklearn/metrics/_classification.py:900: RuntimeWarning: invalid value encountered in double_scalars\n",
      "  mcc = cov_ytyp / np.sqrt(cov_ytyt * cov_ypyp)\n"
     ]
    }
   ],
   "source": [
    "plt.title('Test Metrics for the dummy classifier\\n')\n",
    "get_metrics(y_test, y_pred_dummy)\n",
    "print('The matthews correlation coefficient is\\t', matthews_corrcoef(y_test, y_pred_dummy))\n",
    "print('The cost of miscalssification under the dummy model is \\t',np.round(Cost(y_pred_dummy, y_test, c_p, c_n),2))\n",
    "print('The benefit of the dummy model is \\t',np.round(Benefit(y_test,b_p, b_n),2))\n"
   ]
  },
  {
   "cell_type": "code",
   "execution_count": 13,
   "metadata": {},
   "outputs": [
    {
     "data": {
      "image/png": "[encoded data removed]",
      "text/plain": [
       "<Figure size 432x288 with 2 Axes>"
      ]
     },
     "metadata": {},
     "output_type": "display_data"
    },
    {
     "data": {
      "text/html": [
       "<div>\n",
       "<style scoped>\n",
       "    .dataframe tbody tr th:only-of-type {\n",
       "        vertical-align: middle;\n",
       "    }\n",
       "\n",
       "    .dataframe tbody tr th {\n",
       "        vertical-align: top;\n",
       "    }\n",
       "\n",
       "    .dataframe thead th {\n",
       "        text-align: right;\n",
       "    }\n",
       "</style>\n",
       "<table border=\"1\" class=\"dataframe\">\n",
       "  <thead>\n",
       "    <tr style=\"text-align: right;\">\n",
       "      <th>Metrics</th>\n",
       "      <th>Negative</th>\n",
       "      <th>Positive</th>\n",
       "    </tr>\n",
       "    <tr>\n",
       "      <th>Class</th>\n",
       "      <th></th>\n",
       "      <th></th>\n",
       "    </tr>\n",
       "  </thead>\n",
       "  <tbody>\n",
       "    <tr>\n",
       "      <td>Precision</td>\n",
       "      <td>0.938159</td>\n",
       "      <td>0.674699</td>\n",
       "    </tr>\n",
       "    <tr>\n",
       "      <td>Recall</td>\n",
       "      <td>0.980176</td>\n",
       "      <td>0.388889</td>\n",
       "    </tr>\n",
       "    <tr>\n",
       "      <td>F</td>\n",
       "      <td>0.958707</td>\n",
       "      <td>0.493392</td>\n",
       "    </tr>\n",
       "    <tr>\n",
       "      <td>Support</td>\n",
       "      <td>1362.000000</td>\n",
       "      <td>144.000000</td>\n",
       "    </tr>\n",
       "  </tbody>\n",
       "</table>\n",
       "</div>"
      ],
      "text/plain": [
       "Metrics       Negative    Positive\n",
       "Class                             \n",
       "Precision     0.938159    0.674699\n",
       "Recall        0.980176    0.388889\n",
       "F             0.958707    0.493392\n",
       "Support    1362.000000  144.000000"
      ]
     },
     "metadata": {},
     "output_type": "display_data"
    },
    {
     "name": "stdout",
     "output_type": "stream",
     "text": [
      "The matthews correlation coefficient is\t 0.48\n",
      "The cost of miscalssification under the default model is \t 0.43\n",
      "The benefit of the default model is \t 0.76\n"
     ]
    }
   ],
   "source": [
    "plt.title('Test Metrics vanilla lightGBM and 0.5 threshold\\n')\n",
    "get_metrics(y_test, y_pred_default)\n",
    "print('The matthews correlation coefficient is\\t', np.round(matthews_corrcoef(y_test, y_pred_default),2))\n",
    "print('The cost of miscalssification under the default model is \\t',np.round(Cost(y_pred_default, y_test, c_p, c_n),2))\n",
    "print('The benefit of the default model is \\t',np.round(Benefit( y_test, b_p, b_n),2))\n",
    "\n",
    "\n"
   ]
  },
  {
   "cell_type": "code",
   "execution_count": 14,
   "metadata": {},
   "outputs": [
    {
     "data": {
      "image/png": "[encoded data removed]",
      "text/plain": [
       "<Figure size 432x288 with 2 Axes>"
      ]
     },
     "metadata": {},
     "output_type": "display_data"
    }
   ],
   "source": [
    "plt.title('Return Metrics: vanilla lightGBM and 0.5 threshold\\n')\n",
    "get_return_metrics(y_test, y_pred_default,b_p,c_p)"
   ]
  },
  {
   "cell_type": "markdown",
   "metadata": {},
   "source": [
    "## Customized Objective Function to Minimize \n",
    "### 1. Cost Function \n",
    "### 2.Focal Loss Function"
   ]
  },
  {
   "cell_type": "code",
   "execution_count": 15,
   "metadata": {},
   "outputs": [],
   "source": [
    "# Define custom objective function -- Weighted Logistic Regression\n",
    "from pathlib import Path\n",
    "from sklearn.model_selection import train_test_split\n",
    "from sklearn.metrics import f1_score\n",
    "from scipy.misc import derivative\n",
    "\n",
    "def weighted_loss_lgb_sk(y_true, y_pred, c_p, c_n):\n",
    "    \"\"\"\n",
    "    Focal Loss for lightgbm\n",
    "\n",
    "    Parameters:\n",
    "    -----------\n",
    "    y_pred: numpy.ndarray array with the predictions\n",
    "    dtrain: lightgbm.Dataset\n",
    "    c_p, c_n: float\n",
    "    \"\"\"\n",
    "    sum = c_p+c_n\n",
    "    c_p = c_p/sum\n",
    "    c_n = c_n/sum\n",
    "    \n",
    "    def fl(x,t):\n",
    "        #p = 1/(1+np.exp(-x))\n",
    "        p = 1/(1+np.exp(-(x-.5)*2))\n",
    "        return - ( c_n*t*np.log(p)+c_p*(1-t)*np.log(1-p) )\n",
    "\n",
    "    \n",
    "    partial_fl = lambda x: fl(x, y_true)\n",
    "    grad = derivative(partial_fl, y_pred, n=1, dx=1e-6)\n",
    "    hess = derivative(partial_fl, y_pred, n=2, dx=1e-6)\n",
    "    return grad, hess\n",
    "\n",
    "\n",
    "\n",
    "def weighted_loss_lgb_eval_error_sk(y_true, y_pred, c_p, c_n):\n",
    "    \"\"\"\n",
    "    Adapation of the Focal Loss for lightgbm to be used as evaluation loss\n",
    "\n",
    "    Parameters:\n",
    "    -----------\n",
    "    y_pred: numpy.ndarray\n",
    "        array with the predictions\n",
    "    dtrain: lightgbm.Dataset\n",
    "     c_p, c_n: float\n",
    "    \"\"\"\n",
    " \n",
    "    sum = c_p+c_n\n",
    "    c_p = c_p/sum\n",
    "    c_n = c_n/sum\n",
    "    #p = 1/(1+np.exp(-y_pred))\n",
    "    p = 1/(1+np.exp(-(y_pred-0.5)*2))\n",
    "    loss = - ( c_n* y_true*np.log(p)+c_p*(1-y_true)*np.log(1-p) )\n",
    "    return 'weighted_loss', np.mean(loss), False\n"
   ]
  },
  {
   "cell_type": "code",
   "execution_count": 16,
   "metadata": {},
   "outputs": [],
   "source": [
    "# Focal loss function\n",
    "\n",
    "def focal_loss_lgb_sk(y_true, y_pred, alpha, gamma):\n",
    "    \"\"\"\n",
    "    Focal Loss for lightgbm\n",
    "\n",
    "    Parameters:\n",
    "    -----------\n",
    "    y_pred: numpy.ndarray\n",
    "        array with the predictions\n",
    "    dtrain: lightgbm.Dataset\n",
    "    alpha, gamma: float\n",
    "        See original paper https://arxiv.org/pdf/1708.02002.pdf\n",
    "    \"\"\"\n",
    "    a,g = alpha, gamma\n",
    "    def fl(x,t):\n",
    "        p = 1/(1+np.exp(-x))        \n",
    "        return -( a*t + (1-a)*(1-t) ) * (( 1 - ( t*p + (1-t)*(1-p)) )**g) * ( t*np.log(p)+(1-t)*np.log(1-p) ) \n",
    "    partial_fl = lambda x: fl(x, y_true)\n",
    "\n",
    "    grad = derivative(partial_fl, y_pred, n=1, dx=1e-6)\n",
    "    hess = derivative(partial_fl, y_pred, n=2, dx=1e-6)\n",
    "    return grad, hess\n",
    "\n",
    "\n",
    "\n",
    "def focal_loss_lgb_eval_error_sk(y_true, y_pred, alpha, gamma):\n",
    "    \"\"\"\n",
    "    Adapation of the Focal Loss for lightgbm to be used as evaluation loss\n",
    "\n",
    "    Parameters:\n",
    "    -----------\n",
    "    y_pred: numpy.ndarray\n",
    "        array with the predictions\n",
    "    dtrain: lightgbm.Dataset\n",
    "    alpha, gamma: float\n",
    "        See original paper https://arxiv.org/pdf/1708.02002.pdf\n",
    "    \"\"\"\n",
    "    a,g = alpha, gamma\n",
    "    p = 1/(1+np.exp(-y_pred))\n",
    "    loss = -( a*y_true + (1-a)*(1-y_true) ) * (( 1 - ( y_true*p + (1-y_true)*(1-p)) )**g) * ( y_true*np.log(p)+(1-y_true)*np.log(1-p) )\n",
    "    return 'focal_loss', np.mean(loss), False"
   ]
  },
  {
   "cell_type": "code",
   "execution_count": 17,
   "metadata": {},
   "outputs": [],
   "source": [
    "# Repredict y_pred_direct\n",
    "\n",
    "# make new model on new value\n",
    "\n",
    "\n",
    "weighted_loss = lambda x,y: weighted_loss_lgb_sk(x, y, c_p, c_n)\n",
    "eval_error_weighted = lambda x,y: weighted_loss_lgb_eval_error_sk(x, y, c_p, c_n)\n",
    "clf_direct = lgbm.LGBMClassifier(random_state=33,\n",
    "                                early_stopping_rounds = 10,\n",
    "                                learning_rate=0.1,\n",
    "                                n_estimators=10000,\n",
    "                                objective= weighted_loss)\n",
    "\n",
    "\n",
    "\n",
    "clf_direct.fit(\n",
    "    X_train,\n",
    "    y_train,\n",
    "    eval_set=[(X_valid, y_valid)],\n",
    "    eval_metric=eval_error_weighted,\n",
    "    verbose=False,\n",
    ")\n",
    "\n",
    "\n",
    "\n",
    "y_pred_direct = clf_direct.predict(X_test)\n",
    "y_prob_direct = clf_direct.predict_proba(X_test)[:,1]\n",
    "y_val_pred_direct = clf_direct.predict(X_valid)\n",
    "y_val_prob_direct = clf_direct.predict_proba(X_valid)[:,1]\n",
    "\n"
   ]
  },
  {
   "cell_type": "code",
   "execution_count": 146,
   "metadata": {},
   "outputs": [
    {
     "name": "stdout",
     "output_type": "stream",
     "text": [
      "F1 score for the vaidation set of focal loss algorithm is\t 0.571\n"
     ]
    }
   ],
   "source": [
    "# Repredict y_pred_fl\n",
    "\n",
    "# make new model on new value\n",
    "# Define alpha and gamma here\n",
    "\n",
    "## The following parameters will produce higher F1 score for balanced data\n",
    "#alpha=.25\n",
    "#gamma=2\n",
    "\n",
    "## The following parameters will produce higher F1 score for imbalanced data\n",
    "alpha=.85\n",
    "gamma=2\n",
    "\n",
    "\n",
    "## The following parameters will produce higher recall \n",
    "## on the positive cases for imbalanced data\n",
    "#alpha=.99\n",
    "#gamma=1\n",
    "\n",
    "\n",
    "focal_loss = lambda x,y: focal_loss_lgb_sk(x, y, alpha, gamma)\n",
    "eval_error = lambda x,y: focal_loss_lgb_eval_error_sk(x, y, alpha,gamma)\n",
    "\n",
    "clf_fl = lgbm.LGBMClassifier(random_state=33,\n",
    "                                early_stopping_rounds = 10,\n",
    "                                learning_rate=0.1,\n",
    "                                n_estimators=10000,\n",
    "                                objective= focal_loss)\n",
    "\n",
    "\n",
    "clf_fl.fit(\n",
    "    X_train,\n",
    "    y_train,\n",
    "    eval_set=[(X_valid, y_valid)],\n",
    "    eval_metric=eval_error,\n",
    "    verbose=False,\n",
    ")\n",
    "\n",
    "\n",
    "y_pred_fl = clf_fl.predict(X_test)\n",
    "y_prob_fl = clf_fl.predict_proba(X_test)[:,1]\n",
    "y_val_pred_fl = clf_fl.predict(X_valid)\n",
    "y_val_prob_fl = clf_fl.predict_proba(X_valid)[:,1]\n",
    "\n",
    "\n",
    "\n",
    "print('F1 score for the vaidation set of focal loss algorithm is\\t',np.round(f1_score(y_valid, y_val_pred_fl),3))"
   ]
  },
  {
   "cell_type": "code",
   "execution_count": 147,
   "metadata": {
    "scrolled": true
   },
   "outputs": [
    {
     "data": {
      "image/png": "[encoded data removed]",
      "text/plain": [
       "<Figure size 432x288 with 2 Axes>"
      ]
     },
     "metadata": {},
     "output_type": "display_data"
    },
    {
     "data": {
      "text/html": [
       "<div>\n",
       "<style scoped>\n",
       "    .dataframe tbody tr th:only-of-type {\n",
       "        vertical-align: middle;\n",
       "    }\n",
       "\n",
       "    .dataframe tbody tr th {\n",
       "        vertical-align: top;\n",
       "    }\n",
       "\n",
       "    .dataframe thead th {\n",
       "        text-align: right;\n",
       "    }\n",
       "</style>\n",
       "<table border=\"1\" class=\"dataframe\">\n",
       "  <thead>\n",
       "    <tr style=\"text-align: right;\">\n",
       "      <th>Metrics</th>\n",
       "      <th>Negative</th>\n",
       "      <th>Positive</th>\n",
       "    </tr>\n",
       "    <tr>\n",
       "      <th>Class</th>\n",
       "      <th></th>\n",
       "      <th></th>\n",
       "    </tr>\n",
       "  </thead>\n",
       "  <tbody>\n",
       "    <tr>\n",
       "      <td>Precision</td>\n",
       "      <td>0.952884</td>\n",
       "      <td>0.312727</td>\n",
       "    </tr>\n",
       "    <tr>\n",
       "      <td>Recall</td>\n",
       "      <td>0.861233</td>\n",
       "      <td>0.597222</td>\n",
       "    </tr>\n",
       "    <tr>\n",
       "      <td>F</td>\n",
       "      <td>0.904744</td>\n",
       "      <td>0.410501</td>\n",
       "    </tr>\n",
       "    <tr>\n",
       "      <td>Support</td>\n",
       "      <td>1362.000000</td>\n",
       "      <td>144.000000</td>\n",
       "    </tr>\n",
       "  </tbody>\n",
       "</table>\n",
       "</div>"
      ],
      "text/plain": [
       "Metrics       Negative    Positive\n",
       "Class                             \n",
       "Precision     0.952884    0.312727\n",
       "Recall        0.861233    0.597222\n",
       "F             0.904744    0.410501\n",
       "Support    1362.000000  144.000000"
      ]
     },
     "metadata": {},
     "output_type": "display_data"
    },
    {
     "name": "stdout",
     "output_type": "stream",
     "text": [
      "The MCC is\t 0.35\n",
      "The cost of miscalssification under the direct optimized model is \t 0.4\n"
     ]
    }
   ],
   "source": [
    "plt.title('Test Metrics for direct minimizing pre-given cost\\n')\n",
    "get_metrics(y_test, y_pred_direct)\n",
    "print('The MCC is\\t', np.round(matthews_corrcoef(y_test, y_pred_direct),2)) \n",
    "print('The cost of miscalssification under the direct optimized model is \\t',np.round(Cost(y_pred_direct, y_test, c_p, c_n),2))\n",
    "\n"
   ]
  },
  {
   "cell_type": "code",
   "execution_count": 148,
   "metadata": {
    "scrolled": true
   },
   "outputs": [
    {
     "data": {
      "image/png": "[encoded data removed]",
      "text/plain": [
       "<Figure size 432x288 with 2 Axes>"
      ]
     },
     "metadata": {},
     "output_type": "display_data"
    },
    {
     "data": {
      "text/html": [
       "<div>\n",
       "<style scoped>\n",
       "    .dataframe tbody tr th:only-of-type {\n",
       "        vertical-align: middle;\n",
       "    }\n",
       "\n",
       "    .dataframe tbody tr th {\n",
       "        vertical-align: top;\n",
       "    }\n",
       "\n",
       "    .dataframe thead th {\n",
       "        text-align: right;\n",
       "    }\n",
       "</style>\n",
       "<table border=\"1\" class=\"dataframe\">\n",
       "  <thead>\n",
       "    <tr style=\"text-align: right;\">\n",
       "      <th>Metrics</th>\n",
       "      <th>Negative</th>\n",
       "      <th>Positive</th>\n",
       "    </tr>\n",
       "    <tr>\n",
       "      <th>Class</th>\n",
       "      <th></th>\n",
       "      <th></th>\n",
       "    </tr>\n",
       "  </thead>\n",
       "  <tbody>\n",
       "    <tr>\n",
       "      <td>Precision</td>\n",
       "      <td>0.937412</td>\n",
       "      <td>0.654762</td>\n",
       "    </tr>\n",
       "    <tr>\n",
       "      <td>Recall</td>\n",
       "      <td>0.978708</td>\n",
       "      <td>0.381944</td>\n",
       "    </tr>\n",
       "    <tr>\n",
       "      <td>F</td>\n",
       "      <td>0.957615</td>\n",
       "      <td>0.482456</td>\n",
       "    </tr>\n",
       "    <tr>\n",
       "      <td>Support</td>\n",
       "      <td>1362.000000</td>\n",
       "      <td>144.000000</td>\n",
       "    </tr>\n",
       "  </tbody>\n",
       "</table>\n",
       "</div>"
      ],
      "text/plain": [
       "Metrics       Negative    Positive\n",
       "Class                             \n",
       "Precision     0.937412    0.654762\n",
       "Recall        0.978708    0.381944\n",
       "F             0.957615    0.482456\n",
       "Support    1362.000000  144.000000"
      ]
     },
     "metadata": {},
     "output_type": "display_data"
    },
    {
     "name": "stdout",
     "output_type": "stream",
     "text": [
      "F1= 0.482 \n",
      "\n",
      "The MCC is\t 0.46\n",
      "The cost of miscalssification under the focal loss model is \t 0.43\n"
     ]
    }
   ],
   "source": [
    "plt.title('Test Metrics for focal loss classifier\\n')\n",
    "get_metrics(y_test, y_pred_fl)\n",
    "print('F1=',np.round(f1_score(y_test, y_pred_fl),3),'\\n')\n",
    "print('The MCC is\\t', np.round(matthews_corrcoef(y_test, y_pred_fl),2))\n",
    "print('The cost of miscalssification under the focal loss model is \\t',np.round(Cost(y_pred_fl, y_test, c_p, c_n),2))"
   ]
  },
  {
   "cell_type": "code",
   "execution_count": 149,
   "metadata": {},
   "outputs": [
    {
     "data": {
      "image/png": "[encoded data removed]",
      "text/plain": [
       "<Figure size 432x288 with 2 Axes>"
      ]
     },
     "metadata": {},
     "output_type": "display_data"
    }
   ],
   "source": [
    "plt.title('Return Metrics for focal loss classifier\\n')\n",
    "get_return_metrics(y_test, y_pred_fl,b_p,c_p)\n"
   ]
  },
  {
   "cell_type": "markdown",
   "metadata": {},
   "source": [
    "## Post Processing -- Changing decision threshold\n",
    "\n",
    "Note that there is no learning in this stage, this algorithm simply find the right level of conpromise for what you need to optimize.\n",
    "\n",
    "Here, we consider two goals:\n",
    "1. Reduce the cost associated with misclassification: minimize expected cost for misclassification\n",
    "2. Achieve impartitial recogonition results on both classes: maximize F1 score\n",
    "    \n",
    "To this end, let us define two searching functions: \n",
    "1. GetMaxF1Threshold, \n",
    "2. GetMaxReturnThreshold, and\n",
    "3. GetMinCostThreshold\n",
    "\n",
    "It is trivial to include other metrics to optimize, as a proof of concept exercise, we only optimize F1 score or the cost for miscalssifications.    "
   ]
  },
  {
   "cell_type": "code",
   "execution_count": 22,
   "metadata": {},
   "outputs": [],
   "source": [
    "## Varying threshold to find the highest F1 score\n",
    "def GetMaxF1Threshold(y_true,y_pred,y_pred_prob):\n",
    "\n",
    "    y_pred_cs = np.ones(y_true.shape)\n",
    "    cmin = 999999\n",
    "    vmax = -999999\n",
    "    pmax = 0\n",
    "\n",
    "    for theta in np.linspace(0,1,10):\n",
    "\n",
    "        y_pred_cs = np.ones(y_pred.shape)\n",
    "        y_pred_cs[y_pred_prob <= theta] = 0\n",
    "        y_pred_cs[y_pred_prob > theta] = 1\n",
    "   \n",
    "        # Confusion metrix for each thredhold\n",
    "        cm = confusion_matrix(y_true, y_pred_cs)\n",
    " \n",
    "\n",
    "        class_names =  [ 'Continuing Care'] \n",
    "        metrics = np.array( precision_recall_fscore_support(y_true, y_pred_cs,beta=1,average ='binary') )\n",
    "        #print('theta\\t',theta,'matric\\t',metrics,'\\n')\n",
    "    \n",
    "        df_cm = pd.DataFrame(metrics, index=['Precision', 'Recall', 'F','Support'], columns = class_names)\n",
    "        \n",
    "        df_cm.index.name = 'Class'\n",
    "        df_cm.columns.name = 'Metrics'\n",
    "        #cost_to_be_mimimized = Cost(y_pred_cs, y_true, c_p, c_n)\n",
    "        var_to_be_maximized =  metrics[2]\n",
    "    \n",
    "\n",
    "        if  vmax < var_to_be_maximized:\n",
    "            vmax = (var_to_be_maximized)\n",
    "            pmax = theta\n",
    "\n",
    "    #print(f'\\n On the validation set, the best cutoffs F1 = {np.around(vmax,3)} for negative class <{np.around(pmax,2)},  and positive class >{np.around(pmax,2)}')\n",
    "\n",
    "    return pmax,vmax\n"
   ]
  },
  {
   "cell_type": "code",
   "execution_count": null,
   "metadata": {},
   "outputs": [],
   "source": []
  },
  {
   "cell_type": "code",
   "execution_count": 23,
   "metadata": {},
   "outputs": [],
   "source": [
    "## Varying threshold to find the lowest misclassification cost\n",
    "def GetMinCostThreshold(y_true,y_pred,y_pred_prob,c_p,c_n):\n",
    "\n",
    "    y_pred_cs = np.ones(y_pred.shape)\n",
    "    cmin = 999999\n",
    "    vmax = -999999\n",
    "    popt = 0\n",
    "\n",
    "    for theta in np.linspace(0,1,10):\n",
    "\n",
    "        y_pred_cs = np.ones(y_pred.shape)\n",
    "        y_pred_cs[y_pred_prob <= theta] = 0\n",
    "        y_pred_cs[y_pred_prob > theta] = 1\n",
    "   \n",
    "        cost_to_be_mimimized = Cost(y_pred_cs, y_true, c_p, c_n)\n",
    "    \n",
    "        if  cmin > cost_to_be_mimimized:\n",
    "            cmin = cost_to_be_mimimized\n",
    "            popt = theta\n",
    "\n",
    "    #print(f'\\n On the validation set, the best cutoffs cost = {np.around(cmin,3)} for negative class <{np.around(popt,2)},  and positive class >{np.around(popt,2)}')\n",
    "\n",
    "    return popt,cmin\n"
   ]
  },
  {
   "cell_type": "markdown",
   "metadata": {},
   "source": [
    "#### Let us see how much the F1 score on Vanilla LightBGM can improve if we learn how to conpromise"
   ]
  },
  {
   "cell_type": "code",
   "execution_count": 24,
   "metadata": {},
   "outputs": [],
   "source": [
    "p_max_default, f1_max_default=GetMaxF1Threshold(y_valid,y_val_pred_default,y_val_prob_default)\n",
    "p_min_default, cost_min_default=GetMinCostThreshold(y_valid,y_val_pred_default,y_val_prob_default,c_p,c_n)\n"
   ]
  },
  {
   "cell_type": "markdown",
   "metadata": {},
   "source": [
    "## Combing post processing with pre-processing and customizing objective functions\n",
    "\n",
    "Although the performance of the classifier can be improved if we further turn the decision threadhold, the purpose of this section is not to beat the performance metric up to death. Rather, we use post processing as an emporical test on how fully we have pushed the model performence by the other alogorithms."
   ]
  },
  {
   "cell_type": "markdown",
   "metadata": {},
   "source": [
    "#### Recall the F1 score for scaling the weight of positive samples provided by lightBGM was rather disappointing for our dataset. Let us see if post processing can do the resecure."
   ]
  },
  {
   "cell_type": "code",
   "execution_count": 25,
   "metadata": {},
   "outputs": [],
   "source": [
    "p_max_fl, f1_max_fl=GetMaxF1Threshold(y_valid,y_val_pred_fl,y_val_prob_fl)"
   ]
  },
  {
   "cell_type": "markdown",
   "metadata": {},
   "source": [
    "### Now let us see if post processing can further reduce the cost of the cost-optimized method"
   ]
  },
  {
   "cell_type": "code",
   "execution_count": 26,
   "metadata": {},
   "outputs": [],
   "source": [
    "p_min_direct, cost_min_direct=GetMinCostThreshold(y_valid,y_val_pred_direct,y_val_prob_direct,c_p,c_n)"
   ]
  },
  {
   "cell_type": "markdown",
   "metadata": {},
   "source": [
    "### Conclusion: cost and F1 cannot be further improve via post-processing if the algorithm is already cost or F1 optimized.\n",
    "\n",
    "### But can we further reduce the cost of focal loss algorithm if we varying the decision threashold?"
   ]
  },
  {
   "cell_type": "code",
   "execution_count": 27,
   "metadata": {},
   "outputs": [],
   "source": [
    "p_min_fl, cost_min_fl=GetMinCostThreshold(y_valid,y_val_pred_fl,y_val_prob_fl,c_p,c_n)"
   ]
  },
  {
   "cell_type": "markdown",
   "metadata": {},
   "source": [
    "## Performance Comparison Summary"
   ]
  },
  {
   "cell_type": "code",
   "execution_count": 29,
   "metadata": {
    "scrolled": true
   },
   "outputs": [
    {
     "name": "stdout",
     "output_type": "stream",
     "text": [
      "+------------------------+-------------+----------+------------+\n",
      "|  Treatment/Algorithm   | ROC_AUC (↑) | Cost (↓) | Return (↑) |\n",
      "+------------------------+-------------+----------+------------+\n",
      "|         Dummy          |     0.5     |  0.669   |     0      |\n",
      "|    Vanilla lightGBM    |    0.854    |  0.427   |    365     |\n",
      "|     Cost-optimized     |    0.856    |  0.395   |    413     |\n",
      "|       Focal Loss       |    0.856    |  0.378   |    438     |\n",
      "|  Post-pross + Vanilla  |    0.854    |  0.384   |    430     |\n",
      "| Focal Loss + PostPross |    0.856    |  0.363   |    461     |\n",
      "+------------------------+-------------+----------+------------+\n",
      "\n",
      " The maximum amount of net benefit that can be realized is\t 1008\n"
     ]
    }
   ],
   "source": [
    "from prettytable import PrettyTable\n",
    "x = PrettyTable()\n",
    "\n",
    "x.field_names = [\"Treatment/Algorithm\", \"ROC_AUC (\\u2191)\", \"Cost (\\u2193)\", \\\n",
    "                 \"Return (\\u2191)\"]\n",
    "\n",
    "x.add_row([\"Dummy\",  np.round(roc_auc_score(y_test, y_prob_dummy),3),\\\n",
    "           np.round(Cost(y_pred_dummy, y_test, c_p, c_n),3),\\\n",
    "           np.round(RealizedBenefit(y_pred_dummy, y_test, b_p, c_p),2) ])\n",
    "\n",
    "x.add_row([\"Vanilla lightGBM\",  np.round(roc_auc_score(y_test, y_prob_default),3), \\\n",
    "           np.round(Cost(y_pred_default, y_test, c_p, c_n),3),\\\n",
    "          np.round(RealizedBenefit(y_pred_default, y_test, b_p, c_p),2) ])\n",
    "\n",
    "\n",
    "x.add_row([\"Cost-optimized\", np.round(roc_auc_score(y_test, y_prob_direct),3), \\\n",
    "           np.round(Cost(y_pred_direct, y_test, c_p, c_n),3),\\\n",
    "          np.round(RealizedBenefit(y_pred_direct, y_test, b_p, c_p),2) ])\n",
    "\n",
    "x.add_row([\"Focal Loss\", np.round(roc_auc_score(y_test, y_prob_fl),3), \\\n",
    "           np.round(Cost(y_pred_fl, y_test, c_p, c_n),3),\\\n",
    "          np.round(RealizedBenefit(y_pred_fl, y_test, b_p, c_p),2) ])\n",
    "\n",
    "x.add_row([\"Post-pross + Vanilla\", np.round(roc_auc_score(y_test, y_prob_default),3), \\\n",
    "           np.round(Cost(y_prob_default>p_min_default, y_test, c_p, c_n),3), \\\n",
    "          np.round(RealizedBenefit(y_prob_default>p_min_default, y_test, b_p, c_p),2) ])\n",
    "\n",
    "x.add_row([\"Focal Loss + PostPross\", np.round(roc_auc_score(y_test, y_prob_fl),3), \\\n",
    "           np.round(Cost(y_prob_fl>p_min_fl, y_test, c_p, c_n),3), \\\n",
    "          np.round(RealizedBenefit(y_prob_fl>p_min_fl, y_test, b_p, c_p),2) ])\n",
    "\n",
    "print(x)\n",
    "\n",
    "\n",
    "print(\"\\n The maximum amount of net benefit that can be realized is\\t\" ,\\\n",
    "       np.round(RealizedBenefit(y_test, y_test, b_p, c_p),2) )\n"
   ]
  },
  {
   "cell_type": "code",
   "execution_count": 150,
   "metadata": {},
   "outputs": [],
   "source": [
    "## Make up a perfect prediction\n",
    "y_pred_perfect=y_test\n",
    "y_prob_perfect=y_pred_perfect\n"
   ]
  },
  {
   "cell_type": "code",
   "execution_count": 151,
   "metadata": {
    "scrolled": true
   },
   "outputs": [
    {
     "data": {
      "image/png": "[encoded data removed]",
      "text/plain": [
       "<Figure size 432x288 with 1 Axes>"
      ]
     },
     "metadata": {},
     "output_type": "display_data"
    }
   ],
   "source": [
    "label='vanilla'\n",
    "color='b'\n",
    "\n",
    "fpr, tpr, thresholds = roc_curve(y_test, y_prob_default, pos_label=1)\n",
    "roc_auc = auc(fpr, tpr)\n",
    "\n",
    "roc_label = '{} (AUC={:.3f})'.format(label, roc_auc)\n",
    "line_up, =plt.plot(fpr, tpr, color=color, linewidth=2, label='vanilla')\n",
    "\n",
    "\n",
    "\n",
    "label='fl'\n",
    "color='g'\n",
    "\n",
    "fpr, tpr, thresholds = roc_curve(y_test, y_prob_fl, pos_label=1)\n",
    "roc_auc = auc(fpr, tpr)\n",
    "\n",
    "roc_label = '{} (AUC={:.3f})'.format(label, roc_auc)\n",
    "line_down, = plt.plot(fpr, tpr, color=color, linewidth=2, label='fl')\n",
    "\n",
    "\n",
    "\n",
    "label='perfect'\n",
    "color='r'\n",
    "\n",
    "fpr, tpr, thresholds = roc_curve(y_test, y_prob_perfect, pos_label=1)\n",
    "roc_auc = auc(fpr, tpr)\n",
    "\n",
    "roc_label = '{} (AUC={:.3f})'.format(label, roc_auc)\n",
    "line_down, = plt.plot(fpr, tpr, color=color, linewidth=2, label='perfect')\n",
    "\n",
    "#plt.legend([line_up, line_down], ['vanilla lightGBM', 'focal loss','perfect'])\n",
    "plt.legend(loc='center left', bbox_to_anchor=(1, 0.5))\n",
    "plt.show()"
   ]
  },
  {
   "cell_type": "markdown",
   "metadata": {},
   "source": [
    "So the above is a recap of what we did in the last section\n",
    "\n",
    "### Next, We discuss how the return changes as we put constraints on investment\n"
   ]
  },
  {
   "cell_type": "code",
   "execution_count": null,
   "metadata": {},
   "outputs": [],
   "source": []
  },
  {
   "cell_type": "markdown",
   "metadata": {},
   "source": [
    "We have optimized our misclassification cost on a globel level. The graph above showes how return changes according to the investment level. \n",
    "\n",
    "### We now optimize the return on each investment level via a sorting algorithm"
   ]
  },
  {
   "cell_type": "code",
   "execution_count": 152,
   "metadata": {},
   "outputs": [],
   "source": [
    "def MatchIndex(array_pred,array_prob,series_banchmark):  \n",
    "    ## make the index of prediction the same as the test set\n",
    "    array_pred=pd.Series(array_pred)              # Make pred a series\n",
    "    array_pred.index=series_banchmark.index       # Reset it's index to be the same as series_banchmark, \n",
    "                                                  # which will be y_test\n",
    "\n",
    "    array_prob=pd.Series(array_prob)              # Make prob a series\n",
    "    array_prob.index=series_banchmark.index       # Reset it's index to be the same as series_banchmark \n",
    "                                                  # which will be y_test\n",
    "\n",
    "    return array_pred,array_prob"
   ]
  },
  {
   "cell_type": "code",
   "execution_count": 153,
   "metadata": {},
   "outputs": [],
   "source": [
    "y_pred_fl,y_prob_fl=MatchIndex(y_pred_fl,y_prob_fl,y_test)                        # Focal loss\n",
    "y_pred_direct,y_prob_direct=MatchIndex(y_pred_direct,y_prob_direct,y_test)        # Cost optimized function\n",
    "y_pred_default,y_prob_default=MatchIndex(y_pred_default,y_prob_default,y_test)    # Vanilla lightGBM\n",
    "y_pred_dummy,y_prob_dummy=MatchIndex(y_pred_dummy,y_prob_dummy,y_test)            # Dummy model"
   ]
  },
  {
   "cell_type": "code",
   "execution_count": null,
   "metadata": {},
   "outputs": [],
   "source": []
  },
  {
   "cell_type": "code",
   "execution_count": 154,
   "metadata": {},
   "outputs": [],
   "source": [
    "## Make up a random prediction\n",
    "y_prob_random=pd.Series(np.random.uniform(0,1,len(y_test)))\n",
    "y_prob_random.index=y_test.index \n",
    "\n",
    "y_pred_random=pd.Series(np.where( y_prob_random<minority_proportion,1,0))\n",
    "y_pred_random.index=y_test.index"
   ]
  },
  {
   "cell_type": "code",
   "execution_count": 507,
   "metadata": {},
   "outputs": [],
   "source": [
    "InvestLev=np.linspace(0.005, 0.995, num=20)"
   ]
  },
  {
   "cell_type": "code",
   "execution_count": 486,
   "metadata": {},
   "outputs": [],
   "source": [
    "def GenerateSample(OriginalSeries,SampleIndex):\n",
    "        \n",
    "    Sample_list = []\n",
    "  \n",
    "    for i in np.arange(len(SampleIndex)):\n",
    "        Sample_list.append(OriginalSeries[SampleIndex[i]])\n",
    "\n",
    "  \n",
    "    SampleSeries = pd.Series(Sample_list)\n",
    "    \n",
    "    return SampleSeries"
   ]
  },
  {
   "cell_type": "code",
   "execution_count": 509,
   "metadata": {},
   "outputs": [],
   "source": [
    "## Make a function that ranks the prediction\n",
    "def RankTopPrediction(y_true,y_pred,y_prob,TopNum):\n",
    " \n",
    "    #  Sort y_prob from the lowest to the highest, and keep tracking the index\n",
    "    #y_index_sorted=y_prob.sort_values().index\n",
    "    #print('y_prob\\n',y_prob[:20])\n",
    "    y_prob_sorted = y_prob.sort_values(ascending = False) \n",
    "    #print('y_prob_sorted\\n',y_prob_sorted[:20])\n",
    "    y_index_sorted = y_prob_sorted.index\n",
    "    #print('Type\\t',type(y_index_sorted),'\\n')\n",
    "    #print('y_index_sorted:\\t',y_index_sorted[:100],'\\n')\n",
    "\n",
    "\n",
    "    \n",
    "    #y_pred.index = y_index_sorted\n",
    "    #print(\"y_pred via sorted index:\\t\",y_pred[:20],'\\n')\n",
    "    #y_pred_top = y_pred[:TopNum]\n",
    "    #y_pred_top=y_pred[y_index_sorted][:TopNum].copy()\n",
    "    #y_pred_top = y_pred.reindex(index = y_index_sorted)[:TopNum]\n",
    "\n",
    "    \n",
    "   \n",
    "    y_pred_top = pd.Series([1] * TopNum, index =y_index_sorted[:TopNum])\n",
    "    \n",
    "    # Match with the test set\n",
    "\n",
    "    y_true_top=y_true[y_index_sorted][:TopNum].copy()\n",
    "    #y_true_top = y_true.reindex(index = y_index_sorted)[:TopNum]\n",
    "    \n",
    "    #print(\"y_true:\\n\",y_true[:20],'\\n')\n",
    "    #y_true.index = y_index_sorted\n",
    "    #print(\"y_true via sorted index:\\n\",y_true[:20],'\\n')\n",
    "    #y_true_top = y_true[:TopNum] \n",
    "\n",
    "    \n",
    "    #print('y_pred_top:\\n',y_pred_top,'\\n')\n",
    "    #print('y_test_top counts:\\n',y_true_top.value_counts())\n",
    "\n",
    "    return y_pred_top,y_true_top\n"
   ]
  },
  {
   "cell_type": "code",
   "execution_count": 363,
   "metadata": {},
   "outputs": [],
   "source": [
    "## Make a function that ranks the prediction\n",
    "def GetReturnCurve(y_true,y_pred,y_prob,InvestLev,Benefit_P,Cost_P):    \n",
    "    ReturnLev_top = []\n",
    "    for x in InvestLev:\n",
    "        #  Number of cases to investigate\n",
    "        NumInvest=np.int(len(y_true)*x)\n",
    "        #print('NumInvest:\\t',NumInvest,'\\n')\n",
    "        \n",
    "        y_pred_top,y_true_top=RankTopPrediction(y_true,y_pred,y_prob,NumInvest)\n",
    "        \n",
    "        #print('y_true_top\\n',y_true_top,'\\n')\n",
    "        #print('y_pred_top\\n',y_pred_top,'\\n')\n",
    "        #print('y_pred_top.value\\n',y_true_top.value_counts(),'\\n')\n",
    "    \n",
    "        #print('Benefit:\\t',RealizedBenefit(y_pred_top,y_true_top,Benefit_P,Cost_P),'/n')\n",
    "        \n",
    "        ReturnLev_top.append(RealizedBenefit(y_pred_top,y_true_top,Benefit_P,Cost_P))\n",
    "    \n",
    "    return ReturnLev_top"
   ]
  },
  {
   "cell_type": "code",
   "execution_count": 510,
   "metadata": {},
   "outputs": [
    {
     "data": {
      "image/png": "[encoded data removed]",
      "text/plain": [
       "<Figure size 432x288 with 1 Axes>"
      ]
     },
     "metadata": {},
     "output_type": "display_data"
    }
   ],
   "source": [
    "## Generate return curves\n",
    "\n",
    "ReturnLev_fl_top = GetReturnCurve(y_test,y_pred_fl,y_prob_fl,InvestLev,b_p,c_p)\n",
    "ReturnLev_direct_top = GetReturnCurve(y_test,y_pred_direct,y_prob_direct,InvestLev,b_p,c_p)\n",
    "ReturnLev_default_top = GetReturnCurve(y_test,y_pred_default,y_prob_default,InvestLev,b_p,c_p)\n",
    "ReturnLev_perfect_top = GetReturnCurve(y_test,y_pred_perfect,y_prob_perfect,InvestLev,b_p,c_p)\n",
    "ReturnLev_dummy_top = GetReturnCurve(y_test,y_pred_dummy,y_prob_dummy,InvestLev,b_p,c_p)\n",
    "\n",
    "## Plot return curves\n",
    "plt.plot(InvestLev, ReturnLev_direct_top,color='Blue',label='cost')        \n",
    "#plt.plot(InvestLev, ReturnLev_random_top,'--', color='#2ca02c',label='random guess') \n",
    "plt.plot(InvestLev, ReturnLev_dummy_top,dashes=[10, 5, 20, 5], color='#8c564b',label='dummy model')\n",
    "plt.plot(InvestLev, ReturnLev_fl_top, color='#ff7f0e',label='focal loss')\n",
    "plt.plot(InvestLev, ReturnLev_default_top, color='#17becf',label='lightGBM')\n",
    "plt.plot(InvestLev, ReturnLev_perfect_top,dashes=[3, 3, 2, 2], color='#9467bd',label='perfect model')\n",
    "plt.xlabel('Investment Portion')\n",
    "plt.ylabel('Return/Profit')\n",
    "\n",
    "plt.legend(loc='center left', bbox_to_anchor=(1, 0.5))\n",
    "plt.show()\n",
    "\n",
    "StepSize=InvestLev[1]-InvestLev[0]"
   ]
  },
  {
   "cell_type": "code",
   "execution_count": 159,
   "metadata": {},
   "outputs": [
    {
     "name": "stdout",
     "output_type": "stream",
     "text": [
      "+----------------+---------+--------------------+---------------+\n",
      "|     Model      | AUC (↑) | Highest Return (↑) | Optimal Level |\n",
      "+----------------+---------+--------------------+---------------+\n",
      "|     Dummy      |  -151.0 |         1          |     0.005     |\n",
      "| Cost Optimized |  184.56 |        468         |     0.109     |\n",
      "|    lightGBM    |  185.81 |        434         |     0.318     |\n",
      "|   Focal Loss   |  190.81 |        497         |     0.266     |\n",
      "|    Perfect     |  335.04 |        988         |     0.109     |\n",
      "+----------------+---------+--------------------+---------------+\n"
     ]
    }
   ],
   "source": [
    "x = PrettyTable()\n",
    "\n",
    "x.field_names = [\"Model\", \"AUC (\\u2191)\", \"Highest Return (\\u2191)\", \\\n",
    "                 \"Optimal Level\"]\n",
    "\n",
    "\n",
    "\n",
    "#x.add_row([\"Random\",  np.round(sum(ReturnLev_random_top)*StepSize,2),\\\n",
    "#           np.round(max(ReturnLev_random_top),2),\\\n",
    "#           np.round( InvestLev[np.argmax(ReturnLev_random_top)] ,3) ,\\\n",
    "#            ])\n",
    "\n",
    "x.add_row([\"Dummy\",  np.round(sum(ReturnLev_dummy_top)*StepSize,2),\\\n",
    "           np.round(max(ReturnLev_dummy_top),2),\\\n",
    "           np.round( InvestLev[np.argmax(ReturnLev_dummy_top)] ,3) ,\\\n",
    "            ])\n",
    "\n",
    "x.add_row([\"Cost Optimized\",  np.round(sum(ReturnLev_direct_top)*StepSize,2),\\\n",
    "           np.round(max(ReturnLev_direct_top),2),\\\n",
    "           np.round( InvestLev[np.argmax(ReturnLev_direct_top)] ,3) ,\\\n",
    "            ])\n",
    "\n",
    "x.add_row([\"lightGBM\",  np.round(sum(ReturnLev_default_top)*StepSize,2),\\\n",
    "           np.round(max(ReturnLev_default_top),2),\\\n",
    "           np.round( InvestLev[np.argmax(ReturnLev_default_top)] ,3) ,\\\n",
    "            ])\n",
    "\n",
    "x.add_row([\"Focal Loss\",  np.round(sum(ReturnLev_fl_top)*StepSize,2),\\\n",
    "           np.round(max(ReturnLev_fl_top),2),\\\n",
    "           np.round( InvestLev[np.argmax(ReturnLev_fl_top)] ,3) ,\\\n",
    "            ])\n",
    "\n",
    "x.add_row([\"Perfect\",  np.round(sum(ReturnLev_perfect_top)*StepSize,2),\\\n",
    "           np.round(max(ReturnLev_perfect_top),2),\\\n",
    "           np.round( InvestLev[np.argmax(ReturnLev_perfect_top)] ,3) ,\\\n",
    "            ])\n",
    "\n",
    "print(x)"
   ]
  },
  {
   "cell_type": "markdown",
   "metadata": {},
   "source": [
    "## Now let's focus on the return curve one modeland, and see how we can get confidence band on return curve\n",
    "For the exercise, we look at the confidence interval for the focal loss function\n",
    "\n",
    "\n",
    "__In terms of the incomplete coverage of the domain, Scope compliance__, probability helps to understand and quantify the expected distribution and density of observations in the domain.\n",
    "\n",
    "__In terms of noisy observations__, \n",
    "Uncertainty caused by data quality\n",
    "limitations during model application\n",
    "\n",
    "__In terms of model error__, probability helps to understand and quantify the expected capability and variance in performance of our predictive models when applied to new data."
   ]
  },
  {
   "cell_type": "markdown",
   "metadata": {},
   "source": [
    "### let's first define a few functions for boostrapping and calcualting statistical inferences\n",
    "1. Boostraping index\n",
    "2. Calculate upper and lower alpha/2 percentile, mean, and median"
   ]
  },
  {
   "cell_type": "code",
   "execution_count": 334,
   "metadata": {},
   "outputs": [],
   "source": [
    "## Boostrapping the test samples\n",
    "\n",
    "def GenerateResampleIndex(sample,NumReSample=100,LenReSample=1000):\n",
    "    print('index size\\t',np.array(sample.index).size,'\\n')\n",
    "    ResampleIndex=np.random.choice(np.array(sample.index), \\\n",
    "                  (LenReSample,NumReSample), replace = True)\n",
    "    \n",
    "    return ResampleIndex  "
   ]
  },
  {
   "cell_type": "code",
   "execution_count": 511,
   "metadata": {},
   "outputs": [],
   "source": [
    "## Draw sample return curves from dest data\n",
    "\n",
    "def GetResampleReturnCurves(y_true,y_pred, y_prob, NumReSample, ResampleIndex, InvestmentLev, B_p,C_p ):\n",
    "    from numpy import empty\n",
    "    #ReturnRange = empty([ResampleIndex.shape[0],ResampleIndex.shape[1]])\n",
    "    ReturnCurve_sample=[]\n",
    "    for x in np.arange(NumReSample):  #Each col of the ResampleIndex array is a subset of y_test or y_pred index\n",
    "    \n",
    "        #y_true_sample = pd.Series(y_true[ResampleIndex[:,x]])\n",
    "        #y_pred_sample = pd.Series(y_pred[ResampleIndex[:,x]])\n",
    "        #y_prob_sample = pd.Series(y_prob[ResampleIndex[:,x]])\n",
    "        \n",
    "        y_true_sample = GenerateSample(y_true,ResampleIndex[:,x])\n",
    "        y_pred_sample = GenerateSample(y_pred,ResampleIndex[:,x])\n",
    "        y_prob_sample = GenerateSample(y_prob,ResampleIndex[:,x])\n",
    "        \n",
    "        \n",
    "        y_pred_sample,y_prob_sample=MatchIndex(y_pred_sample,y_prob_sample,y_true_sample) \n",
    "        \n",
    "        #print('y [resemple index]:\\n',y_true_sample,'\\n\\n')\n",
    "        #print('y_prob [resemple index]:\\n',y_prob_sample,'\\n\\n')\n",
    "        print('Trail\\t',x,'\\n',y_true_sample.value_counts())\n",
    "    \n",
    "        ReturnCurve_sample.append(GetReturnCurve(y_true_sample,y_pred_sample,y_prob_sample,InvestmentLev,B_p,C_p))\n",
    "    return  ReturnCurve_sample"
   ]
  },
  {
   "cell_type": "code",
   "execution_count": 133,
   "metadata": {},
   "outputs": [],
   "source": [
    "## Calcualte the upper and lower 5 percentile of all sampled return curves\n",
    "## Default: calculate 95% confidence intervals (100 - alpha)\n",
    "\n",
    "def GetStatisticalMeasures(alpha , SampleMatrix, AxisToCal=0):\n",
    "    from numpy import percentile\n",
    "    # calculate lower percentile (e.g. 2.5)\n",
    "    lower_p = alpha / 2.0\n",
    "    # retrieve observation at lower percentile\n",
    "    lower = percentile(SampleMatrix, lower_p, axis = AxisToCal)\n",
    "\n",
    "    # calculate upper percentile (e.g. 97.5)\n",
    "    upper_p = (100 - alpha) + (alpha / 2.0)\n",
    "    # retrieve observation at upper percentile\n",
    "    upper = percentile(SampleMatrix, upper_p, axis = AxisToCal)\n",
    "\n",
    "    median= percentile(SampleMatrix, 50, axis = AxisToCal)\n",
    "    mean=np.mean(SampleMatrix, axis = AxisToCal)\n",
    "    \n",
    "    return upper, lower, median, mean"
   ]
  },
  {
   "cell_type": "markdown",
   "metadata": {},
   "source": [
    "### Uncertainaty from model error -- boostraping in the test data\n",
    "In this case, we use the original model which is trained on the original data set. We boostrap from the test data set to get a range of possible return curves"
   ]
  },
  {
   "cell_type": "code",
   "execution_count": 518,
   "metadata": {},
   "outputs": [
    {
     "name": "stdout",
     "output_type": "stream",
     "text": [
      "index size\t 1506 \n",
      "\n",
      "[[7009 6928  223 ... 1488 4736 2891]\n",
      " [4545 6118 5216 ... 7090  790 5870]\n",
      " [3642 1784 3644 ... 2994 2076 4270]\n",
      " ...\n",
      " [1277 5463 1168 ... 7304 1381  148]\n",
      " [6748 5497 4135 ...  266 6894 4413]\n",
      " [6997 4900 6951 ... 2109  782 6234]]\n",
      "Trail\t 0 \n",
      " 0.0    1360\n",
      "1.0     140\n",
      "dtype: int64\n",
      "Trail\t 1 \n",
      " 0.0    1368\n",
      "1.0     132\n",
      "dtype: int64\n",
      "Trail\t 2 \n",
      " 0.0    1350\n",
      "1.0     150\n",
      "dtype: int64\n",
      "Trail\t 3 \n",
      " 0.0    1345\n",
      "1.0     155\n",
      "dtype: int64\n",
      "Trail\t 4 \n",
      " 0.0    1360\n",
      "1.0     140\n",
      "dtype: int64\n",
      "Trail\t 5 \n",
      " 0.0    1369\n",
      "1.0     131\n",
      "dtype: int64\n",
      "Trail\t 6 \n",
      " 0.0    1355\n",
      "1.0     145\n",
      "dtype: int64\n",
      "Trail\t 7 \n",
      " 0.0    1378\n",
      "1.0     122\n",
      "dtype: int64\n",
      "Trail\t 8 \n",
      " 0.0    1361\n",
      "1.0     139\n",
      "dtype: int64\n",
      "Trail\t 9 \n",
      " 0.0    1374\n",
      "1.0     126\n",
      "dtype: int64\n",
      "Trail\t 10 \n",
      " 0.0    1366\n",
      "1.0     134\n",
      "dtype: int64\n",
      "Trail\t 11 \n",
      " 0.0    1364\n",
      "1.0     136\n",
      "dtype: int64\n",
      "Trail\t 12 \n",
      " 0.0    1327\n",
      "1.0     173\n",
      "dtype: int64\n",
      "Trail\t 13 \n",
      " 0.0    1334\n",
      "1.0     166\n",
      "dtype: int64\n",
      "Trail\t 14 \n",
      " 0.0    1347\n",
      "1.0     153\n",
      "dtype: int64\n",
      "Trail\t 15 \n",
      " 0.0    1350\n",
      "1.0     150\n",
      "dtype: int64\n",
      "Trail\t 16 \n",
      " 0.0    1362\n",
      "1.0     138\n",
      "dtype: int64\n",
      "Trail\t 17 \n",
      " 0.0    1351\n",
      "1.0     149\n",
      "dtype: int64\n",
      "Trail\t 18 \n",
      " 0.0    1365\n",
      "1.0     135\n",
      "dtype: int64\n",
      "Trail\t 19 \n",
      " 0.0    1358\n",
      "1.0     142\n",
      "dtype: int64\n",
      "Trail\t 20 \n",
      " 0.0    1355\n",
      "1.0     145\n",
      "dtype: int64\n",
      "Trail\t 21 \n",
      " 0.0    1355\n",
      "1.0     145\n",
      "dtype: int64\n",
      "Trail\t 22 \n",
      " 0.0    1359\n",
      "1.0     141\n",
      "dtype: int64\n",
      "Trail\t 23 \n",
      " 0.0    1354\n",
      "1.0     146\n",
      "dtype: int64\n",
      "Trail\t 24 \n",
      " 0.0    1362\n",
      "1.0     138\n",
      "dtype: int64\n",
      "Trail\t 25 \n",
      " 0.0    1360\n",
      "1.0     140\n",
      "dtype: int64\n",
      "Trail\t 26 \n",
      " 0.0    1348\n",
      "1.0     152\n",
      "dtype: int64\n",
      "Trail\t 27 \n",
      " 0.0    1357\n",
      "1.0     143\n",
      "dtype: int64\n",
      "Trail\t 28 \n",
      " 0.0    1370\n",
      "1.0     130\n",
      "dtype: int64\n",
      "Trail\t 29 \n",
      " 0.0    1371\n",
      "1.0     129\n",
      "dtype: int64\n",
      "Trail\t 30 \n",
      " 0.0    1361\n",
      "1.0     139\n",
      "dtype: int64\n",
      "Trail\t 31 \n",
      " 0.0    1349\n",
      "1.0     151\n",
      "dtype: int64\n",
      "Trail\t 32 \n",
      " 0.0    1375\n",
      "1.0     125\n",
      "dtype: int64\n",
      "Trail\t 33 \n",
      " 0.0    1338\n",
      "1.0     162\n",
      "dtype: int64\n",
      "Trail\t 34 \n",
      " 0.0    1348\n",
      "1.0     152\n",
      "dtype: int64\n",
      "Trail\t 35 \n",
      " 0.0    1344\n",
      "1.0     156\n",
      "dtype: int64\n",
      "Trail\t 36 \n",
      " 0.0    1361\n",
      "1.0     139\n",
      "dtype: int64\n",
      "Trail\t 37 \n",
      " 0.0    1376\n",
      "1.0     124\n",
      "dtype: int64\n",
      "Trail\t 38 \n",
      " 0.0    1364\n",
      "1.0     136\n",
      "dtype: int64\n",
      "Trail\t 39 \n",
      " 0.0    1337\n",
      "1.0     163\n",
      "dtype: int64\n",
      "Trail\t 40 \n",
      " 0.0    1355\n",
      "1.0     145\n",
      "dtype: int64\n",
      "Trail\t 41 \n",
      " 0.0    1364\n",
      "1.0     136\n",
      "dtype: int64\n",
      "Trail\t 42 \n",
      " 0.0    1352\n",
      "1.0     148\n",
      "dtype: int64\n",
      "Trail\t 43 \n",
      " 0.0    1338\n",
      "1.0     162\n",
      "dtype: int64\n",
      "Trail\t 44 \n",
      " 0.0    1380\n",
      "1.0     120\n",
      "dtype: int64\n",
      "Trail\t 45 \n",
      " 0.0    1374\n",
      "1.0     126\n",
      "dtype: int64\n",
      "Trail\t 46 \n",
      " 0.0    1368\n",
      "1.0     132\n",
      "dtype: int64\n",
      "Trail\t 47 \n",
      " 0.0    1353\n",
      "1.0     147\n",
      "dtype: int64\n",
      "Trail\t 48 \n",
      " 0.0    1357\n",
      "1.0     143\n",
      "dtype: int64\n",
      "Trail\t 49 \n",
      " 0.0    1354\n",
      "1.0     146\n",
      "dtype: int64\n",
      "Trail\t 50 \n",
      " 0.0    1343\n",
      "1.0     157\n",
      "dtype: int64\n",
      "Trail\t 51 \n",
      " 0.0    1350\n",
      "1.0     150\n",
      "dtype: int64\n",
      "Trail\t 52 \n",
      " 0.0    1346\n",
      "1.0     154\n",
      "dtype: int64\n",
      "Trail\t 53 \n",
      " 0.0    1350\n",
      "1.0     150\n",
      "dtype: int64\n",
      "Trail\t 54 \n",
      " 0.0    1367\n",
      "1.0     133\n",
      "dtype: int64\n",
      "Trail\t 55 \n",
      " 0.0    1376\n",
      "1.0     124\n",
      "dtype: int64\n",
      "Trail\t 56 \n",
      " 0.0    1336\n",
      "1.0     164\n",
      "dtype: int64\n",
      "Trail\t 57 \n",
      " 0.0    1351\n",
      "1.0     149\n",
      "dtype: int64\n",
      "Trail\t 58 \n",
      " 0.0    1369\n",
      "1.0     131\n",
      "dtype: int64\n",
      "Trail\t 59 \n",
      " 0.0    1356\n",
      "1.0     144\n",
      "dtype: int64\n",
      "Trail\t 60 \n",
      " 0.0    1343\n",
      "1.0     157\n",
      "dtype: int64\n",
      "Trail\t 61 \n",
      " 0.0    1370\n",
      "1.0     130\n",
      "dtype: int64\n",
      "Trail\t 62 \n",
      " 0.0    1354\n",
      "1.0     146\n",
      "dtype: int64\n",
      "Trail\t 63 \n",
      " 0.0    1348\n",
      "1.0     152\n",
      "dtype: int64\n",
      "Trail\t 64 \n",
      " 0.0    1352\n",
      "1.0     148\n",
      "dtype: int64\n",
      "Trail\t 65 \n",
      " 0.0    1365\n",
      "1.0     135\n",
      "dtype: int64\n",
      "Trail\t 66 \n",
      " 0.0    1361\n",
      "1.0     139\n",
      "dtype: int64\n",
      "Trail\t 67 \n",
      " 0.0    1345\n",
      "1.0     155\n",
      "dtype: int64\n",
      "Trail\t 68 \n",
      " 0.0    1350\n",
      "1.0     150\n",
      "dtype: int64\n",
      "Trail\t 69 \n",
      " 0.0    1373\n",
      "1.0     127\n",
      "dtype: int64\n",
      "Trail\t 70 \n",
      " 0.0    1356\n",
      "1.0     144\n",
      "dtype: int64\n",
      "Trail\t 71 \n",
      " 0.0    1345\n",
      "1.0     155\n",
      "dtype: int64\n",
      "Trail\t 72 \n",
      " 0.0    1366\n",
      "1.0     134\n",
      "dtype: int64\n",
      "Trail\t 73 \n",
      " 0.0    1337\n",
      "1.0     163\n",
      "dtype: int64\n",
      "Trail\t 74 \n",
      " 0.0    1338\n",
      "1.0     162\n",
      "dtype: int64\n",
      "Trail\t 75 \n",
      " 0.0    1353\n",
      "1.0     147\n",
      "dtype: int64\n",
      "Trail\t 76 \n",
      " 0.0    1345\n",
      "1.0     155\n",
      "dtype: int64\n",
      "Trail\t 77 \n",
      " 0.0    1351\n",
      "1.0     149\n",
      "dtype: int64\n",
      "Trail\t 78 \n",
      " 0.0    1337\n",
      "1.0     163\n",
      "dtype: int64\n",
      "Trail\t 79 \n",
      " 0.0    1362\n",
      "1.0     138\n",
      "dtype: int64\n",
      "Trail\t 80 \n",
      " 0.0    1348\n",
      "1.0     152\n",
      "dtype: int64\n",
      "Trail\t 81 \n",
      " 0.0    1355\n",
      "1.0     145\n",
      "dtype: int64\n",
      "Trail\t 82 \n",
      " 0.0    1364\n",
      "1.0     136\n",
      "dtype: int64\n",
      "Trail\t 83 \n",
      " 0.0    1380\n",
      "1.0     120\n",
      "dtype: int64\n",
      "Trail\t 84 \n",
      " 0.0    1370\n",
      "1.0     130\n",
      "dtype: int64\n",
      "Trail\t 85 \n",
      " 0.0    1346\n",
      "1.0     154\n",
      "dtype: int64\n",
      "Trail\t 86 \n",
      " 0.0    1367\n",
      "1.0     133\n",
      "dtype: int64\n",
      "Trail\t 87 \n",
      " 0.0    1360\n",
      "1.0     140\n",
      "dtype: int64\n",
      "Trail\t 88 \n",
      " 0.0    1350\n",
      "1.0     150\n",
      "dtype: int64\n",
      "Trail\t 89 \n",
      " 0.0    1352\n",
      "1.0     148\n",
      "dtype: int64\n",
      "Trail\t 90 \n",
      " 0.0    1365\n",
      "1.0     135\n",
      "dtype: int64\n",
      "Trail\t 91 \n",
      " 0.0    1363\n",
      "1.0     137\n",
      "dtype: int64\n",
      "Trail\t 92 \n",
      " 0.0    1356\n",
      "1.0     144\n",
      "dtype: int64\n",
      "Trail\t 93 \n",
      " 0.0    1360\n",
      "1.0     140\n",
      "dtype: int64\n",
      "Trail\t 94 \n",
      " 0.0    1348\n",
      "1.0     152\n",
      "dtype: int64\n",
      "Trail\t 95 \n",
      " 0.0    1372\n",
      "1.0     128\n",
      "dtype: int64\n",
      "Trail\t 96 \n",
      " 0.0    1366\n",
      "1.0     134\n",
      "dtype: int64\n",
      "Trail\t 97 \n",
      " 0.0    1345\n",
      "1.0     155\n",
      "dtype: int64\n",
      "Trail\t 98 \n",
      " 0.0    1345\n",
      "1.0     155\n",
      "dtype: int64\n",
      "Trail\t 99 \n",
      " 0.0    1355\n",
      "1.0     145\n",
      "dtype: int64\n"
     ]
    }
   ],
   "source": [
    "NumSubSample = 100\n",
    "LenSubSample = 1500\n",
    "ResampleIndex= GenerateResampleIndex(y_test,NumSubSample,LenSubSample)\n",
    "print(ResampleIndex)\n",
    "ReturnCurve_fl_sample = GetResampleReturnCurves(y_test,y_pred_fl, y_prob_fl, NumSubSample, ResampleIndex, InvestLev, b_p,c_p)\n",
    "#print('ReturnCurve_fl_sample\\n',ReturnCurve_fl_sample)\n",
    "upper_fl, lower_fl, median_fl, mean_fl = GetStatisticalMeasures(5, ReturnCurve_fl_sample, AxisToCal=0)\n"
   ]
  },
  {
   "cell_type": "code",
   "execution_count": 380,
   "metadata": {},
   "outputs": [
    {
     "data": {
      "text/plain": [
       "210"
      ]
     },
     "execution_count": 380,
     "metadata": {},
     "output_type": "execute_result"
    }
   ],
   "source": [
    "54*7-(168)"
   ]
  },
  {
   "cell_type": "code",
   "execution_count": 517,
   "metadata": {},
   "outputs": [
    {
     "name": "stdout",
     "output_type": "stream",
     "text": [
      "[41, 363, 373, 383, 504, 474, 436, 422, 352, 282, 243, 165, 127, 49, -13, -91, -170, -248, -318, -396]\n"
     ]
    }
   ],
   "source": [
    "print(ReturnCurve_fl_sample[50])"
   ]
  },
  {
   "cell_type": "code",
   "execution_count": 513,
   "metadata": {},
   "outputs": [
    {
     "name": "stdout",
     "output_type": "stream",
     "text": [
      "Trail\t 1 \n",
      " 0.0    1372\n",
      "1.0     128\n",
      "Name: episodeDispositionCode, dtype: int64 \n",
      "\n",
      "\n",
      "NumInvest:\t 85 \n",
      "\n"
     ]
    }
   ],
   "source": [
    "ResampleIndex[:,0].size\n",
    "\n",
    "y_true_sample = pd.Series(y_test[ResampleIndex[:,0]])\n",
    "y_pred_sample = pd.Series(y_pred_fl[ResampleIndex[:,0]])\n",
    "y_prob_sample = pd.Series(y_prob_fl[ResampleIndex[:,0]])\n",
    "print('Trail\\t',1,'\\n',y_true_sample.value_counts(),'\\n\\n')\n",
    "\n",
    "NumInvest=np.int(len(y_true_sample)*InvestLev[1])\n",
    "print('NumInvest:\\t',NumInvest,'\\n')\n",
    "        \n",
    "y_pred_top,y_true_top=RankTopPrediction(y_true_sample,y_pred_sample,y_prob_sample,NumInvest)\n",
    "#print('y_true_top value count\\n',y_true_top.value_counts(),'\\n\\n')\n",
    "#print('benefit:\\t',RealizedBenefit(y_pred_top,y_true_top,b_p,c_p) )"
   ]
  },
  {
   "cell_type": "code",
   "execution_count": 432,
   "metadata": {},
   "outputs": [
    {
     "data": {
      "text/plain": [
       "-84"
      ]
     },
     "execution_count": 432,
     "metadata": {},
     "output_type": "execute_result"
    }
   ],
   "source": [
    "52*7-(448)"
   ]
  },
  {
   "cell_type": "code",
   "execution_count": 476,
   "metadata": {},
   "outputs": [
    {
     "name": "stdout",
     "output_type": "stream",
     "text": [
      "df_empty\n",
      " [4, 5, 5, 7, 8, 6, 7] \n",
      "\n",
      "newlist\n",
      " 5    4\n",
      "4    5\n",
      "4    5\n",
      "2    7\n",
      "1    8\n",
      "3    6\n",
      "2    7\n",
      "dtype: int64\n"
     ]
    }
   ],
   "source": [
    "df_empty = []\n",
    "s3 = pd.Series([4, 5, 6, 7, 8], index=[5, 4, 3, 2, 1])\n",
    "index = [5, 4, 4, 2, 1,3,2,2]\n",
    "for i in np.arange(len(index)-1):\n",
    "    df_empty.append(s3.loc[index[i]])\n",
    "\n",
    "print('df_empty\\n',df_empty,'\\n')\n",
    "\n",
    "newlist = pd.Series(df_empty, index=index[:-1])\n",
    "print('newlist\\n',newlist)"
   ]
  },
  {
   "cell_type": "code",
   "execution_count": null,
   "metadata": {},
   "outputs": [],
   "source": []
  },
  {
   "cell_type": "code",
   "execution_count": null,
   "metadata": {},
   "outputs": [],
   "source": []
  },
  {
   "cell_type": "code",
   "execution_count": 521,
   "metadata": {},
   "outputs": [
    {
     "data": {
      "image/png": "[encoded data removed]",
      "text/plain": [
       "<Figure size 432x288 with 1 Axes>"
      ]
     },
     "metadata": {},
     "output_type": "display_data"
    }
   ],
   "source": [
    "## Plot return curves\n",
    "plt.plot(InvestLev, upper_fl,dashes=[10, 5, 20, 5], color='#8c564b',label='Upper 5th')\n",
    "\n",
    "plt.plot(InvestLev, ReturnCurve_fl_sample[50],color='Blue',label='Trail 1')        \n",
    "plt.plot(InvestLev, median_fl, color='#ff7f0e',label='Median')\n",
    "plt.plot(InvestLev, mean_fl, color='#17becf',label='Mean')\n",
    "\n",
    "plt.fill_between(InvestLev, upper_fl, lower_fl, alpha=0.2) # Shaded confidence band\n",
    "\n",
    "plt.plot(InvestLev, lower_fl,dashes=[3, 3, 2, 2], color='#9467bd',label='Lower 5th')\n",
    "plt.xlabel('Investment Portion')\n",
    "plt.ylabel('Return/Profit')\n",
    "\n",
    "plt.legend(loc='center left', bbox_to_anchor=(1, 0.5))\n",
    "plt.show()"
   ]
  },
  {
   "cell_type": "code",
   "execution_count": null,
   "metadata": {},
   "outputs": [],
   "source": []
  },
  {
   "cell_type": "code",
   "execution_count": null,
   "metadata": {},
   "outputs": [],
   "source": []
  },
  {
   "cell_type": "code",
   "execution_count": null,
   "metadata": {},
   "outputs": [],
   "source": []
  },
  {
   "cell_type": "markdown",
   "metadata": {},
   "source": [
    "### Uncertainaty from implete scope of available data -- Test model on synthetic data\n",
    "This case is most related to the economic shift due to covid.\n",
    " \n",
    "In absense of historical data, one can still use the frame work of stress test to assess the impact of our existing model under new conditions."
   ]
  },
  {
   "cell_type": "code",
   "execution_count": 47,
   "metadata": {},
   "outputs": [],
   "source": [
    "y_test_NumOfPos = sum(y_test==1)\n",
    "## Creat a high positive test set y_test_high, which has 1.25 times as many positive samples as the original test set\n",
    "y_test_high = y_test.copy()\n",
    "y_test_high_PosIndex = y_test_high.index[y_test==1]\n",
    "y_test_high_NegIndex = y_test_high.index[y_test==0]\n",
    "\n",
    "# Change the first sum(y_test_high==1) of nagetive samples to positive\n",
    "y_test_high.loc[y_test_high_NegIndex[:int(y_test_NumOfPos/4)]]=1\n",
    "\n",
    "\n",
    "##-------------------------------------------\n",
    "# Creat a low positive test set y_test_high, which has 0.75 times as many positive samples as the original test set\n",
    "y_test_low = y_test.copy()\n",
    "y_test_low_PosIndex = y_test_low.index[y_test==1]\n",
    "y_test_low_NegIndex = y_test_low.index[y_test==0]\n",
    "\n",
    "y_test_low.loc[y_test_low_PosIndex[:int(y_test_NumOfPos/2)]]=0\n",
    "\n",
    "\n",
    "\n"
   ]
  },
  {
   "cell_type": "code",
   "execution_count": 48,
   "metadata": {},
   "outputs": [
    {
     "name": "stdout",
     "output_type": "stream",
     "text": [
      "+----------+---------+--------+----------+\n",
      "| Scenatio | MCC (↑) | F1 (↑) | Cost (↓) |\n",
      "+----------+---------+--------+----------+\n",
      "| Original |   0.53  |  0.56  |   0.36   |\n",
      "|   High   |   0.46  |  0.49  |   0.51   |\n",
      "|   Low    |   0.42  |  0.44  |   0.23   |\n",
      "+----------+---------+--------+----------+\n"
     ]
    }
   ],
   "source": [
    "## Compare F1 scores\n",
    "\n",
    "p_max_fl, f1_max_fl=GetMaxF1Threshold(y_valid,y_val_pred_fl,y_val_prob_fl)\n",
    "p_min_fl, cost_min_fl=GetMinCostThreshold(y_valid,y_val_pred_fl,y_val_prob_fl,c_p,c_n)\n",
    "\n",
    "\n",
    "x = PrettyTable()\n",
    "\n",
    "x.field_names = [\"Scenatio\", \"MCC (\\u2191)\", \"F1 (\\u2191)\", \"Cost (\\u2193)\"]\n",
    "\n",
    "x.add_row([\"Original\", np.round(matthews_corrcoef(y_test, y_prob_fl>p_max_fl),2), \\\n",
    "        np.round(f1_score(y_test, y_prob_fl>p_max_fl),2), np.round(Cost(y_prob_fl>p_min_fl, y_test, c_p, c_n),2)])\n",
    "\n",
    "x.add_row([\"High\", np.round(matthews_corrcoef(y_test_high, y_prob_fl>p_max_fl),2), \\\n",
    "        np.round(f1_score(y_test_high, y_prob_fl>p_max_fl),2), np.round(Cost(y_prob_fl>p_min_fl, y_test_high, c_p, c_n),2)])\n",
    "\n",
    "x.add_row([\"Low\", np.round(matthews_corrcoef(y_test_low, y_prob_fl>p_max_fl),2), \\\n",
    "        np.round(f1_score(y_test_low, y_prob_fl>p_max_fl),2), np.round(Cost(y_prob_fl>p_min_fl, y_test_low, c_p, c_n),2)])\n",
    "\n",
    "print(x)"
   ]
  },
  {
   "cell_type": "code",
   "execution_count": 49,
   "metadata": {},
   "outputs": [
    {
     "data": {
      "image/png": "[encoded data removed]",
      "text/plain": [
       "<Figure size 432x288 with 1 Axes>"
      ]
     },
     "metadata": {},
     "output_type": "display_data"
    }
   ],
   "source": [
    "\n",
    "## Compare return curves\n",
    "\n",
    "ReturnLev_fl_top = GetReturnCurve(y_test,y_pred_fl,y_prob_fl,InvestLev,b_p,c_p)\n",
    "ReturnLev_fl_top_high = GetReturnCurve(y_test_high,y_pred_fl,y_prob_fl,InvestLev,b_p,c_p)\n",
    "ReturnLev_fl_top_low = GetReturnCurve(y_test_low,y_pred_fl,y_prob_fl,InvestLev,b_p,c_p)\n",
    "\n",
    "## Plot return curves\n",
    "plt.plot(InvestLev, ReturnLev_fl_top_high,color='Blue',label='High Scenario')        \n",
    "\n",
    "#plt.plot(InvestLev, ReturnLev_dummy_top,dashes=[10, 5, 20, 5], color='#8c564b',label='dummy model')\n",
    "plt.plot(InvestLev, ReturnLev_fl_top, color='#ff7f0e',label='focal loss--Original Data')\n",
    "plt.plot(InvestLev, ReturnLev_fl_top_low, color='#17becf',label='Low Scenario')\n",
    "#plt.plot(InvestLev, ReturnLev_perfect_top,dashes=[3, 3, 2, 2], color='#9467bd',label='perfect model')\n",
    "plt.xlabel('Investment Portion')\n",
    "plt.ylabel('Return/Profit')\n",
    "\n",
    "plt.legend(loc='center left', bbox_to_anchor=(1, 0.5))\n",
    "plt.show()"
   ]
  },
  {
   "cell_type": "code",
   "execution_count": null,
   "metadata": {},
   "outputs": [],
   "source": []
  },
  {
   "cell_type": "markdown",
   "metadata": {},
   "source": [
    "### Uncertainaty from noise in the training data -- use noizy train/vadilate data\n",
    "Here we need to train the model on noisy data, and test model performance and turn curve on the original test set\n",
    "There are a number of ways to create noisy data: \n",
    "    1. Add random noise\n",
    "    2. Use SMOTE to genrate more samples in the minority classe\n",
    "    3. Use SMOTE to genrate more samples in the minority classe, then replace the equivalent amount of majority class saples by the generated minority classe samples\n",
    "We use the second appraoch here.    "
   ]
  },
  {
   "cell_type": "code",
   "execution_count": 50,
   "metadata": {},
   "outputs": [],
   "source": [
    "## Make synthetic train and validation data by SMOTE method\n",
    "\n",
    "from collections import Counter\n",
    "from sklearn.datasets import make_classification\n",
    "from matplotlib import pyplot\n",
    "from numpy import where\n",
    "\n",
    "from numpy import mean\n",
    "\n",
    "from sklearn.model_selection import cross_val_score\n",
    "from sklearn.model_selection import RepeatedStratifiedKFold\n",
    "\n",
    "from imblearn.pipeline import Pipeline\n",
    "from imblearn.over_sampling import SMOTE\n",
    "from imblearn.under_sampling import RandomUnderSampler\n",
    "\n",
    "from sklearn.metrics import classification_report\n",
    "from sklearn.metrics import matthews_corrcoef\n",
    "from sklearn.metrics import roc_curve\n",
    "from sklearn.metrics import roc_auc_score\n",
    "from sklearn.metrics import auc\n",
    "\n",
    "\n",
    "# transform the imbalanced data set to balanced dataset\n",
    "oversample = SMOTE()\n",
    "y_train_NumOfPos = sum(y_train==1)\n",
    "y_valid_NumOfPos = sum(y_valid==1)\n",
    "\n",
    "\n",
    "\n",
    "X_train_SMOTE = X_train.copy()\n",
    "y_train_SMOTE = y_train.copy()\n",
    "X_valid_SMOTE = X_valid.copy()\n",
    "y_valid_SMOTE = y_valid.copy()\n",
    "\n",
    "y_train_SMOTE_PosIndex = y_train.index[y_train_SMOTE==1]\n",
    "y_train_SMOTE_NegIndex = y_train.index[y_train_SMOTE==0]\n",
    "y_valid_SMOTE_PosIndex = y_valid.index[y_valid_SMOTE==1]\n",
    "y_valid_SMOTE_NegIndex = y_valid.index[y_valid_SMOTE==0]\n",
    "\n",
    "X_train_resample, y_train_resampled = SMOTE().fit_resample(X_train, y_train)\n",
    "X_valid_resample, y_valid_resampled = SMOTE().fit_resample(X_valid, y_valid)\n",
    "\n",
    "y_train_resampled_PosIndex = y_train_resampled.index[y_train_resampled==1]\n",
    "y_train_resampled_NegIndex = y_train_resampled.index[y_train_resampled==0]\n",
    "y_valid_resampled_PosIndex = y_valid_resampled.index[y_valid_resampled==1]\n",
    "y_valid_resampled_NegIndex = y_valid_resampled.index[y_valid_resampled==0]\n",
    "\n",
    "\n",
    "## Change half of the positive train and validation data to the synthetic data\n",
    "X_train_SMOTE.loc[y_train_SMOTE_PosIndex[:int(y_train_NumOfPos/2)]]\\\n",
    "= X_train_resample.loc[y_train_resampled_PosIndex[-int(y_train_NumOfPos/2):]].values\n",
    "\n",
    "X_valid_SMOTE.loc[y_valid_SMOTE_PosIndex[:int(y_valid_NumOfPos/2)]]\\\n",
    "= X_valid_resample.loc[y_valid_resampled_PosIndex[-int(y_valid_NumOfPos/2):]].values\n",
    "\n",
    "# SimMean.loc[0:11,'Tenor'] = FwdDf.loc[12:23,'Tenor'].values\n",
    "\n",
    "# summarize the new class distribution\n",
    "#print('Before transformation, the train set counter\\t',Counter(y_train))\n",
    "#print('After transformation, the train set counter\\t',Counter(y_train_SMOTE))\n",
    "\n",
    "#print(type(X_train_resample))\n",
    "\n",
    "#print(X_train[:10],'\\n')\n",
    "#print(X_train_SMOTE[:10],'\\n')"
   ]
  },
  {
   "cell_type": "code",
   "execution_count": 51,
   "metadata": {},
   "outputs": [
    {
     "name": "stdout",
     "output_type": "stream",
     "text": [
      "F1 score for the vaidation set of focal loss algorithm is\t 0.66\n"
     ]
    }
   ],
   "source": [
    "# Build a new function based using noizy training/validation data y_pred_fl_noisy\n",
    "\n",
    "# make new model on new value\n",
    "# Define alpha and gamma here\n",
    "\n",
    "## The following parameters will produce higher F1 score\n",
    "alpha=.85\n",
    "gamma=2\n",
    "\n",
    "\n",
    "focal_loss = lambda x,y: focal_loss_lgb_sk(x, y, alpha, gamma)\n",
    "eval_error = lambda x,y: focal_loss_lgb_eval_error_sk(x, y, alpha,gamma)\n",
    "\n",
    "clf_fl_noisy = lgbm.LGBMClassifier(random_state=33,\n",
    "                                early_stopping_rounds = 10,\n",
    "                                learning_rate=0.1,\n",
    "                                n_estimators=10000,\n",
    "                                objective= focal_loss)\n",
    "\n",
    "\n",
    "clf_fl_noisy.fit(\n",
    "    X_train_SMOTE,\n",
    "    y_train_SMOTE,\n",
    "    eval_set=[(X_valid_SMOTE, y_valid_SMOTE)],\n",
    "    eval_metric=eval_error,\n",
    "    verbose=False,\n",
    ")\n",
    "\n",
    "\n",
    "y_pred_fl_noisy = clf_fl_noisy.predict(X_test)\n",
    "y_prob_fl_noisy = clf_fl_noisy.predict_proba(X_test)[:,1]\n",
    "y_val_pred_fl_noisy = clf_fl_noisy.predict(X_valid_SMOTE)\n",
    "y_val_prob_fl_noisy = clf_fl_noisy.predict_proba(X_valid_SMOTE)[:,1]\n",
    "\n",
    "\n",
    "print('F1 score for the vaidation set of focal loss algorithm is\\t',\\\n",
    "      np.round(f1_score(y_valid_SMOTE, y_val_pred_fl_noisy),3))\n",
    "\n",
    "\n"
   ]
  },
  {
   "cell_type": "code",
   "execution_count": 52,
   "metadata": {},
   "outputs": [
    {
     "name": "stdout",
     "output_type": "stream",
     "text": [
      "+---------------------+---------+--------+----------+\n",
      "|       Scenatio      | MCC (↑) | F1 (↑) | Cost (↓) |\n",
      "+---------------------+---------+--------+----------+\n",
      "|       Original      |   0.53  |  0.56  |   0.36   |\n",
      "| Noisy Training Data |   0.49  |  0.52  |   0.36   |\n",
      "+---------------------+---------+--------+----------+\n"
     ]
    }
   ],
   "source": [
    "p_max_fl_noisy, f1_max_fl_noisy=GetMaxF1Threshold(y_valid_SMOTE,y_val_pred_fl_noisy,y_val_prob_fl_noisy)\n",
    "p_min_fl_noisy, cost_min_fl_noisy=GetMinCostThreshold(y_valid_SMOTE,y_val_pred_fl_noisy,y_val_prob_fl_noisy,c_p,c_n)\n",
    "\n",
    "\n",
    "x = PrettyTable()\n",
    "\n",
    "x.field_names = [\"Scenatio\", \"MCC (\\u2191)\", \"F1 (\\u2191)\", \"Cost (\\u2193)\"]\n",
    "\n",
    "x.add_row([\"Original\", np.round(matthews_corrcoef(y_test, y_prob_fl>p_max_fl),2), \\\n",
    "        np.round(f1_score(y_test, y_prob_fl>p_max_fl),2), np.round(Cost(y_prob_fl>p_min_fl, y_test, c_p, c_n),2)])\n",
    "\n",
    "x.add_row([\"Noisy Training Data\", np.round(matthews_corrcoef(y_test, y_prob_fl_noisy>p_max_fl_noisy),2), \\\n",
    "        np.round(f1_score(y_test, y_prob_fl_noisy>p_max_fl_noisy),2), \\\n",
    "           np.round(Cost(y_prob_fl_noisy>p_min_fl_noisy, y_test, c_p, c_n),2)])\n",
    "\n",
    "\n",
    "print(x)"
   ]
  },
  {
   "cell_type": "code",
   "execution_count": null,
   "metadata": {},
   "outputs": [],
   "source": []
  },
  {
   "cell_type": "code",
   "execution_count": null,
   "metadata": {},
   "outputs": [],
   "source": []
  },
  {
   "cell_type": "code",
   "execution_count": null,
   "metadata": {},
   "outputs": [],
   "source": []
  },
  {
   "cell_type": "code",
   "execution_count": 49,
   "metadata": {},
   "outputs": [
    {
     "name": "stdout",
     "output_type": "stream",
     "text": [
      "<class 'list'>\n",
      "<class 'numpy.ndarray'>\n",
      "(100, 20)\n"
     ]
    }
   ],
   "source": [
    "print(type(ReturnLev_fl_sample))\n",
    "\n",
    "ReturnLev_fl_sample= np.array(ReturnLev_fl_sample)\n",
    "\n",
    "print(type(ReturnLev_fl_sample))\n",
    "print(ReturnLev_fl_sample.shape)"
   ]
  },
  {
   "cell_type": "code",
   "execution_count": 47,
   "metadata": {},
   "outputs": [
    {
     "name": "stdout",
     "output_type": "stream",
     "text": [
      "(903, 100)\n",
      "1506\n"
     ]
    }
   ],
   "source": [
    "print(ResampleIndex.shape)\n",
    "print(len(y_test))"
   ]
  },
  {
   "cell_type": "code",
   "execution_count": 69,
   "metadata": {},
   "outputs": [
    {
     "name": "stdout",
     "output_type": "stream",
     "text": [
      "<class 'pandas.core.indexes.numeric.Int64Index'>\n"
     ]
    }
   ],
   "source": [
    "# scikit-learn bootstrap\n",
    "from sklearn.utils import resample\n",
    "# data sample\n",
    "\n",
    "# prepare bootstrap sample\n",
    "bootIndex = resample(y_test.index, replace=True, n_samples=int(len(y_test)*0.05), random_state=1)\n",
    "print(type(bootIndex))"
   ]
  },
  {
   "cell_type": "code",
   "execution_count": null,
   "metadata": {},
   "outputs": [],
   "source": []
  },
  {
   "cell_type": "code",
   "execution_count": null,
   "metadata": {},
   "outputs": [],
   "source": []
  }
 ],
 "metadata": {
  "kernelspec": {
   "display_name": "Python 3",
   "language": "python",
   "name": "python3"
  },
  "language_info": {
   "codemirror_mode": {
    "name": "ipython",
    "version": 3
   },
   "file_extension": ".py",
   "mimetype": "text/x-python",
   "name": "python",
   "nbconvert_exporter": "python",
   "pygments_lexer": "ipython3",
   "version": "3.7.4"
  }
 },
 "nbformat": 4,
 "nbformat_minor": 4
}

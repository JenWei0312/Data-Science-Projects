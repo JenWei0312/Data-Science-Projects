{
 "cells": [
  {
   "cell_type": "markdown",
   "metadata": {},
   "source": [
    "## Design of this workbook\n",
    "\n",
    "### Problem Statment\n",
    "We made a synthetic imbalanced data set by dropping the majority of the positive samples of the Bone-and-Joint deep dive data\n",
    "\n",
    "### Design of the solution\n",
    "0. Baseline model\n",
    "    - Dummy classifier\n",
    "    - Vanilla lightGBM\n",
    "1. Pre-processing\n",
    "    - SMOT(0.1) + random undersampling(0.5)\n",
    "    - Pos_class_weights\n",
    "2. Optimized objective function\n",
    "    - Cost optimized\n",
    "    - focal loss for f1 optimization\n",
    "3. Post-processing\n",
    "    - Change decisioon threshold on Vanilla lightGBM output to maximize F1/AUC\n",
    "    - Change decisioon threshold on focal loss algorithm output to minimize cost\n",
    "\n",
    "### Changing post and benefit ratio to show variations\n",
    "- point 1\n",
    "- point 2\n",
    "- point 3\n",
    "- point 4"
   ]
  },
  {
   "cell_type": "code",
   "execution_count": 109,
   "metadata": {},
   "outputs": [],
   "source": [
    "import os\n",
    "import pickle\n",
    "import pandas as pd\n",
    "import numpy as np\n",
    "from numpy import where\n",
    "from numpy import mean\n",
    "\n",
    "from sklearn.model_selection import GridSearchCV, train_test_split, cross_val_score, RepeatedStratifiedKFold, StratifiedKFold,ShuffleSplit\n",
    "\n",
    "from imblearn.over_sampling import SMOTE, ADASYN\n",
    "from imblearn.under_sampling import RandomUnderSampler\n",
    "#from sklearn.preprocessing import MinMaxScaler\n",
    "from imblearn.pipeline import Pipeline\n",
    "\n",
    "from collections import Counter\n",
    "#from sklearn.datasets import make_classification\n",
    "from matplotlib import pyplot\n",
    "\n",
    "import hyperopt\n",
    "from hyperopt import hp, tpe\n",
    "from hyperopt.fmin import fmin\n",
    "import lightgbm as lgbm\n",
    "from sklearn.dummy import DummyClassifier\n",
    "#from sklearn.model_selection import cross_val_score, StratifiedKFold, cross_val_predict,ShuffleSplit\n",
    "#from imblearn.pipeline import Pipeline\n",
    "\n",
    "from sklearn.metrics import classification_report\n",
    "from sklearn.metrics import matthews_corrcoef\n",
    "from sklearn.metrics import roc_curve\n",
    "from sklearn.metrics import roc_auc_score\n",
    "from sklearn.metrics import auc\n",
    "from sklearn.metrics import make_scorer\n",
    "from sklearn.metrics import precision_recall_fscore_support\n",
    "from sklearn.metrics import confusion_matrix\n",
    "\n",
    "import seaborn as sns\n",
    "import matplotlib.pyplot as plt\n",
    "\n",
    "from scipy.stats import bernoulli\n",
    "import math\n",
    "\n",
    "\n",
    "\n",
    "NPSEED = 1337\n",
    "np.random.seed(NPSEED)\n",
    "def warn(*args, **kwargs):\n",
    "    pass\n",
    "import warnings\n",
    "warnings.warn = warn"
   ]
  },
  {
   "cell_type": "code",
   "execution_count": null,
   "metadata": {},
   "outputs": [],
   "source": []
  },
  {
   "cell_type": "code",
   "execution_count": null,
   "metadata": {},
   "outputs": [],
   "source": []
  },
  {
   "cell_type": "markdown",
   "metadata": {},
   "source": [
    "### Prototype 1: Unequal value in each sample"
   ]
  },
  {
   "cell_type": "markdown",
   "metadata": {},
   "source": [
    "#### Step 1. Simulate sample data set\n",
    "1. 10000 samples\n",
    "2. pos_rate =0.4, Bernoulli distribution\n",
    "3. Value in each sample ~ logN(500,200), or N(500,100)"
   ]
  },
  {
   "cell_type": "code",
   "execution_count": 176,
   "metadata": {},
   "outputs": [],
   "source": [
    "# Define Benefit function for correctly classify objectives\n",
    "# We consider the scenario of churn prediction, where correctly identify positive cases means \n",
    "# capturing otherwise lost revenue at the expense of preventitive actions\n",
    "\n",
    "def Benefit(y_true, B_p, B_n):\n",
    "    \n",
    "    benefit = np.where( y_true==1,1,0)*B_p+np.where( y_true==0,1,0)*B_n\n",
    "    #print('Benefit:\\t',benefit[:20])\n",
    "    return np.mean(benefit)\n",
    "\n",
    "\n",
    "############################################\n",
    "# Define NetBenefit = Benefit - Cost\n",
    "# Assyming df has three col: vlaue, label, and prediction -- in this order\n",
    "\n",
    "\n",
    "def NetBenefit(df, B_percent, C_percent):\n",
    "    NetBenefit= sum(df[(df.label==df.prediction)&(df.label==1)].value*(B_percent))\\\n",
    "    -sum(df[df.prediction==1].value*(C_percent))\n",
    "\n",
    "    return NetBenefit\n",
    "\n",
    "\n",
    "\n"
   ]
  },
  {
   "cell_type": "code",
   "execution_count": 247,
   "metadata": {},
   "outputs": [],
   "source": [
    "############################################\n",
    "#  Simulate Sample data\n",
    "#  Input: NumSample\n",
    "#         Value_Dist: Normal or LogNormal\n",
    "#         Pos_rate\n",
    "#  Output: simulated sample set with value and label\n",
    "\n",
    "\n",
    "def SimulateSample(n,p,mu,sigma,DisType='Normal'):\n",
    "    # Simulate positive label\n",
    "    np.random.seed(30)\n",
    "    label = bernoulli.rvs(p, size=n)\n",
    "    print('Number of psotitive label:\\t',label.sum(),'\\n')\n",
    "\n",
    "\n",
    "    # Simulate value of the sample data\n",
    "    np.random.seed(30)\n",
    "    ## For normal\n",
    "    if DisType == 'Normal':\n",
    "        value = np.random.normal(mu, sigma, n)\n",
    "    ## For lognormal\n",
    "    elif DisType == 'LogNormal':\n",
    "        value = np.random.lognormal(mu, sigma, n)\n",
    "    else:\n",
    "        value = np.random.uniform(mu-sigma, mu+sigma, n)\n",
    "\n",
    "    \n",
    "    sample = pd.DataFrame(data=np.column_stack((value,label)), columns=[\"value\", \"label\"])\n",
    "    \n",
    "    # Exam output, can be omitted\n",
    "    print('The length of the sample is:\\t', len(sample))\n",
    "    print('Max value is:\\t',value.max().round(2))\n",
    "    print('Min value is:\\t',value.min().round(2))\n",
    "    print('Avg value is:\\t',value.mean().round(2),'\\n')\n",
    "    print(\"Sample head\\n\",sample.head(10).round(2),'\\n')\n",
    "\n",
    "\n",
    "    return sample\n",
    "\n"
   ]
  },
  {
   "cell_type": "code",
   "execution_count": 212,
   "metadata": {},
   "outputs": [],
   "source": [
    "############################################\n",
    "#  Simulate Predictions that satisfies give sensitivity and specificity\n",
    "#  Input:  Sample data\n",
    "#          sensitivity \\in [0,1]\n",
    "#          specificity \\in [0,1]\n",
    "# Output:  Simulated prediction, that satisfies given sensitivity and specificity\n",
    "\n",
    "def SimulatePrediction(data, sensitivity, specificity):\n",
    "\n",
    "    ########################################\n",
    "    # Make a copy of the sample df\n",
    "    # Add a prediction col to the copy: defult = zero\n",
    "    data_w_prediction = data.copy()\n",
    "    prediction = np.zeros(len(data))\n",
    "    data_w_prediction['prediction'] = prediction\n",
    "\n",
    "    ########################################\n",
    "    # Split Sample\n",
    "    # Input: Sample data\n",
    "    # Output: Split sample data into Positive and Negative parts\n",
    "\n",
    "    data_pos = data_w_prediction[data_w_prediction['label'] >= 0.5] # May not be needed\n",
    "    data_neg = data_w_prediction[data_w_prediction['label'] < 0.5]  # May not be needed\n",
    "    #print(\"Positive sample\\n\",data_pos.head(5),'\\n')\n",
    "    #print(\"Negative sample\\n\",data_neg.head(10),'\\n')\n",
    "\n",
    "    pos_index = data_w_prediction.index[data_w_prediction['label'] >= 0.5].tolist()\n",
    "    neg_index = data_w_prediction.index[data_w_prediction['label'] < 0.5].tolist()\n",
    "    #print(\"Positive index\\n\",pos_index,'\\n')\n",
    "    #print(\"Negative index\\n\",neg_index,'\\n')\n",
    "\n",
    "\n",
    "    ###############################################\n",
    "    # Simulate the index for positive predictions\n",
    "    Index_true_pos=np.random.choice(np.array(pos_index), \\\n",
    "                  int(len(pos_index)*sensitivity), replace = False).tolist()\n",
    "    Index_false_neg=np.random.choice(np.array(neg_index), \\\n",
    "                  int(len(neg_index)*(1-specificity)), replace = False).tolist()\n",
    "\n",
    "\n",
    "    #print('ResampleIndex_pos\\t',Index_true_pos,'\\n')\n",
    "    #print('ResampleIndex_neg\\t', Index_false_neg,'\\n')\n",
    "\n",
    "    # Update prediction\n",
    "    data_w_prediction.loc[[*Index_true_pos,*Index_false_neg],'prediction']=1\n",
    "\n",
    "    return data_w_prediction"
   ]
  },
  {
   "cell_type": "code",
   "execution_count": 227,
   "metadata": {},
   "outputs": [],
   "source": [
    "############################################\n",
    "# Estimate trails of returns (net benefit) of the simulated predictions\n",
    "\n",
    "def SimulateValueMatrix(df,nSens,nSpec, B_pos, C_pos):\n",
    "\n",
    "    value_matrix_list =[]\n",
    "\n",
    "    for trial in range(nTrail):\n",
    "        for sensitivity in np.linspace(0.005, 0.995, num=nSens).round(2):\n",
    "            for specificity in np.linspace(0.005, 0.995, num=nSpec).round(2):\n",
    "                df_w_prediction = SimulatePrediction(df, sensitivity, specificity)\n",
    "                benefit = NetBenefit(df_w_prediction, B_pos, C_pos)\n",
    "                value_matrix_list.append([sensitivity,specificity,benefit])\n",
    "    return value_matrix_list\n",
    "\n"
   ]
  },
  {
   "cell_type": "code",
   "execution_count": 248,
   "metadata": {},
   "outputs": [
    {
     "name": "stdout",
     "output_type": "stream",
     "text": [
      "Number of psotitive label:\t 2034 \n",
      "\n",
      "The length of the sample is:\t 5000\n",
      "Max value is:\t 2869.95\n",
      "Min value is:\t 92.68\n",
      "Avg value is:\t 572.23 \n",
      "\n",
      "Sample head\n",
      "      value  label\n",
      "0   265.76    1.0\n",
      "1  1073.37    0.0\n",
      "2   307.74    1.0\n",
      "3   632.63    0.0\n",
      "4   475.45    1.0\n",
      "5   582.02    0.0\n",
      "6   210.95    1.0\n",
      "7  1104.51    0.0\n",
      "8   534.73    0.0\n",
      "9   287.49    0.0 \n",
      "\n"
     ]
    }
   ],
   "source": [
    "############################################\n",
    "# Simulate sample data\n",
    "n=5000\n",
    "p=0.4\n",
    "\n",
    "## For lognormal\n",
    "mu=math.log(500)\n",
    "sigma=0.5\n",
    "\n",
    "## For normal\n",
    "#mu=500\n",
    "#sigma=100\n",
    "\n",
    "sample = SimulateSample(n,p,mu,sigma,DisType='LogNormal')"
   ]
  },
  {
   "cell_type": "code",
   "execution_count": 252,
   "metadata": {},
   "outputs": [
    {
     "data": {
      "image/png": "[encoded data removed]",
      "text/plain": [
       "<Figure size 432x288 with 2 Axes>"
      ]
     },
     "metadata": {
      "needs_background": "light"
     },
     "output_type": "display_data"
    }
   ],
   "source": [
    "############################################\n",
    "\n",
    "sens_step = 5\n",
    "spec_step = 5\n",
    "\n",
    "benefit_pos =0.8\n",
    "cost_pos = 0.2\n",
    "\n",
    "nTrail=1\n",
    "\n",
    "value_matrix_list = SimulateValueMatrix(sample,sens_step,spec_step, benefit_pos, cost_pos)\n",
    "\n",
    "# Generate heat map of the simulated returnd\n",
    "value_matrix_df = pd.DataFrame(columns=['sensitivity', 'specificity', 'return'], data=value_matrix_list)\n",
    "value_matrix_df = value_matrix_df.pivot_table(index=[\"sensitivity\"], \\\n",
    "                                              columns=[\"specificity\"],values=\"return\", aggfunc=np.median) # or np.median\n",
    "value_matrix_df = value_matrix_df.sort_index(ascending=False)\n",
    "\n",
    "#value_matrix_df = value_matrix_df.pivot(\"sensitivity\", \"specificity\",\"return\")\n",
    "#print(value_matrix_df,'\\n')\n",
    "\n",
    "\n",
    "ax = sns.heatmap(value_matrix_df,annot=True, cmap=\"YlGnBu\")\n",
    "#ax = sns.heatmap(value_matrix_df, cmap=\"YlGnBu\")"
   ]
  },
  {
   "cell_type": "code",
   "execution_count": null,
   "metadata": {},
   "outputs": [],
   "source": []
  },
  {
   "cell_type": "code",
   "execution_count": null,
   "metadata": {},
   "outputs": [],
   "source": []
  },
  {
   "cell_type": "markdown",
   "metadata": {},
   "source": [
    "### Prototype 0: Equal value in each sample"
   ]
  },
  {
   "cell_type": "code",
   "execution_count": 72,
   "metadata": {},
   "outputs": [],
   "source": [
    "Total = 10000\n",
    "pos_rate =0.3\n",
    "neg_rate = 1- pos_rate\n",
    "Benefit_TP = 2\n",
    "Cost_P =1"
   ]
  },
  {
   "cell_type": "code",
   "execution_count": 75,
   "metadata": {},
   "outputs": [
    {
     "data": {
      "image/png": "[encoded data removed]",
      "text/plain": [
       "<Figure size 432x288 with 2 Axes>"
      ]
     },
     "metadata": {
      "needs_background": "light"
     },
     "output_type": "display_data"
    }
   ],
   "source": [
    "#import numpy as np\n",
    "sens_step = 10\n",
    "spec_step = 10\n",
    "\n",
    "value_matrix_list =[]\n",
    "for sensitivity in np.linspace(0.005, 0.995, num=sens_step).round(2):\n",
    "    for specificity in np.linspace(0.005, 0.995, num=spec_step).round(2):\n",
    "        TP = Total*pos_rate * sensitivity\n",
    "        TN = Total*neg_rate * specificity\n",
    "        FP = Total*neg_rate - TN\n",
    "        FN = Total*pos_rate - TP\n",
    "        benefit = Benefit_TP*TP-Cost_P*(TP+FP)\n",
    "        value_matrix_list.append([sensitivity,specificity,benefit])\n",
    "\n",
    "\n",
    "value_matrix_df = pd.DataFrame(columns=['sensitivity', 'specificity', 'return'], data=value_matrix_list)\n",
    "value_matrix_df = value_matrix_df.pivot_table(index=[\"sensitivity\"], columns=[\"specificity\"],values=\"return\")\n",
    "value_matrix_df = value_matrix_df.sort_index(ascending=False)\n",
    "\n",
    "#value_matrix_df = value_matrix_df.pivot(\"sensitivity\", \"specificity\",\"return\")\n",
    "#print(value_matrix_df,'\\n')\n",
    "\n",
    "\n",
    "#ax = sns.heatmap(value_matrix_df,annot=True, cmap=\"YlGnBu\")\n",
    "ax = sns.heatmap(value_matrix_df, cmap=\"YlGnBu\")"
   ]
  },
  {
   "cell_type": "code",
   "execution_count": null,
   "metadata": {},
   "outputs": [],
   "source": []
  },
  {
   "cell_type": "code",
   "execution_count": null,
   "metadata": {},
   "outputs": [],
   "source": []
  }
 ],
 "metadata": {
  "kernelspec": {
   "display_name": "Python 3",
   "language": "python",
   "name": "python3"
  },
  "language_info": {
   "codemirror_mode": {
    "name": "ipython",
    "version": 3
   },
   "file_extension": ".py",
   "mimetype": "text/x-python",
   "name": "python",
   "nbconvert_exporter": "python",
   "pygments_lexer": "ipython3",
   "version": "3.7.4"
  }
 },
 "nbformat": 4,
 "nbformat_minor": 2
}

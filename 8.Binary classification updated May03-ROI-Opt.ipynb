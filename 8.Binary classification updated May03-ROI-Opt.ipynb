{
 "cells": [
  {
   "cell_type": "markdown",
   "metadata": {},
   "source": [
    "# ROI Optimization"
   ]
  },
  {
   "cell_type": "markdown",
   "metadata": {},
   "source": [
    "## Design of this workbook\n",
    "\n",
    "### Testing Data\n",
    "We made a synthetic imbalanced data set by dropping the majority of the positive samples of the Bone-and-Joint deep dive data\n",
    "\n",
    "### Method tested\n",
    "0. Baseline model\n",
    "    - Dummy classifier\n",
    "    - Vanilla lightGBM\n",
    "1. Pre-processing\n",
    "    - SMOT(0.1) + random undersampling(0.5)\n",
    "    - Pos_class_weights\n",
    "2. Optimized objective function\n",
    "    - Cost optimized\n",
    "    - focal loss for f1 optimization\n",
    "3. Post-processing\n",
    "    - Change decisioon threshold on Vanilla lightGBM output to maximize F1/AUC\n",
    "    - Change decisioon threshold on focal loss algorithm output to minimize cost\n",
    "\n",
    "### Evaluation Metrics\n",
    "- F1 (main metric)\n",
    "- Cost of misclassification\n",
    "- matthews corrlation coefficient https://www.researchgate.net/publication/338351315_The_advantages_of_the_Matthews_correlation_coefficient_MCC_over_F1_score_and_accuracy_in_binary_classification_evaluation\n",
    "- AUC"
   ]
  },
  {
   "cell_type": "code",
   "execution_count": 1,
   "metadata": {},
   "outputs": [],
   "source": [
    "import os\n",
    "import pickle\n",
    "import pandas as pd\n",
    "import numpy as np\n",
    "from numpy import where\n",
    "from numpy import mean\n",
    "\n",
    "from sklearn.model_selection import GridSearchCV, train_test_split, cross_val_score, RepeatedStratifiedKFold, StratifiedKFold,ShuffleSplit\n",
    "\n",
    "from imblearn.over_sampling import SMOTE, ADASYN\n",
    "from imblearn.under_sampling import RandomUnderSampler\n",
    "#from sklearn.preprocessing import MinMaxScaler\n",
    "from imblearn.pipeline import Pipeline\n",
    "\n",
    "from collections import Counter\n",
    "#from sklearn.datasets import make_classification\n",
    "from matplotlib import pyplot\n",
    "\n",
    "import hyperopt\n",
    "from hyperopt import hp, tpe\n",
    "from hyperopt.fmin import fmin\n",
    "import lightgbm as lgbm\n",
    "from sklearn.dummy import DummyClassifier\n",
    "#from sklearn.model_selection import cross_val_score, StratifiedKFold, cross_val_predict,ShuffleSplit\n",
    "#from imblearn.pipeline import Pipeline\n",
    "\n",
    "from sklearn.metrics import classification_report\n",
    "from sklearn.metrics import matthews_corrcoef\n",
    "from sklearn.metrics import roc_curve\n",
    "from sklearn.metrics import roc_auc_score\n",
    "from sklearn.metrics import auc\n",
    "from sklearn.metrics import make_scorer\n",
    "from sklearn.metrics import precision_recall_fscore_support\n",
    "from sklearn.metrics import confusion_matrix\n",
    "\n",
    "import seaborn as sns\n",
    "import matplotlib.pyplot as plt\n",
    "\n",
    "\n",
    "NPSEED = 1337\n",
    "np.random.seed(NPSEED)\n",
    "def warn(*args, **kwargs):\n",
    "    pass\n",
    "import warnings\n",
    "warnings.warn = warn"
   ]
  },
  {
   "cell_type": "markdown",
   "metadata": {},
   "source": [
    "### Loading Data and Check Data Set"
   ]
  },
  {
   "cell_type": "code",
   "execution_count": 2,
   "metadata": {},
   "outputs": [
    {
     "data": {
      "text/html": [
       "<div>\n",
       "<style scoped>\n",
       "    .dataframe tbody tr th:only-of-type {\n",
       "        vertical-align: middle;\n",
       "    }\n",
       "\n",
       "    .dataframe tbody tr th {\n",
       "        vertical-align: top;\n",
       "    }\n",
       "\n",
       "    .dataframe thead th {\n",
       "        text-align: right;\n",
       "    }\n",
       "</style>\n",
       "<table border=\"1\" class=\"dataframe\">\n",
       "  <thead>\n",
       "    <tr style=\"text-align: right;\">\n",
       "      <th></th>\n",
       "      <th>sex_1</th>\n",
       "      <th>sex_2</th>\n",
       "      <th>admitAge</th>\n",
       "      <th>admitCategoryCode_1</th>\n",
       "      <th>admitCategoryCode_2</th>\n",
       "      <th>entryCode_1</th>\n",
       "      <th>entryCode_2</th>\n",
       "      <th>entryCode_3</th>\n",
       "      <th>entryCode_4</th>\n",
       "      <th>admitByAmbulanceCode_1</th>\n",
       "      <th>...</th>\n",
       "      <th>raDrugAlcoholAbuse</th>\n",
       "      <th>raObesity</th>\n",
       "      <th>raStroke</th>\n",
       "      <th>raMentalHealth</th>\n",
       "      <th>raHepatic</th>\n",
       "      <th>raAsthma</th>\n",
       "      <th>raRheumatoid</th>\n",
       "      <th>raHIV</th>\n",
       "      <th>raPneumonia</th>\n",
       "      <th>riskTotal</th>\n",
       "    </tr>\n",
       "  </thead>\n",
       "  <tbody>\n",
       "    <tr>\n",
       "      <td>1</td>\n",
       "      <td>1</td>\n",
       "      <td>0</td>\n",
       "      <td>90.0</td>\n",
       "      <td>1</td>\n",
       "      <td>0</td>\n",
       "      <td>1</td>\n",
       "      <td>0</td>\n",
       "      <td>0</td>\n",
       "      <td>0</td>\n",
       "      <td>1</td>\n",
       "      <td>...</td>\n",
       "      <td>0.0</td>\n",
       "      <td>0.0</td>\n",
       "      <td>0.0</td>\n",
       "      <td>1.0</td>\n",
       "      <td>0.0</td>\n",
       "      <td>0.0</td>\n",
       "      <td>0.0</td>\n",
       "      <td>0.0</td>\n",
       "      <td>1.0</td>\n",
       "      <td>2.0</td>\n",
       "    </tr>\n",
       "    <tr>\n",
       "      <td>2</td>\n",
       "      <td>1</td>\n",
       "      <td>0</td>\n",
       "      <td>81.0</td>\n",
       "      <td>1</td>\n",
       "      <td>0</td>\n",
       "      <td>1</td>\n",
       "      <td>0</td>\n",
       "      <td>0</td>\n",
       "      <td>0</td>\n",
       "      <td>1</td>\n",
       "      <td>...</td>\n",
       "      <td>0.0</td>\n",
       "      <td>0.0</td>\n",
       "      <td>1.0</td>\n",
       "      <td>0.0</td>\n",
       "      <td>0.0</td>\n",
       "      <td>0.0</td>\n",
       "      <td>0.0</td>\n",
       "      <td>0.0</td>\n",
       "      <td>1.0</td>\n",
       "      <td>3.0</td>\n",
       "    </tr>\n",
       "    <tr>\n",
       "      <td>3</td>\n",
       "      <td>1</td>\n",
       "      <td>0</td>\n",
       "      <td>72.0</td>\n",
       "      <td>1</td>\n",
       "      <td>0</td>\n",
       "      <td>1</td>\n",
       "      <td>0</td>\n",
       "      <td>0</td>\n",
       "      <td>0</td>\n",
       "      <td>1</td>\n",
       "      <td>...</td>\n",
       "      <td>0.0</td>\n",
       "      <td>0.0</td>\n",
       "      <td>0.0</td>\n",
       "      <td>1.0</td>\n",
       "      <td>0.0</td>\n",
       "      <td>0.0</td>\n",
       "      <td>1.0</td>\n",
       "      <td>0.0</td>\n",
       "      <td>0.0</td>\n",
       "      <td>3.0</td>\n",
       "    </tr>\n",
       "    <tr>\n",
       "      <td>7</td>\n",
       "      <td>1</td>\n",
       "      <td>0</td>\n",
       "      <td>88.0</td>\n",
       "      <td>1</td>\n",
       "      <td>0</td>\n",
       "      <td>1</td>\n",
       "      <td>0</td>\n",
       "      <td>0</td>\n",
       "      <td>0</td>\n",
       "      <td>1</td>\n",
       "      <td>...</td>\n",
       "      <td>0.0</td>\n",
       "      <td>0.0</td>\n",
       "      <td>0.0</td>\n",
       "      <td>0.0</td>\n",
       "      <td>0.0</td>\n",
       "      <td>0.0</td>\n",
       "      <td>0.0</td>\n",
       "      <td>0.0</td>\n",
       "      <td>0.0</td>\n",
       "      <td>3.0</td>\n",
       "    </tr>\n",
       "    <tr>\n",
       "      <td>9</td>\n",
       "      <td>1</td>\n",
       "      <td>0</td>\n",
       "      <td>89.0</td>\n",
       "      <td>1</td>\n",
       "      <td>0</td>\n",
       "      <td>1</td>\n",
       "      <td>0</td>\n",
       "      <td>0</td>\n",
       "      <td>0</td>\n",
       "      <td>1</td>\n",
       "      <td>...</td>\n",
       "      <td>0.0</td>\n",
       "      <td>0.0</td>\n",
       "      <td>0.0</td>\n",
       "      <td>0.0</td>\n",
       "      <td>0.0</td>\n",
       "      <td>0.0</td>\n",
       "      <td>0.0</td>\n",
       "      <td>0.0</td>\n",
       "      <td>0.0</td>\n",
       "      <td>2.0</td>\n",
       "    </tr>\n",
       "  </tbody>\n",
       "</table>\n",
       "<p>5 rows × 103 columns</p>\n",
       "</div>"
      ],
      "text/plain": [
       "   sex_1  sex_2  admitAge  admitCategoryCode_1  admitCategoryCode_2  \\\n",
       "1      1      0      90.0                    1                    0   \n",
       "2      1      0      81.0                    1                    0   \n",
       "3      1      0      72.0                    1                    0   \n",
       "7      1      0      88.0                    1                    0   \n",
       "9      1      0      89.0                    1                    0   \n",
       "\n",
       "   entryCode_1  entryCode_2  entryCode_3  entryCode_4  admitByAmbulanceCode_1  \\\n",
       "1            1            0            0            0                       1   \n",
       "2            1            0            0            0                       1   \n",
       "3            1            0            0            0                       1   \n",
       "7            1            0            0            0                       1   \n",
       "9            1            0            0            0                       1   \n",
       "\n",
       "   ...  raDrugAlcoholAbuse  raObesity  raStroke  raMentalHealth  raHepatic  \\\n",
       "1  ...                 0.0        0.0       0.0             1.0        0.0   \n",
       "2  ...                 0.0        0.0       1.0             0.0        0.0   \n",
       "3  ...                 0.0        0.0       0.0             1.0        0.0   \n",
       "7  ...                 0.0        0.0       0.0             0.0        0.0   \n",
       "9  ...                 0.0        0.0       0.0             0.0        0.0   \n",
       "\n",
       "   raAsthma  raRheumatoid  raHIV  raPneumonia  riskTotal  \n",
       "1       0.0           0.0    0.0          1.0        2.0  \n",
       "2       0.0           0.0    0.0          1.0        3.0  \n",
       "3       0.0           1.0    0.0          0.0        3.0  \n",
       "7       0.0           0.0    0.0          0.0        3.0  \n",
       "9       0.0           0.0    0.0          0.0        2.0  \n",
       "\n",
       "[5 rows x 103 columns]"
      ]
     },
     "metadata": {},
     "output_type": "display_data"
    },
    {
     "name": "stdout",
     "output_type": "stream",
     "text": [
      "Data shape (11126, 103)\n"
     ]
    },
    {
     "data": {
      "image/png": "[encoded data removed]",
      "text/plain": [
       "<Figure size 432x288 with 1 Axes>"
      ]
     },
     "metadata": {
      "needs_background": "light"
     },
     "output_type": "display_data"
    }
   ],
   "source": [
    "data = pickle.load(open('data/encoded_data.p','rb'))\n",
    "display(data.head())\n",
    "print(f\"Data shape {data.shape}\")\n",
    "data['episodeDispositionCode'].value_counts().plot(kind='bar')\n",
    "plt.show()\n",
    "class_names =  ['Not continuing', 'Continuing Care']\n",
    "features = list(data.keys())\n",
    "features.remove('episodeDispositionCode')"
   ]
  },
  {
   "cell_type": "code",
   "execution_count": 3,
   "metadata": {},
   "outputs": [
    {
     "data": {
      "text/plain": [
       "0.0    6807\n",
       "1.0    4319\n",
       "Name: episodeDispositionCode, dtype: int64"
      ]
     },
     "execution_count": 3,
     "metadata": {},
     "output_type": "execute_result"
    }
   ],
   "source": [
    "data['episodeDispositionCode'].value_counts()"
   ]
  },
  {
   "cell_type": "code",
   "execution_count": 4,
   "metadata": {},
   "outputs": [
    {
     "name": "stdout",
     "output_type": "stream",
     "text": [
      "Features used:\n",
      "sex_1, sex_2, admitAge, admitCategoryCode_1, admitCategoryCode_2, entryCode_1, entryCode_2, entryCode_3, entryCode_4, admitByAmbulanceCode_1, admitByAmbulanceCode_2, admitByAmbulanceCode_3, admitByAmbulanceCode_4, institutionZoneId_1, institutionZoneId_2, institutionZoneId_3, institutionZoneId_4, institutionZoneId_5, institutionZone_1, institutionZone_2, institutionZone_3, institutionZone_4, institutionZone_5, institutionTypeId_1, institutionTypeIdFrom_1, institutionTypeIdFrom_2, institutionTypeIdFrom_3, institutionTypeIdFrom_4, institutionTypeIdFrom_5, institutionTypeIdFrom_6, institutionTypeIdFrom_7, institutionTypeIdFrom_8, mainPatientService, mostRespDxCode_1, mostRespDxCode_2, mostRespDxCode_3, mostRespDxCode_4, mostRespDxCode_5, mostRespDxCode_6, mostRespDxCode_7, mostRespDxCode_8, mostRespDxCode_9, mostRespDxCode_10, mostRespDxCode_11, mostRespDxCode_12, mostRespDxCode_13, mostRespDxCode_14, mostRespDxCode_15, mostRespDxCode_16, mostRespDxCode_17, mostRespDxCode_18, mostRespDxCode_19, mostRespDxCode_20, mostRespDxCode_21, mostRespDxCode_22, mostRespDxCode_23, mostRespDxCode_24, mostRespDxCode_25, mostRespDxCode_26, mostRespDxCode_27, mostRespDxCode_28, mostRespDxCode_29, mostRespDxCode_30, mostRespDxCode_31, mostRespDxCode_32, mostRespDxCode_33, mostRespDxCode_34, mostRespDxCode_35, mostRespDxCode_36, mostRespDxCode_37, mostRespDxCode_38, procedureTypeCode_1, procedureTypeCode_2, procedureTypeCode_3, procedureTypeCode_4, procedureTypeCode_5, episodeHoursToAdmit, episodeHoursToOR, episodeTrfToAdmitCount, episodePreAdmitOOZTrf, admitHoursToOR, transfusion, ipStayIsBilateral, raBackPain, raCancer, raCardiac, raPulmonary, raRenal, raDVT, raDementia, raDepression, raDiabetes, raDrugAlcoholAbuse, raObesity, raStroke, raMentalHealth, raHepatic, raAsthma, raRheumatoid, raHIV, raPneumonia, riskTotal, "
     ]
    }
   ],
   "source": [
    "print('Features used:')\n",
    "for feature in features:\n",
    "    print(feature, end = ', ')"
   ]
  },
  {
   "cell_type": "markdown",
   "metadata": {},
   "source": [
    "### Create an imbalanced data set by dropping the majority of the positive samples"
   ]
  },
  {
   "cell_type": "code",
   "execution_count": 5,
   "metadata": {},
   "outputs": [],
   "source": [
    "# Drop 80 of positive samples to create imbalanced data set\n",
    "\n",
    "data_true = data.loc[data['episodeDispositionCode'] ==1].sample(frac=1).reset_index(drop=True)\n",
    "data_false = data.loc[data['episodeDispositionCode'] ==0]\n",
    "data_imbalance = pd.concat([data_true[:720], data_false], axis=0).sample(frac=1).reset_index(drop=True)\n",
    "\n",
    "\n",
    "X_imbalance = data_imbalance.drop('episodeDispositionCode', axis=1)\n",
    "y_imbalance = data_imbalance['episodeDispositionCode']\n",
    "#random state used to be 42\n",
    "X_train, X_test, y_train, y_test = train_test_split(X_imbalance, y_imbalance, test_size=0.20, random_state=42, stratify = y_imbalance)\n",
    "X_train, X_valid, y_train, y_valid = train_test_split(X_train, y_train, test_size=0.20, random_state=42, stratify = y_train)\n",
    "feat_names = list(X_train.keys())\n"
   ]
  },
  {
   "cell_type": "code",
   "execution_count": 6,
   "metadata": {},
   "outputs": [
    {
     "name": "stdout",
     "output_type": "stream",
     "text": [
      "We made up an imbalanced data set where only  10.0  percent of sample is positive\n",
      "0.0    6807\n",
      "1.0     720\n",
      "Name: episodeDispositionCode, dtype: int64\n"
     ]
    }
   ],
   "source": [
    "minority_proportion = sum(y_train==1)/len(y_train)\n",
    "print('We made up an imbalanced data set where only ', np.round(minority_proportion,2)*100,' percent of sample is positive')\n",
    "print(data_imbalance['episodeDispositionCode'].value_counts())\n"
   ]
  },
  {
   "cell_type": "markdown",
   "metadata": {},
   "source": [
    "### Performance metric:\n",
    "\n",
    "### For Cummunicate Business Value\n",
    "- Cost of misclassification\n",
    "- Benefit from correct classification\n",
    "- Net benefit\n",
    "\n",
    "### For Technical Matrix\n",
    "- Confusion Matrix\n",
    "- F1\n",
    "- MCC\n",
    "- AUC\n",
    "\n",
    "\n",
    "\n",
    "### Conditions/Things to Test On\n",
    "0. Assume positive class is the minority class\n",
    "1. How imbalanced the dataset is? Minority class makes up to\n",
    "    - 3%\n",
    "    - 10%\n",
    "    - 20%\n",
    "    - 40% (balanced)\n",
    "2. How does the cost of false minority class compared to cost of false majority class?\n",
    "    - c_n >> c_p\n",
    "    - c_n << c_p (does it even make sense?)\n",
    "    - c_n ~ c_p  (is that just equivalent to maximizing F1 score?)\n"
   ]
  },
  {
   "cell_type": "code",
   "execution_count": 7,
   "metadata": {},
   "outputs": [],
   "source": [
    "# Define technical performance metric\n",
    "\n",
    "def get_metrics(y_test, y_pred):\n",
    "    cm = confusion_matrix(y_test, y_pred)\n",
    "    class_names =  ['Negative', 'Positive']    \n",
    "    df_cm = pd.DataFrame(cm, columns=class_names, index = class_names)\n",
    "    df_cm.index.name = 'Actual'\n",
    "    df_cm.columns.name = 'Predicted'\n",
    "    sns.set(font_scale=1.4)#for label size\n",
    "    sns.heatmap(df_cm, cmap=\"Blues\", annot=True,annot_kws={\"size\": 16},  fmt='d')\n",
    "    plt.show()\n",
    "    metrics = np.array( precision_recall_fscore_support(y_test, y_pred) )\n",
    "    df_cm = pd.DataFrame(metrics, index=['Precision', 'Recall', 'F','Support'], columns = class_names)\n",
    "    df_cm.index.name = 'Class'\n",
    "    df_cm.columns.name = 'Metrics'\n",
    "    display(df_cm)"
   ]
  },
  {
   "cell_type": "code",
   "execution_count": 8,
   "metadata": {},
   "outputs": [],
   "source": [
    "# Define benefit metric\n",
    "def get_return_metrics(y_test, y_pred,b_P,c_P,b_N=0,c_N=0):\n",
    "    cm = confusion_matrix(y_test, y_pred)\n",
    "    class_names =  ['Negative', 'Positive']    \n",
    "    df_cm = pd.DataFrame(cm, columns=class_names, index = class_names)\n",
    "    df_cm.iloc[0,0] = df_cm.iloc[0,0]*(b_N-c_N) # Return on true negative\n",
    "    df_cm.iloc[1,1] = df_cm.iloc[1,1]*(b_P-c_P) # Return on true positive\n",
    "    df_cm.iloc[0,1] = -df_cm.iloc[0,1]*(c_P) # Cost of false positive\n",
    "    df_cm.iloc[1,0] = -df_cm.iloc[1,0]*(c_N) # Cost of false negative\n",
    "    \n",
    "    df_cm.index.name = 'Actual'\n",
    "    df_cm.columns.name = 'Predicted'\n",
    "    sns.set(font_scale=1.4)#for label size\n",
    "    sns.heatmap(df_cm, cmap=\"Reds\", annot=True,annot_kws={\"size\": 16},  fmt='d')\n",
    "    plt.show()\n"
   ]
  },
  {
   "cell_type": "code",
   "execution_count": 109,
   "metadata": {},
   "outputs": [],
   "source": [
    "# Define cost function for misclassifications\n",
    "\n",
    "def Cost(y_pred, y_true, C_p, C_n):\n",
    "    residual= (y_true - y_pred).astype(\"float\")\n",
    "    #print('Residual:\\t',residual)\n",
    "    loss = np.where(residual <=0, (residual**2)*C_p, residual**2*C_n)\n",
    "    #print('Loss:\\t',loss[:20])\n",
    "    return np.mean(loss)\n",
    "\n",
    "# Define Benefit function for correctly classify objectives\n",
    "# We consider the scenario of churn prediction, where correctly identify positive cases means \n",
    "# capturing otherwise lost revenue at the expense of preventitive actions\n",
    "\n",
    "def Benefit(y_true, B_p, B_n):\n",
    "    \n",
    "    benefit = np.where( y_true==1,1,0)*B_p+np.where( y_true==0,1,0)*B_n\n",
    "    #print('Benefit:\\t',benefit[:20])\n",
    "    return np.mean(benefit)\n",
    "\n",
    "\n",
    "# Define return function = Benefit - Cost for preventitive action\n",
    "# Use 100% as the default investment percentage\n",
    "def RealizedBenefit(y_pred,y_true, B_p, C_p, InvestPercent=1):\n",
    "    \n",
    "    if InvestPercent < 1:\n",
    "        nToInvest = np.int(InvestPercent*len(y_true))\n",
    "        len_new=( np.cumsum(y_pred==1) >= min (nToInvest,np.sum(y_pred)) ).argmax()+1 # length of the new array\n",
    "        #print(\"We take the first \",len_new, \" rows of the original testing set\")\n",
    "        y_pred_new = y_pred[:len_new]\n",
    "        y_true_new = y_true[:len_new]\n",
    "    else:\n",
    "        y_pred_new = y_pred\n",
    "        y_true_new = y_true\n",
    "    \n",
    "    #print('y_pred_new\\n', y_pred_new, '\\n\\n')\n",
    "    #print('y_true_new\\n',y_true_new,'\\n\\n')\n",
    "    \n",
    "    #RealizedBenefit = np.where((y_pred_new==1)&(y_true_new==1), 1,0)*B_p - np.where((y_pred_new==1), 1,0)*C_p\n",
    "    #RealizedBenefit = np.sum(np.where((y_pred_new==1)&(y_true_new==1), 1,0))*B_p-np.sum(np.where((y_pred_new==1), 1,0))*C_p\n",
    "   \n",
    "    RealizedBenefit = np.sum((y_pred.to_numpy()==1)&(y_true.to_numpy()==1))*B_p - np.sum((y_pred.to_numpy()==1))*C_p\n",
    "\n",
    "    \n",
    "    #return np.sum(RealizedBenefit)\n",
    "    return RealizedBenefit\n"
   ]
  },
  {
   "cell_type": "code",
   "execution_count": 10,
   "metadata": {},
   "outputs": [],
   "source": [
    "# Define weights here\n",
    "c_p=1\n",
    "c_n=7\n",
    "b_p=c_n+c_p\n",
    "b_n=0"
   ]
  },
  {
   "cell_type": "markdown",
   "metadata": {},
   "source": [
    "## Baseline Model -- The Dummy Classifier, and Default Model -- Vanilla LightGBM"
   ]
  },
  {
   "cell_type": "code",
   "execution_count": 11,
   "metadata": {},
   "outputs": [],
   "source": [
    "# Dummy Classifier\n",
    "dummy_clf = DummyClassifier(strategy=\"most_frequent\",random_state=33).fit(X_train,y_train) \n",
    "\n",
    "y_pred_dummy = dummy_clf.predict(X_test) \n",
    "y_prob_dummy = dummy_clf.predict_proba(X_test)[:,1]\n",
    "y_val_pred_dummy = dummy_clf.predict(X_valid)\n",
    "y_val_prob_dummy = dummy_clf.predict_proba(X_valid)[:,1]\n",
    "\n",
    "## The defualt is_unbalance = True/False as the objective parameter\n",
    "## If we use as the objective parameter, the resulting model performed the same as setting scale_pos_weight\n",
    "clf_default = lgbm.LGBMClassifier(is_unbalance=False,random_state=33,learning_rate=0.1, early_stopping_rounds = 10, n_estimators=10000)\n",
    "\n",
    "clf_default.fit(X_train,y_train,eval_set=[(X_valid, y_valid)],verbose=False)\n",
    "\n",
    "y_pred_default = clf_default.predict(X_test)\n",
    "y_prob_default = clf_default.predict_proba(X_test)[:,1]\n",
    "y_val_pred_default = clf_default.predict(X_valid)\n",
    "y_val_prob_default = clf_default.predict_proba(X_valid)[:,1]\n",
    "\n"
   ]
  },
  {
   "cell_type": "code",
   "execution_count": 12,
   "metadata": {},
   "outputs": [
    {
     "data": {
      "image/png": "[encoded data removed]",
      "text/plain": [
       "<Figure size 432x288 with 2 Axes>"
      ]
     },
     "metadata": {
      "needs_background": "light"
     },
     "output_type": "display_data"
    },
    {
     "data": {
      "text/html": [
       "<div>\n",
       "<style scoped>\n",
       "    .dataframe tbody tr th:only-of-type {\n",
       "        vertical-align: middle;\n",
       "    }\n",
       "\n",
       "    .dataframe tbody tr th {\n",
       "        vertical-align: top;\n",
       "    }\n",
       "\n",
       "    .dataframe thead th {\n",
       "        text-align: right;\n",
       "    }\n",
       "</style>\n",
       "<table border=\"1\" class=\"dataframe\">\n",
       "  <thead>\n",
       "    <tr style=\"text-align: right;\">\n",
       "      <th>Metrics</th>\n",
       "      <th>Negative</th>\n",
       "      <th>Positive</th>\n",
       "    </tr>\n",
       "    <tr>\n",
       "      <th>Class</th>\n",
       "      <th></th>\n",
       "      <th></th>\n",
       "    </tr>\n",
       "  </thead>\n",
       "  <tbody>\n",
       "    <tr>\n",
       "      <td>Precision</td>\n",
       "      <td>0.904382</td>\n",
       "      <td>0.0</td>\n",
       "    </tr>\n",
       "    <tr>\n",
       "      <td>Recall</td>\n",
       "      <td>1.000000</td>\n",
       "      <td>0.0</td>\n",
       "    </tr>\n",
       "    <tr>\n",
       "      <td>F</td>\n",
       "      <td>0.949791</td>\n",
       "      <td>0.0</td>\n",
       "    </tr>\n",
       "    <tr>\n",
       "      <td>Support</td>\n",
       "      <td>1362.000000</td>\n",
       "      <td>144.0</td>\n",
       "    </tr>\n",
       "  </tbody>\n",
       "</table>\n",
       "</div>"
      ],
      "text/plain": [
       "Metrics       Negative  Positive\n",
       "Class                           \n",
       "Precision     0.904382       0.0\n",
       "Recall        1.000000       0.0\n",
       "F             0.949791       0.0\n",
       "Support    1362.000000     144.0"
      ]
     },
     "metadata": {},
     "output_type": "display_data"
    },
    {
     "name": "stdout",
     "output_type": "stream",
     "text": [
      "The matthews correlation coefficient is\t 0.0\n",
      "The cost of miscalssification under the dummy model is \t 0.67\n",
      "The benefit of the dummy model is \t 0.76\n"
     ]
    },
    {
     "name": "stderr",
     "output_type": "stream",
     "text": [
      "/Users/jenwei/opt/anaconda3/lib/python3.7/site-packages/sklearn/metrics/_classification.py:900: RuntimeWarning: invalid value encountered in double_scalars\n",
      "  mcc = cov_ytyp / np.sqrt(cov_ytyt * cov_ypyp)\n"
     ]
    }
   ],
   "source": [
    "plt.title('Test Metrics for the dummy classifier\\n')\n",
    "get_metrics(y_test, y_pred_dummy)\n",
    "print('The matthews correlation coefficient is\\t', matthews_corrcoef(y_test, y_pred_dummy))\n",
    "print('The cost of miscalssification under the dummy model is \\t',np.round(Cost(y_pred_dummy, y_test, c_p, c_n),2))\n",
    "print('The benefit of the dummy model is \\t',np.round(Benefit(y_test,b_p, b_n),2))\n",
    "\n",
    "\n"
   ]
  },
  {
   "cell_type": "code",
   "execution_count": 13,
   "metadata": {},
   "outputs": [
    {
     "data": {
      "image/png": "[encoded data removed]",
      "text/plain": [
       "<Figure size 432x288 with 2 Axes>"
      ]
     },
     "metadata": {},
     "output_type": "display_data"
    },
    {
     "data": {
      "text/html": [
       "<div>\n",
       "<style scoped>\n",
       "    .dataframe tbody tr th:only-of-type {\n",
       "        vertical-align: middle;\n",
       "    }\n",
       "\n",
       "    .dataframe tbody tr th {\n",
       "        vertical-align: top;\n",
       "    }\n",
       "\n",
       "    .dataframe thead th {\n",
       "        text-align: right;\n",
       "    }\n",
       "</style>\n",
       "<table border=\"1\" class=\"dataframe\">\n",
       "  <thead>\n",
       "    <tr style=\"text-align: right;\">\n",
       "      <th>Metrics</th>\n",
       "      <th>Negative</th>\n",
       "      <th>Positive</th>\n",
       "    </tr>\n",
       "    <tr>\n",
       "      <th>Class</th>\n",
       "      <th></th>\n",
       "      <th></th>\n",
       "    </tr>\n",
       "  </thead>\n",
       "  <tbody>\n",
       "    <tr>\n",
       "      <td>Precision</td>\n",
       "      <td>0.938159</td>\n",
       "      <td>0.674699</td>\n",
       "    </tr>\n",
       "    <tr>\n",
       "      <td>Recall</td>\n",
       "      <td>0.980176</td>\n",
       "      <td>0.388889</td>\n",
       "    </tr>\n",
       "    <tr>\n",
       "      <td>F</td>\n",
       "      <td>0.958707</td>\n",
       "      <td>0.493392</td>\n",
       "    </tr>\n",
       "    <tr>\n",
       "      <td>Support</td>\n",
       "      <td>1362.000000</td>\n",
       "      <td>144.000000</td>\n",
       "    </tr>\n",
       "  </tbody>\n",
       "</table>\n",
       "</div>"
      ],
      "text/plain": [
       "Metrics       Negative    Positive\n",
       "Class                             \n",
       "Precision     0.938159    0.674699\n",
       "Recall        0.980176    0.388889\n",
       "F             0.958707    0.493392\n",
       "Support    1362.000000  144.000000"
      ]
     },
     "metadata": {},
     "output_type": "display_data"
    },
    {
     "name": "stdout",
     "output_type": "stream",
     "text": [
      "The matthews correlation coefficient is\t 0.48\n",
      "The cost of miscalssification under the default model is \t 0.43\n",
      "The benefit of the default model is \t 0.76\n"
     ]
    }
   ],
   "source": [
    "plt.title('Test Metrics vanilla lightGBM and 0.5 threshold\\n')\n",
    "get_metrics(y_test, y_pred_default)\n",
    "print('The matthews correlation coefficient is\\t', np.round(matthews_corrcoef(y_test, y_pred_default),2))\n",
    "print('The cost of miscalssification under the default model is \\t',np.round(Cost(y_pred_default, y_test, c_p, c_n),2))\n",
    "print('The benefit of the default model is \\t',np.round(Benefit( y_test, b_p, b_n),2))\n",
    "\n",
    "\n"
   ]
  },
  {
   "cell_type": "code",
   "execution_count": 14,
   "metadata": {},
   "outputs": [
    {
     "data": {
      "image/png": "[encoded data removed]",
      "text/plain": [
       "<Figure size 432x288 with 2 Axes>"
      ]
     },
     "metadata": {},
     "output_type": "display_data"
    }
   ],
   "source": [
    "plt.title('Return Metrics: vanilla lightGBM and 0.5 threshold\\n')\n",
    "get_return_metrics(y_test, y_pred_default,b_p,c_p)"
   ]
  },
  {
   "cell_type": "markdown",
   "metadata": {},
   "source": [
    "## Customized Objective Function to Minimize \n",
    "### 1. Cost Function \n",
    "### 2.Focal Loss Function"
   ]
  },
  {
   "cell_type": "code",
   "execution_count": 15,
   "metadata": {},
   "outputs": [],
   "source": [
    "# Define custom objective function -- Weighted Logistic Regression\n",
    "from pathlib import Path\n",
    "from sklearn.model_selection import train_test_split\n",
    "from sklearn.metrics import f1_score\n",
    "from scipy.misc import derivative\n",
    "\n",
    "def weighted_loss_lgb_sk(y_true, y_pred, c_p, c_n):\n",
    "    \"\"\"\n",
    "    Focal Loss for lightgbm\n",
    "\n",
    "    Parameters:\n",
    "    -----------\n",
    "    y_pred: numpy.ndarray array with the predictions\n",
    "    dtrain: lightgbm.Dataset\n",
    "    c_p, c_n: float\n",
    "    \"\"\"\n",
    "    sum = c_p+c_n\n",
    "    c_p = c_p/sum\n",
    "    c_n = c_n/sum\n",
    "    \n",
    "    def fl(x,t):\n",
    "        #p = 1/(1+np.exp(-x))\n",
    "        p = 1/(1+np.exp(-(x-.5)*2))\n",
    "        return - ( c_n*t*np.log(p)+c_p*(1-t)*np.log(1-p) )\n",
    "\n",
    "    \n",
    "    partial_fl = lambda x: fl(x, y_true)\n",
    "    grad = derivative(partial_fl, y_pred, n=1, dx=1e-6)\n",
    "    hess = derivative(partial_fl, y_pred, n=2, dx=1e-6)\n",
    "    return grad, hess\n",
    "\n",
    "\n",
    "\n",
    "def weighted_loss_lgb_eval_error_sk(y_true, y_pred, c_p, c_n):\n",
    "    \"\"\"\n",
    "    Adapation of the Focal Loss for lightgbm to be used as evaluation loss\n",
    "\n",
    "    Parameters:\n",
    "    -----------\n",
    "    y_pred: numpy.ndarray\n",
    "        array with the predictions\n",
    "    dtrain: lightgbm.Dataset\n",
    "     c_p, c_n: float\n",
    "    \"\"\"\n",
    " \n",
    "    sum = c_p+c_n\n",
    "    c_p = c_p/sum\n",
    "    c_n = c_n/sum\n",
    "    #p = 1/(1+np.exp(-y_pred))\n",
    "    p = 1/(1+np.exp(-(y_pred-0.5)*2))\n",
    "    loss = - ( c_n* y_true*np.log(p)+c_p*(1-y_true)*np.log(1-p) )\n",
    "    return 'weighted_loss', np.mean(loss), False\n"
   ]
  },
  {
   "cell_type": "code",
   "execution_count": 16,
   "metadata": {},
   "outputs": [],
   "source": [
    "# Focal loss function\n",
    "\n",
    "def focal_loss_lgb_sk(y_true, y_pred, alpha, gamma):\n",
    "    \"\"\"\n",
    "    Focal Loss for lightgbm\n",
    "\n",
    "    Parameters:\n",
    "    -----------\n",
    "    y_pred: numpy.ndarray\n",
    "        array with the predictions\n",
    "    dtrain: lightgbm.Dataset\n",
    "    alpha, gamma: float\n",
    "        See original paper https://arxiv.org/pdf/1708.02002.pdf\n",
    "    \"\"\"\n",
    "    a,g = alpha, gamma\n",
    "    def fl(x,t):\n",
    "        p = 1/(1+np.exp(-x))        \n",
    "        return -( a*t + (1-a)*(1-t) ) * (( 1 - ( t*p + (1-t)*(1-p)) )**g) * ( t*np.log(p)+(1-t)*np.log(1-p) ) \n",
    "    partial_fl = lambda x: fl(x, y_true)\n",
    "\n",
    "    grad = derivative(partial_fl, y_pred, n=1, dx=1e-6)\n",
    "    hess = derivative(partial_fl, y_pred, n=2, dx=1e-6)\n",
    "    return grad, hess\n",
    "\n",
    "\n",
    "\n",
    "def focal_loss_lgb_eval_error_sk(y_true, y_pred, alpha, gamma):\n",
    "    \"\"\"\n",
    "    Adapation of the Focal Loss for lightgbm to be used as evaluation loss\n",
    "\n",
    "    Parameters:\n",
    "    -----------\n",
    "    y_pred: numpy.ndarray\n",
    "        array with the predictions\n",
    "    dtrain: lightgbm.Dataset\n",
    "    alpha, gamma: float\n",
    "        See original paper https://arxiv.org/pdf/1708.02002.pdf\n",
    "    \"\"\"\n",
    "    a,g = alpha, gamma\n",
    "    p = 1/(1+np.exp(-y_pred))\n",
    "    loss = -( a*y_true + (1-a)*(1-y_true) ) * (( 1 - ( y_true*p + (1-y_true)*(1-p)) )**g) * ( y_true*np.log(p)+(1-y_true)*np.log(1-p) )\n",
    "    return 'focal_loss', np.mean(loss), False"
   ]
  },
  {
   "cell_type": "code",
   "execution_count": 17,
   "metadata": {},
   "outputs": [],
   "source": [
    "# Repredict y_pred_direct\n",
    "\n",
    "# make new model on new value\n",
    "\n",
    "#c_n=len(y_train)/sum(y_train==1)\n",
    "\n",
    "\n",
    "weighted_loss = lambda x,y: weighted_loss_lgb_sk(x, y, c_p, c_n)\n",
    "eval_error_weighted = lambda x,y: weighted_loss_lgb_eval_error_sk(x, y, c_p, c_n)\n",
    "clf_direct = lgbm.LGBMClassifier(random_state=33,\n",
    "                                early_stopping_rounds = 10,\n",
    "                                learning_rate=0.1,\n",
    "                                n_estimators=10000,\n",
    "                                objective= weighted_loss)\n",
    "\n",
    "\n",
    "#altalab.wrap.lightgbm.LGBMClassification\n",
    "\n",
    "clf_direct.fit(\n",
    "    X_train,\n",
    "    y_train,\n",
    "    eval_set=[(X_valid, y_valid)],\n",
    "    eval_metric=eval_error_weighted,\n",
    "    verbose=False,\n",
    ")\n",
    "\n",
    "\n",
    "\n",
    "y_pred_direct = clf_direct.predict(X_test)\n",
    "y_prob_direct = clf_direct.predict_proba(X_test)[:,1]\n",
    "y_val_pred_direct = clf_direct.predict(X_valid)\n",
    "y_val_prob_direct = clf_direct.predict_proba(X_valid)[:,1]\n",
    "\n"
   ]
  },
  {
   "cell_type": "code",
   "execution_count": 18,
   "metadata": {},
   "outputs": [
    {
     "name": "stdout",
     "output_type": "stream",
     "text": [
      "F1 score for the vaidation set of focal loss algorithm is\t 0.55\n"
     ]
    }
   ],
   "source": [
    "# Repredict y_pred_fl\n",
    "\n",
    "# make new model on new value\n",
    "# Define alpha and gamma here\n",
    "\n",
    "## The following parameters will produce higher F1 score for balanced data\n",
    "#alpha=.25\n",
    "#gamma=2\n",
    "\n",
    "## The following parameters will produce higher F1 score for imbalanced data\n",
    "alpha=.9\n",
    "gamma=2\n",
    "\n",
    "\n",
    "## The following parameters will produce higher recall \n",
    "## on the positive cases for imbalanced data\n",
    "#alpha=.99\n",
    "#gamma=1\n",
    "\n",
    "\n",
    "focal_loss = lambda x,y: focal_loss_lgb_sk(x, y, alpha, gamma)\n",
    "eval_error = lambda x,y: focal_loss_lgb_eval_error_sk(x, y, alpha,gamma)\n",
    "\n",
    "clf_fl = lgbm.LGBMClassifier(random_state=33,\n",
    "                                early_stopping_rounds = 10,\n",
    "                                learning_rate=0.1,\n",
    "                                n_estimators=10000,\n",
    "                                objective= focal_loss)\n",
    "\n",
    "\n",
    "clf_fl.fit(\n",
    "    X_train,\n",
    "    y_train,\n",
    "    eval_set=[(X_valid, y_valid)],\n",
    "    eval_metric=eval_error,\n",
    "    verbose=False,\n",
    ")\n",
    "\n",
    "\n",
    "y_pred_fl = clf_fl.predict(X_test)\n",
    "y_prob_fl = clf_fl.predict_proba(X_test)[:,1]\n",
    "y_val_pred_fl = clf_fl.predict(X_valid)\n",
    "y_val_prob_fl = clf_fl.predict_proba(X_valid)[:,1]\n",
    "\n",
    "\n",
    "\n",
    "print('F1 score for the vaidation set of focal loss algorithm is\\t',np.round(f1_score(y_valid, y_val_pred_fl),2))"
   ]
  },
  {
   "cell_type": "code",
   "execution_count": 19,
   "metadata": {
    "scrolled": true
   },
   "outputs": [
    {
     "data": {
      "image/png": "[encoded data removed]",
      "text/plain": [
       "<Figure size 432x288 with 2 Axes>"
      ]
     },
     "metadata": {},
     "output_type": "display_data"
    },
    {
     "data": {
      "text/html": [
       "<div>\n",
       "<style scoped>\n",
       "    .dataframe tbody tr th:only-of-type {\n",
       "        vertical-align: middle;\n",
       "    }\n",
       "\n",
       "    .dataframe tbody tr th {\n",
       "        vertical-align: top;\n",
       "    }\n",
       "\n",
       "    .dataframe thead th {\n",
       "        text-align: right;\n",
       "    }\n",
       "</style>\n",
       "<table border=\"1\" class=\"dataframe\">\n",
       "  <thead>\n",
       "    <tr style=\"text-align: right;\">\n",
       "      <th>Metrics</th>\n",
       "      <th>Negative</th>\n",
       "      <th>Positive</th>\n",
       "    </tr>\n",
       "    <tr>\n",
       "      <th>Class</th>\n",
       "      <th></th>\n",
       "      <th></th>\n",
       "    </tr>\n",
       "  </thead>\n",
       "  <tbody>\n",
       "    <tr>\n",
       "      <td>Precision</td>\n",
       "      <td>0.952884</td>\n",
       "      <td>0.312727</td>\n",
       "    </tr>\n",
       "    <tr>\n",
       "      <td>Recall</td>\n",
       "      <td>0.861233</td>\n",
       "      <td>0.597222</td>\n",
       "    </tr>\n",
       "    <tr>\n",
       "      <td>F</td>\n",
       "      <td>0.904744</td>\n",
       "      <td>0.410501</td>\n",
       "    </tr>\n",
       "    <tr>\n",
       "      <td>Support</td>\n",
       "      <td>1362.000000</td>\n",
       "      <td>144.000000</td>\n",
       "    </tr>\n",
       "  </tbody>\n",
       "</table>\n",
       "</div>"
      ],
      "text/plain": [
       "Metrics       Negative    Positive\n",
       "Class                             \n",
       "Precision     0.952884    0.312727\n",
       "Recall        0.861233    0.597222\n",
       "F             0.904744    0.410501\n",
       "Support    1362.000000  144.000000"
      ]
     },
     "metadata": {},
     "output_type": "display_data"
    },
    {
     "name": "stdout",
     "output_type": "stream",
     "text": [
      "The MCC is\t 0.35\n",
      "The cost of miscalssification under the direct optimized model is \t 0.4\n"
     ]
    }
   ],
   "source": [
    "plt.title('Test Metrics for direct minimizing pre-given cost\\n')\n",
    "get_metrics(y_test, y_pred_direct)\n",
    "print('The MCC is\\t', np.round(matthews_corrcoef(y_test, y_pred_direct),2)) \n",
    "print('The cost of miscalssification under the direct optimized model is \\t',np.round(Cost(y_pred_direct, y_test, c_p, c_n),2))\n",
    "\n"
   ]
  },
  {
   "cell_type": "code",
   "execution_count": 20,
   "metadata": {
    "scrolled": true
   },
   "outputs": [
    {
     "data": {
      "image/png": "[encoded data removed]",
      "text/plain": [
       "<Figure size 432x288 with 2 Axes>"
      ]
     },
     "metadata": {},
     "output_type": "display_data"
    },
    {
     "data": {
      "text/html": [
       "<div>\n",
       "<style scoped>\n",
       "    .dataframe tbody tr th:only-of-type {\n",
       "        vertical-align: middle;\n",
       "    }\n",
       "\n",
       "    .dataframe tbody tr th {\n",
       "        vertical-align: top;\n",
       "    }\n",
       "\n",
       "    .dataframe thead th {\n",
       "        text-align: right;\n",
       "    }\n",
       "</style>\n",
       "<table border=\"1\" class=\"dataframe\">\n",
       "  <thead>\n",
       "    <tr style=\"text-align: right;\">\n",
       "      <th>Metrics</th>\n",
       "      <th>Negative</th>\n",
       "      <th>Positive</th>\n",
       "    </tr>\n",
       "    <tr>\n",
       "      <th>Class</th>\n",
       "      <th></th>\n",
       "      <th></th>\n",
       "    </tr>\n",
       "  </thead>\n",
       "  <tbody>\n",
       "    <tr>\n",
       "      <td>Precision</td>\n",
       "      <td>0.945312</td>\n",
       "      <td>0.683673</td>\n",
       "    </tr>\n",
       "    <tr>\n",
       "      <td>Recall</td>\n",
       "      <td>0.977239</td>\n",
       "      <td>0.465278</td>\n",
       "    </tr>\n",
       "    <tr>\n",
       "      <td>F</td>\n",
       "      <td>0.961011</td>\n",
       "      <td>0.553719</td>\n",
       "    </tr>\n",
       "    <tr>\n",
       "      <td>Support</td>\n",
       "      <td>1362.000000</td>\n",
       "      <td>144.000000</td>\n",
       "    </tr>\n",
       "  </tbody>\n",
       "</table>\n",
       "</div>"
      ],
      "text/plain": [
       "Metrics       Negative    Positive\n",
       "Class                             \n",
       "Precision     0.945312    0.683673\n",
       "Recall        0.977239    0.465278\n",
       "F             0.961011    0.553719\n",
       "Support    1362.000000  144.000000"
      ]
     },
     "metadata": {},
     "output_type": "display_data"
    },
    {
     "name": "stdout",
     "output_type": "stream",
     "text": [
      "F1= 0.554 \n",
      "\n",
      "The MCC is\t 0.53\n",
      "The cost of miscalssification under the focal loss model is \t 0.38\n"
     ]
    }
   ],
   "source": [
    "plt.title('Test Metrics for focal loss classifier\\n')\n",
    "get_metrics(y_test, y_pred_fl)\n",
    "print('F1=',np.round(f1_score(y_test, y_pred_fl),3),'\\n')\n",
    "print('The MCC is\\t', np.round(matthews_corrcoef(y_test, y_pred_fl),2))\n",
    "print('The cost of miscalssification under the focal loss model is \\t',np.round(Cost(y_pred_fl, y_test, c_p, c_n),2))"
   ]
  },
  {
   "cell_type": "code",
   "execution_count": 21,
   "metadata": {},
   "outputs": [
    {
     "data": {
      "image/png": "[encoded data removed]",
      "text/plain": [
       "<Figure size 432x288 with 2 Axes>"
      ]
     },
     "metadata": {},
     "output_type": "display_data"
    }
   ],
   "source": [
    "plt.title('Return Metrics for focal loss classifier\\n')\n",
    "get_return_metrics(y_test, y_pred_fl,b_p,c_p)\n"
   ]
  },
  {
   "cell_type": "markdown",
   "metadata": {},
   "source": [
    "## Post Processing -- Changing decision threshold\n",
    "\n",
    "Note that there is no learning in this stage, this algorithm simply find the right level of conpromise for what you need to optimize.\n",
    "\n",
    "Here, we consider two goals:\n",
    "1. Reduce the cost associated with misclassification: minimize expected cost for misclassification\n",
    "2. Achieve impartitial recogonition results on both classes: maximize F1 score\n",
    "    \n",
    "To this end, let us define two searching functions: \n",
    "1. GetMaxF1Threshold, \n",
    "2. GetMaxReturnThreshold, and\n",
    "3. GetMinCostThreshold\n",
    "\n",
    "It is trivial to include other metrics to optimize, as a proof of concept exercise, we only optimize F1 score or the cost for miscalssifications.    "
   ]
  },
  {
   "cell_type": "code",
   "execution_count": 22,
   "metadata": {},
   "outputs": [],
   "source": [
    "## Varying threshold to find the highest F1 score\n",
    "def GetMaxF1Threshold(y_true,y_pred,y_pred_prob):\n",
    "\n",
    "    y_pred_cs = np.ones(y_true.shape)\n",
    "    cmin = 999999\n",
    "    vmax = -999999\n",
    "    pmax = 0\n",
    "\n",
    "    for theta in np.linspace(0,1,10):\n",
    "\n",
    "        y_pred_cs = np.ones(y_pred.shape)\n",
    "        y_pred_cs[y_pred_prob <= theta] = 0\n",
    "        y_pred_cs[y_pred_prob > theta] = 1\n",
    "   \n",
    "        # Confusion metrix for each thredhold\n",
    "        cm = confusion_matrix(y_true, y_pred_cs)\n",
    " \n",
    "\n",
    "        class_names =  [ 'Continuing Care'] \n",
    "        metrics = np.array( precision_recall_fscore_support(y_true, y_pred_cs,beta=1,average ='binary') )\n",
    "        #print('theta\\t',theta,'matric\\t',metrics,'\\n')\n",
    "    \n",
    "        df_cm = pd.DataFrame(metrics, index=['Precision', 'Recall', 'F','Support'], columns = class_names)\n",
    "        \n",
    "        df_cm.index.name = 'Class'\n",
    "        df_cm.columns.name = 'Metrics'\n",
    "        #cost_to_be_mimimized = Cost(y_pred_cs, y_true, c_p, c_n)\n",
    "        var_to_be_maximized =  metrics[2]\n",
    "    \n",
    "\n",
    "        if  vmax < var_to_be_maximized:\n",
    "            vmax = (var_to_be_maximized)\n",
    "            pmax = theta\n",
    "\n",
    "    print(f'\\n On the validation set, the best cutoffs F1 = {np.around(vmax,3)} for negative class <{np.around(pmax,2)},  and positive class >{np.around(pmax,2)}')\n",
    "\n",
    "    return pmax,vmax\n"
   ]
  },
  {
   "cell_type": "code",
   "execution_count": null,
   "metadata": {},
   "outputs": [],
   "source": []
  },
  {
   "cell_type": "code",
   "execution_count": 23,
   "metadata": {},
   "outputs": [],
   "source": [
    "## Varying threshold to find the max trturn for a given investment level\n",
    "def GetMaxReturnThreshold(y_true,y_pred,y_pred_prob,B_p, C_p,InvestPercent=1):\n",
    "\n",
    "    y_pred_cs = np.ones(y_true.shape)\n",
    "    cmin = 999999\n",
    "    vmax = -999999\n",
    "    pmax = 0\n",
    "\n",
    "    for theta in np.linspace(-1,1,20):\n",
    "\n",
    "        y_pred_cs = np.ones(y_pred.shape)\n",
    "        y_pred_cs[y_pred_prob <= theta] = 0\n",
    "        y_pred_cs[y_pred_prob > theta] = 1\n",
    "   \n",
    "\n",
    "        var_to_be_maximized =  RealizedBenefit(y_pred_cs,y_true, B_p, C_p, InvestPercent=1)\n",
    "    \n",
    "\n",
    "        if  vmax < var_to_be_maximized:\n",
    "            vmax = (var_to_be_maximized)\n",
    "            pmax = theta\n",
    "\n",
    "    print(f'\\n On the validation set, the best cutoffs return = {np.around(vmax,3)} for negative class <{np.around(pmax,2)},  and positive class >{np.around(pmax,2)}')\n",
    "\n",
    "    return pmax,vmax\n"
   ]
  },
  {
   "cell_type": "code",
   "execution_count": 24,
   "metadata": {},
   "outputs": [],
   "source": [
    "## Varying threshold to find the lowest misclassification cost\n",
    "def GetMinCostThreshold(y_true,y_pred,y_pred_prob,c_p,c_n):\n",
    "\n",
    "    y_pred_cs = np.ones(y_pred.shape)\n",
    "    cmin = 999999\n",
    "    vmax = -999999\n",
    "    popt = 0\n",
    "\n",
    "    for theta in np.linspace(0,1,10):\n",
    "\n",
    "        y_pred_cs = np.ones(y_pred.shape)\n",
    "        y_pred_cs[y_pred_prob <= theta] = 0\n",
    "        y_pred_cs[y_pred_prob > theta] = 1\n",
    "   \n",
    "        cost_to_be_mimimized = Cost(y_pred_cs, y_true, c_p, c_n)\n",
    "    \n",
    "        if  cmin > cost_to_be_mimimized:\n",
    "            cmin = cost_to_be_mimimized\n",
    "            popt = theta\n",
    "\n",
    "    print(f'\\n On the validation set, the best cutoffs cost = {np.around(cmin,3)} for negative class <{np.around(popt,2)},  and positive class >{np.around(popt,2)}')\n",
    "\n",
    "    return popt,cmin\n"
   ]
  },
  {
   "cell_type": "code",
   "execution_count": null,
   "metadata": {},
   "outputs": [],
   "source": []
  },
  {
   "cell_type": "code",
   "execution_count": null,
   "metadata": {},
   "outputs": [],
   "source": []
  },
  {
   "cell_type": "markdown",
   "metadata": {},
   "source": [
    "#### Let us see how much the F1 score on Vanilla LightBGM can improve if we learn how to conpromise"
   ]
  },
  {
   "cell_type": "code",
   "execution_count": 25,
   "metadata": {},
   "outputs": [
    {
     "name": "stdout",
     "output_type": "stream",
     "text": [
      "\n",
      " On the validation set, the best cutoffs F1 = 0.53 for negative class <0.33,  and positive class >0.33\n",
      "\n",
      " On the validation set, the best cutoffs cost = 0.363 for negative class <0.11,  and positive class >0.11\n"
     ]
    }
   ],
   "source": [
    "p_max_default, f1_max_default=GetMaxF1Threshold(y_valid,y_val_pred_default,y_val_prob_default)\n",
    "\n",
    "\n",
    "#print('Recall MCC is\\t', np.round(matthews_corrcoef(y_test, y_pred_default),2),\" for the vanilla lightGBM\")\n",
    "#print(\"MCC can be improved to\", np.round(matthews_corrcoef(y_test, y_prob_default>p_max_default),2),' when we add the change thredshold post processing treatment\\n')\n",
    "\n",
    "#print(\"Recall F1=\",np.round(f1_score(y_test, y_pred_default),3),\" for the vanilla lightGBM\")\n",
    "#print(\"F1 can be improved to\", np.round(f1_score(y_test, y_prob_default>p_max_default),3),' when we add the change thredshold post processing treatment\\n')\n",
    "\n",
    "\n",
    "p_min_default, cost_min_default=GetMinCostThreshold(y_valid,y_val_pred_default,y_val_prob_default,c_p,c_n)\n",
    "\n",
    "#print('Recall the cost of miscalssification for vanilla LightGBM with 0.5 threshold is\\t',np.round(Cost(y_prob_default, y_test, c_p, c_n),2))\n",
    "#print('The mis classification cost can be reduced to \\t',np.round(Cost(y_prob_default>p_min_default, y_test, c_p, c_n),2),'if we apply the optimal decision threshold\\n')\n",
    "\n",
    "#plt.title(f'Test Metrics for vanilla LightBGM\\n with {np.around(p_min_default,2)} threshold when minimizing cost')\n",
    "#get_metrics(y_test, y_prob_default>p_min_default)"
   ]
  },
  {
   "cell_type": "code",
   "execution_count": null,
   "metadata": {},
   "outputs": [],
   "source": []
  },
  {
   "cell_type": "code",
   "execution_count": null,
   "metadata": {},
   "outputs": [],
   "source": []
  },
  {
   "cell_type": "markdown",
   "metadata": {},
   "source": [
    "## Combing post processing with pre-processing and customizing objective functions\n",
    "\n",
    "Although the performance of the classifier can be improved if we further turn the decision threadhold, the purpose of this section is not to beat the performance metric up to death. Rather, we use post processing as an emporical test on how fully we have pushed the model performence by the other alogorithms."
   ]
  },
  {
   "cell_type": "markdown",
   "metadata": {},
   "source": [
    "#### Recall the F1 score for scaling the weight of positive samples provided by lightBGM was rather disappointing for our dataset. Let us see if post processing can do the resecure."
   ]
  },
  {
   "cell_type": "code",
   "execution_count": 26,
   "metadata": {},
   "outputs": [
    {
     "name": "stdout",
     "output_type": "stream",
     "text": [
      "\n",
      " On the validation set, the best cutoffs F1 = 0.549 for negative class <0.33,  and positive class >0.33\n"
     ]
    }
   ],
   "source": [
    "p_max_fl, f1_max_fl=GetMaxF1Threshold(y_valid,y_val_pred_fl,y_val_prob_fl)\n",
    "#plt.title(f'Test Metrics for focal loss algorithm \\n with {np.around(p_max_fl,2)} threshold when maximizing F1')\n",
    "#get_metrics(y_test, y_prob_fl>p_max_fl)\n",
    "\n",
    "#print(\"Recall F1=\",np.round(f1_score(y_test, y_pred_fl),3),\" for the focal loss algorithm\")\n",
    "#print(\"\\nF1 can be improved to\", np.round(f1_score(y_test, y_prob_fl>p_max_fl),3),' when we add the change thredshold post processing treatment\\n')\n",
    "\n",
    "#print('The cost of miscalssification under the changing threshold method is \\t',np.round(Cost(y_prob_prepross>p_max, y_test, c_p, c_n),2))\n",
    "\n"
   ]
  },
  {
   "cell_type": "markdown",
   "metadata": {},
   "source": [
    "### Now let us see if post processing can further reduce the cost of the cost-optimized method"
   ]
  },
  {
   "cell_type": "code",
   "execution_count": 27,
   "metadata": {},
   "outputs": [
    {
     "name": "stdout",
     "output_type": "stream",
     "text": [
      "\n",
      " On the validation set, the best cutoffs cost = 0.355 for negative class <0.22,  and positive class >0.22\n"
     ]
    }
   ],
   "source": [
    "p_min_direct, cost_min_direct=GetMinCostThreshold(y_valid,y_val_pred_direct,y_val_prob_direct,c_p,c_n)\n",
    "#plt.title(f'Test Metrics for cost-optimized method \\n with {np.around(p_min_direct,2)} threshold when minimizing cost')\n",
    "#get_metrics(y_test, y_prob_direct>p_min_direct)\n",
    "\n",
    "#print(\"Recall Cost=\",np.round(Cost(y_pred_direct,y_test,c_p,c_n),3),\" for the cost-optimized algorithm\")\n",
    "#print(\"\\nCost can be reduced to\", np.round(Cost(y_prob_direct>p_min_direct,y_test,c_p,c_n),3),'\\\n",
    "#when we add the change thredshold post processing treatment\\n')\n",
    "\n",
    "#print('The cost of miscalssification under the changing threshold method is \\t',np.round(Cost(y_prob_prepross>p_max, y_test, c_p, c_n),2))\n"
   ]
  },
  {
   "cell_type": "markdown",
   "metadata": {},
   "source": [
    "### Conclusion: cost and F1 cannot be further improve via post-processing if the algorithm is already cost or F1 optimized.\n",
    "\n",
    "### But can we further reduce the cost of focal loss algorithm if we varying the decision threashold?"
   ]
  },
  {
   "cell_type": "code",
   "execution_count": 28,
   "metadata": {},
   "outputs": [
    {
     "name": "stdout",
     "output_type": "stream",
     "text": [
      "\n",
      " On the validation set, the best cutoffs cost = 0.359 for negative class <0.0,  and positive class >0.0\n"
     ]
    }
   ],
   "source": [
    "p_min_fl, cost_min_fl=GetMinCostThreshold(y_valid,y_val_pred_fl,y_val_prob_fl,c_p,c_n)\n",
    "#plt.title(f'Test Metrics for focal loss algorithnm\\n with {np.around(p_min_fl,2)} threshold when minimizing cost')\n",
    "#get_metrics(y_test, y_prob_fl>p_min_fl)\n",
    "\n",
    "#print(\"Recall Cost=\",np.round(Cost(y_pred_fl,y_test,c_p,c_n),3),\" for the focal loss algorithm\")\n",
    "#print(\"\\nCost can be reduced to\", np.round(Cost(y_prob_fl>p_min_fl,y_test,c_p,c_n),3),' when we add the change thredshold post processing treatment\\n')\n",
    "\n",
    "#print('The cost of miscalssification under the changing threshold method is \\t',np.round(Cost(y_prob_prepross>p_max, y_test, c_p, c_n),2))\n"
   ]
  },
  {
   "cell_type": "code",
   "execution_count": null,
   "metadata": {},
   "outputs": [],
   "source": []
  },
  {
   "cell_type": "markdown",
   "metadata": {},
   "source": [
    "## Performance Comparison Summary"
   ]
  },
  {
   "cell_type": "code",
   "execution_count": 29,
   "metadata": {
    "scrolled": false
   },
   "outputs": [
    {
     "name": "stdout",
     "output_type": "stream",
     "text": [
      "+------------------------+---------+--------+----------+\n",
      "|  Treatment/Algorithm   | MCC (↑) | F1 (↑) | Cost (↓) |\n",
      "+------------------------+---------+--------+----------+\n",
      "|         Dummy          |   0.0   |  0.0   |   0.67   |\n",
      "|    Vanilla lightGBM    |   0.48  |  0.49  |   0.43   |\n",
      "|     Cost-optimized     |   0.35  |  0.41  |   0.4    |\n",
      "|       Focal Loss       |   0.53  |  0.55  |   0.38   |\n",
      "|  Post-pross + Vanilla  |   0.53  |  0.56  |   0.38   |\n",
      "| PostPross + Focal Loss |   0.52  |  0.55  |   0.38   |\n",
      "+------------------------+---------+--------+----------+\n"
     ]
    }
   ],
   "source": [
    "from prettytable import PrettyTable\n",
    "    \n",
    "x = PrettyTable()\n",
    "\n",
    "x.field_names = [\"Treatment/Algorithm\", \"MCC (\\u2191)\", \"F1 (\\u2191)\", \"Cost (\\u2193)\"]\n",
    "\n",
    "x.add_row([\"Dummy\", np.round(matthews_corrcoef(y_test, y_pred_dummy),2), \\\n",
    "           np.round(f1_score(y_test, y_pred_dummy),2), np.round(Cost(y_pred_dummy, y_test, c_p, c_n),2)])\n",
    "x.add_row([\"Vanilla lightGBM\", np.round(matthews_corrcoef(y_test, y_pred_default),2), \\\n",
    "           np.round(f1_score(y_test, y_pred_default),2), np.round(Cost(y_pred_default, y_test, c_p, c_n),2)])\n",
    "\n",
    "x.add_row([\"Cost-optimized\", np.round(matthews_corrcoef(y_test, y_pred_direct),2), \\\n",
    "           np.round(f1_score(y_test, y_pred_direct),2), np.round(Cost(y_pred_direct, y_test, c_p, c_n),2)])\n",
    "x.add_row([\"Focal Loss\", np.round(matthews_corrcoef(y_test, y_pred_fl),2),\\\n",
    "           np.round(f1_score(y_test, y_pred_fl),2), np.round(Cost(y_pred_fl, y_test, c_p, c_n),2)])\n",
    "x.add_row([\"Post-pross + Vanilla\", np.round(matthews_corrcoef(y_test, y_prob_default>p_max_default),2),\\\n",
    "           np.round(f1_score(y_test, y_prob_default>p_max_default),2), np.round(Cost(y_prob_default>p_min_default, y_test, c_p, c_n),2)])\n",
    "x.add_row([\"PostPross + Focal Loss\", np.round(matthews_corrcoef(y_test, y_prob_fl>p_max_fl),2),\\\n",
    "           np.round(f1_score(y_test, y_prob_fl>p_max_fl),2), np.round(Cost(y_prob_fl>p_min_fl, y_test, c_p, c_n),2)])\n",
    "print(x)"
   ]
  },
  {
   "cell_type": "code",
   "execution_count": 30,
   "metadata": {
    "scrolled": true
   },
   "outputs": [
    {
     "name": "stdout",
     "output_type": "stream",
     "text": [
      "+------------------------+-------------+----------+------------+\n",
      "|  Treatment/Algorithm   | ROC_AUC (↑) | Cost (↓) | Return (↑) |\n",
      "+------------------------+-------------+----------+------------+\n",
      "|         Dummy          |     0.5     |  0.669   |     0      |\n",
      "|    Vanilla lightGBM    |    0.854    |  0.427   |    365     |\n",
      "|     Cost-optimized     |    0.856    |  0.395   |    413     |\n",
      "|       Focal Loss       |     0.85    |  0.378   |    438     |\n",
      "|  Post-pross + Vanilla  |    0.854    |  0.384   |    430     |\n",
      "| Focal Loss + PostPross |     0.85    |  0.375   |    443     |\n",
      "+------------------------+-------------+----------+------------+\n",
      "\n",
      " The maximum amount of net benefit that can be realized is\t 1008\n"
     ]
    }
   ],
   "source": [
    "x = PrettyTable()\n",
    "\n",
    "x.field_names = [\"Treatment/Algorithm\", \"ROC_AUC (\\u2191)\", \"Cost (\\u2193)\", \\\n",
    "                 \"Return (\\u2191)\"]\n",
    "\n",
    "x.add_row([\"Dummy\",  np.round(roc_auc_score(y_test, y_prob_dummy),3),\\\n",
    "           np.round(Cost(y_pred_dummy, y_test, c_p, c_n),3),\\\n",
    "           np.round(RealizedBenefit(y_pred_dummy, y_test, b_p, c_p),2) ])\n",
    "\n",
    "x.add_row([\"Vanilla lightGBM\",  np.round(roc_auc_score(y_test, y_prob_default),3), \\\n",
    "           np.round(Cost(y_pred_default, y_test, c_p, c_n),3),\\\n",
    "          np.round(RealizedBenefit(y_pred_default, y_test, b_p, c_p),2) ])\n",
    "\n",
    "\n",
    "x.add_row([\"Cost-optimized\", np.round(roc_auc_score(y_test, y_prob_direct),3), \\\n",
    "           np.round(Cost(y_pred_direct, y_test, c_p, c_n),3),\\\n",
    "          np.round(RealizedBenefit(y_pred_direct, y_test, b_p, c_p),2) ])\n",
    "\n",
    "x.add_row([\"Focal Loss\", np.round(roc_auc_score(y_test, y_prob_fl),3), \\\n",
    "           np.round(Cost(y_pred_fl, y_test, c_p, c_n),3),\\\n",
    "          np.round(RealizedBenefit(y_pred_fl, y_test, b_p, c_p),2) ])\n",
    "\n",
    "x.add_row([\"Post-pross + Vanilla\", np.round(roc_auc_score(y_test, y_prob_default),3), \\\n",
    "           np.round(Cost(y_prob_default>p_min_default, y_test, c_p, c_n),3), \\\n",
    "          np.round(RealizedBenefit(y_prob_default>p_min_default, y_test, b_p, c_p),2) ])\n",
    "\n",
    "x.add_row([\"Focal Loss + PostPross\", np.round(roc_auc_score(y_test, y_prob_fl),3), \\\n",
    "           np.round(Cost(y_prob_fl>p_min_fl, y_test, c_p, c_n),3), \\\n",
    "          np.round(RealizedBenefit(y_prob_fl>p_min_fl, y_test, b_p, c_p),2) ])\n",
    "\n",
    "print(x)\n",
    "\n",
    "\n",
    "print(\"\\n The maximum amount of net benefit that can be realized is\\t\" ,\\\n",
    "       np.round(RealizedBenefit(y_test, y_test, b_p, c_p),2) )\n"
   ]
  },
  {
   "cell_type": "code",
   "execution_count": 31,
   "metadata": {},
   "outputs": [],
   "source": [
    "## Make up a perfect prediction\n",
    "y_pred_perfect=y_test\n",
    "y_prob_perfect=y_pred_perfect\n"
   ]
  },
  {
   "cell_type": "code",
   "execution_count": 32,
   "metadata": {
    "scrolled": true
   },
   "outputs": [
    {
     "data": {
      "image/png": "[encoded data removed]",
      "text/plain": [
       "<Figure size 432x288 with 1 Axes>"
      ]
     },
     "metadata": {},
     "output_type": "display_data"
    }
   ],
   "source": [
    "\n",
    "label='vanilla'\n",
    "color='b'\n",
    "\n",
    "fpr, tpr, thresholds = roc_curve(y_test, y_prob_default, pos_label=1)\n",
    "roc_auc = auc(fpr, tpr)\n",
    "\n",
    "roc_label = '{} (AUC={:.3f})'.format(label, roc_auc)\n",
    "line_up, =plt.plot(fpr, tpr, color=color, linewidth=2, label='vanilla')\n",
    "\n",
    "\n",
    "\n",
    "label='fl'\n",
    "color='g'\n",
    "\n",
    "fpr, tpr, thresholds = roc_curve(y_test, y_prob_fl, pos_label=1)\n",
    "roc_auc = auc(fpr, tpr)\n",
    "\n",
    "roc_label = '{} (AUC={:.3f})'.format(label, roc_auc)\n",
    "line_down, = plt.plot(fpr, tpr, color=color, linewidth=2, label='fl')\n",
    "\n",
    "\n",
    "\n",
    "label='perfect'\n",
    "color='r'\n",
    "\n",
    "fpr, tpr, thresholds = roc_curve(y_test, y_prob_perfect, pos_label=1)\n",
    "roc_auc = auc(fpr, tpr)\n",
    "\n",
    "roc_label = '{} (AUC={:.3f})'.format(label, roc_auc)\n",
    "line_down, = plt.plot(fpr, tpr, color=color, linewidth=2, label='perfect')\n",
    "\n",
    "#plt.legend([line_up, line_down], ['vanilla lightGBM', 'focal loss','perfect'])\n",
    "plt.legend(loc='center left', bbox_to_anchor=(1, 0.5))\n",
    "plt.show()"
   ]
  },
  {
   "cell_type": "markdown",
   "metadata": {},
   "source": [
    "So the above is a recap of what we did in the last section\n",
    "\n",
    "### Next, We discuss how the return changes as we put constraints on investment\n"
   ]
  },
  {
   "cell_type": "code",
   "execution_count": null,
   "metadata": {},
   "outputs": [],
   "source": []
  },
  {
   "cell_type": "markdown",
   "metadata": {},
   "source": [
    "We have optimized our misclassification cost on a globel level. The graph above showes how return changes according to the investment level. \n",
    "\n",
    "### We now optimize the return on each investment level via a sorting algorithm"
   ]
  },
  {
   "cell_type": "code",
   "execution_count": 33,
   "metadata": {},
   "outputs": [],
   "source": [
    "def MatchIndex(array_pred,array_prob,series_banchmark):  \n",
    "    ## make the index of prediction the same as the test set\n",
    "    array_pred=pd.Series(array_pred)              # Make pred a series\n",
    "    array_pred.index=series_banchmark.index       # Reset it's index to be the same as series_banchmark, \n",
    "                                                  # which will be y_test\n",
    "\n",
    "    array_prob=pd.Series(array_prob)              # Make prob a series\n",
    "    array_prob.index=series_banchmark.index       # Reset it's index to be the same as series_banchmark \n",
    "                                                  # which will be y_test\n",
    "\n",
    "    return array_pred,array_prob"
   ]
  },
  {
   "cell_type": "code",
   "execution_count": 34,
   "metadata": {},
   "outputs": [],
   "source": [
    "y_pred_fl,y_prob_fl=MatchIndex(y_pred_fl,y_prob_fl,y_test)                        # Focal loss\n",
    "y_pred_direct,y_prob_direct=MatchIndex(y_pred_direct,y_prob_direct,y_test)        # Cost optimized function\n",
    "y_pred_default,y_prob_default=MatchIndex(y_pred_default,y_prob_default,y_test)    # Vanilla lightGBM\n",
    "y_pred_dummy,y_prob_dummy=MatchIndex(y_pred_dummy,y_prob_dummy,y_test)            # Dummy model"
   ]
  },
  {
   "cell_type": "code",
   "execution_count": null,
   "metadata": {},
   "outputs": [],
   "source": []
  },
  {
   "cell_type": "code",
   "execution_count": 35,
   "metadata": {},
   "outputs": [],
   "source": [
    "## Make up a random prediction\n",
    "y_prob_random=pd.Series(np.random.uniform(0,1,len(y_test)))\n",
    "y_prob_random.index=y_test.index \n",
    "\n",
    "\n",
    "y_pred_random=pd.Series(np.where( y_prob_random<minority_proportion,1,0))\n",
    "y_pred_random.index=y_test.index"
   ]
  },
  {
   "cell_type": "code",
   "execution_count": 36,
   "metadata": {},
   "outputs": [],
   "source": [
    "InvestLev=np.linspace(0.005, 0.995, num=20)"
   ]
  },
  {
   "cell_type": "code",
   "execution_count": 37,
   "metadata": {},
   "outputs": [],
   "source": [
    "## Make a function that ranks the prediction\n",
    "def RankTopPrediction(y_true,y_pred,y_prob,TopNum):\n",
    "    \n",
    "    #  Sort y_prob from the lowest to the highest, and keep tracking the index\n",
    "    y_index_sorted=y_prob.sort_values().index\n",
    "    #print('TopNum\\t',TopNum,'\\n')\n",
    "    #print('y_index_sorted\\t', y_index_sorted,'\\n')\n",
    "\n",
    "    # Investigate NumInvest cases with the highest probobility\n",
    "    y_prob_top=y_prob[y_index_sorted][-TopNum:]\n",
    "    \n",
    "    y_pred_top=y_pred[y_index_sorted][-TopNum:]\n",
    "    y_pred_top[:]=1\n",
    "\n",
    "    # Match with the test set\n",
    "    y_test_top=y_test[y_index_sorted][-TopNum:]\n",
    "    \n",
    "    #print(\"y_pred_top\\t\",y_pred_top,'\\n')\n",
    "    #print(\"y_test_top\\t\",y_test_top)\n",
    "    return y_pred_top,y_test_top\n"
   ]
  },
  {
   "cell_type": "code",
   "execution_count": 38,
   "metadata": {},
   "outputs": [],
   "source": [
    "## Make a function that ranks the prediction\n",
    "def GetReturnCurve(y_true,y_pred,y_prob,InvestLev,Benefit_P,Cost_P):    \n",
    "    ReturnLev_top = []\n",
    "    for x in InvestLev:\n",
    "        #  Number of cases to investigate\n",
    "        NumInvest=np.int(len(y_true)*x)\n",
    "        y_pred_top,y_true_top=RankTopPrediction(y_true,y_pred,y_prob,NumInvest)\n",
    "        ReturnLev_top.append(RealizedBenefit(y_pred_top,y_true_top,Benefit_P,Cost_P))\n",
    "    \n",
    "    return ReturnLev_top"
   ]
  },
  {
   "cell_type": "code",
   "execution_count": 110,
   "metadata": {},
   "outputs": [
    {
     "data": {
      "image/png": "[encoded data removed]",
      "text/plain": [
       "<Figure size 432x288 with 1 Axes>"
      ]
     },
     "metadata": {},
     "output_type": "display_data"
    }
   ],
   "source": [
    "## Generate return curves\n",
    "\n",
    "ReturnLev_fl_top = GetReturnCurve(y_test,y_pred_fl,y_prob_fl,InvestLev,b_p,c_p)\n",
    "ReturnLev_direct_top = GetReturnCurve(y_test,y_pred_direct,y_prob_direct,InvestLev,b_p,c_p)\n",
    "ReturnLev_default_top = GetReturnCurve(y_test,y_pred_default,y_prob_default,InvestLev,b_p,c_p)\n",
    "ReturnLev_perfect_top = GetReturnCurve(y_test,y_pred_perfect,y_prob_perfect,InvestLev,b_p,c_p)\n",
    "ReturnLev_dummy_top = GetReturnCurve(y_test,y_pred_dummy,y_prob_dummy,InvestLev,b_p,c_p)\n",
    "\n",
    "## Plot return curves\n",
    "plt.plot(InvestLev, ReturnLev_direct_top,color='Blue',label='cost')        \n",
    "#plt.plot(InvestLev, ReturnLev_random_top,'--', color='#2ca02c',label='random guess') \n",
    "plt.plot(InvestLev, ReturnLev_dummy_top,dashes=[10, 5, 20, 5], color='#8c564b',label='dummy model')\n",
    "plt.plot(InvestLev, ReturnLev_fl_top, color='#ff7f0e',label='focal loss')\n",
    "plt.plot(InvestLev, ReturnLev_default_top, color='#17becf',label='lightGBM')\n",
    "plt.plot(InvestLev, ReturnLev_perfect_top,dashes=[3, 3, 2, 2], color='#9467bd',label='perfect model')\n",
    "plt.xlabel('Investment Portion')\n",
    "plt.ylabel('Return/Profit')\n",
    "\n",
    "plt.legend(loc='center left', bbox_to_anchor=(1, 0.5))\n",
    "plt.show()\n",
    "\n",
    "StepSize=InvestLev[1]-InvestLev[0]"
   ]
  },
  {
   "cell_type": "code",
   "execution_count": 111,
   "metadata": {},
   "outputs": [
    {
     "name": "stdout",
     "output_type": "stream",
     "text": [
      "+----------------+---------+--------------------+---------------+\n",
      "|     Model      | AUC (↑) | Highest Return (↑) | Optimal Level |\n",
      "+----------------+---------+--------------------+---------------+\n",
      "|     Dummy      |  -151.0 |         1          |     0.005     |\n",
      "| Cost Optimized |  184.56 |        468         |     0.109     |\n",
      "|    lightGBM    |  185.81 |        434         |     0.318     |\n",
      "|   Focal Loss   |  181.64 |        452         |     0.109     |\n",
      "|    Perfect     |  335.04 |        988         |     0.109     |\n",
      "+----------------+---------+--------------------+---------------+\n"
     ]
    }
   ],
   "source": [
    "x = PrettyTable()\n",
    "\n",
    "x.field_names = [\"Model\", \"AUC (\\u2191)\", \"Highest Return (\\u2191)\", \\\n",
    "                 \"Optimal Level\"]\n",
    "\n",
    "\n",
    "\n",
    "#x.add_row([\"Random\",  np.round(sum(ReturnLev_random_top)*StepSize,2),\\\n",
    "#           np.round(max(ReturnLev_random_top),2),\\\n",
    "#           np.round( InvestLev[np.argmax(ReturnLev_random_top)] ,3) ,\\\n",
    "#            ])\n",
    "\n",
    "x.add_row([\"Dummy\",  np.round(sum(ReturnLev_dummy_top)*StepSize,2),\\\n",
    "           np.round(max(ReturnLev_dummy_top),2),\\\n",
    "           np.round( InvestLev[np.argmax(ReturnLev_dummy_top)] ,3) ,\\\n",
    "            ])\n",
    "\n",
    "x.add_row([\"Cost Optimized\",  np.round(sum(ReturnLev_direct_top)*StepSize,2),\\\n",
    "           np.round(max(ReturnLev_direct_top),2),\\\n",
    "           np.round( InvestLev[np.argmax(ReturnLev_direct_top)] ,3) ,\\\n",
    "            ])\n",
    "\n",
    "x.add_row([\"lightGBM\",  np.round(sum(ReturnLev_default_top)*StepSize,2),\\\n",
    "           np.round(max(ReturnLev_default_top),2),\\\n",
    "           np.round( InvestLev[np.argmax(ReturnLev_default_top)] ,3) ,\\\n",
    "            ])\n",
    "\n",
    "x.add_row([\"Focal Loss\",  np.round(sum(ReturnLev_fl_top)*StepSize,2),\\\n",
    "           np.round(max(ReturnLev_fl_top),2),\\\n",
    "           np.round( InvestLev[np.argmax(ReturnLev_fl_top)] ,3) ,\\\n",
    "            ])\n",
    "\n",
    "x.add_row([\"Perfect\",  np.round(sum(ReturnLev_perfect_top)*StepSize,2),\\\n",
    "           np.round(max(ReturnLev_perfect_top),2),\\\n",
    "           np.round( InvestLev[np.argmax(ReturnLev_perfect_top)] ,3) ,\\\n",
    "            ])\n",
    "\n",
    "print(x)"
   ]
  },
  {
   "cell_type": "markdown",
   "metadata": {},
   "source": [
    "### Now let's focus on the return curve one modeland, and see how we can get confidence band on return curve\n",
    "For the exercise, we look at the confidence interval for the focal loss function"
   ]
  },
  {
   "cell_type": "code",
   "execution_count": 129,
   "metadata": {},
   "outputs": [],
   "source": [
    "## Boostrapping the test samples\n",
    "\n",
    "NumSubSample=100\n",
    "ResamplePortion=0.6\n",
    "ResampleIndex=np.random.choice(np.array(y_test.index), (int(len(y_test)*ResamplePortion),NumSubSample), replace = True)\n",
    "#print((ResampleIndex))\n",
    "#print(ResampleIndex.shape)\n",
    "\n",
    "#print((ResampleIndex[:,1]))"
   ]
  },
  {
   "cell_type": "code",
   "execution_count": 130,
   "metadata": {},
   "outputs": [
    {
     "name": "stdout",
     "output_type": "stream",
     "text": [
      "(903, 100)\n",
      "1506\n"
     ]
    }
   ],
   "source": [
    "print(ResampleIndex.shape)\n",
    "print(len(y_test))"
   ]
  },
  {
   "cell_type": "code",
   "execution_count": 131,
   "metadata": {},
   "outputs": [],
   "source": [
    "#print(ResampleIndex,'\\n\\n')\n",
    "\n",
    "\n",
    "from numpy import empty\n",
    "ReturnRange = empty([ResampleIndex.shape[0],ResampleIndex.shape[1]])\n",
    "ReturnLev_fl_sample=[]\n",
    "for x in np.arange(NumSubSample):  #Each col of the ResampleIndex array is a subset of y_test or y_pred index\n",
    "    \n",
    "    \n",
    "    y_test_sample = pd.Series(y_test[ResampleIndex[:,x]])\n",
    "    y_pred_fl_sample = pd.Series(y_pred_fl[ResampleIndex[:,x]])\n",
    "    y_prob_fl_sample = pd.Series(y_prob_fl[ResampleIndex[:,x]])\n",
    "    \n",
    "    \n",
    "    \n",
    "    #y=0.1\n",
    "    #NumInvest=np.int(len(y_test_sample)*y)\n",
    "    #print('NumInvest\\t',NumInvest,'\\n\\n')\n",
    "    #y_pred_top,y_true_top=RankTopPrediction(y_test_sample,y_pred_fl_sample,y_prob_fl_sample,NumInvest)\n",
    "    #print('y_test_sample\\n',y_test_sample,'\\n\\n')\n",
    "    #print('y_pred_fl_sample\\n',y_pred_fl_sample,'\\n\\n')\n",
    "    #print('y_prob_fl_sample\\n',y_prob_fl_sample,'\\n\\n')\n",
    "    \n",
    "    #print('y_pred_top\\n',y_pred_top,'\\n\\n')\n",
    "    #print('y_true_top\\n',y_true_top,'\\n\\n')\n",
    "    \n",
    "    #print('RealizedBenefit\\t',RealizedBenefit(y_pred_top,y_true_top,b_p,c_p))\n",
    "    \n",
    "    ReturnLev_fl_sample.append(GetReturnCurve(y_test_sample,y_pred_fl_sample,y_prob_fl_sample,InvestLev,b_p,c_p))\n",
    " \n",
    "\n",
    "    #print(ReturnLev_fl_sample)\n",
    "\n",
    "    "
   ]
  },
  {
   "cell_type": "code",
   "execution_count": null,
   "metadata": {},
   "outputs": [],
   "source": []
  },
  {
   "cell_type": "code",
   "execution_count": 132,
   "metadata": {},
   "outputs": [
    {
     "data": {
      "image/png": "[encoded data removed]",
      "text/plain": [
       "<Figure size 432x288 with 1 Axes>"
      ]
     },
     "metadata": {},
     "output_type": "display_data"
    }
   ],
   "source": [
    "## Plot return curves\n",
    "plt.plot(InvestLev, ReturnLev_fl_sample[0],color='Blue',label='Trail 1')        \n",
    "plt.plot(InvestLev, ReturnLev_fl_sample[1],dashes=[10, 5, 20, 5], color='#8c564b',label='Trail 2')\n",
    "plt.plot(InvestLev, ReturnLev_fl_sample[2], color='#ff7f0e',label='Trail 3')\n",
    "plt.plot(InvestLev, ReturnLev_fl_sample[3], color='#17becf',label='Trail 4')\n",
    "plt.plot(InvestLev, ReturnLev_fl_sample[4],dashes=[3, 3, 2, 2], color='#9467bd',label='Trail 5')\n",
    "plt.xlabel('Investment Portion')\n",
    "plt.ylabel('Return/Profit')\n",
    "\n",
    "plt.legend(loc='center left', bbox_to_anchor=(1, 0.5))\n",
    "plt.show()"
   ]
  },
  {
   "cell_type": "code",
   "execution_count": null,
   "metadata": {},
   "outputs": [],
   "source": []
  },
  {
   "cell_type": "code",
   "execution_count": null,
   "metadata": {},
   "outputs": [],
   "source": []
  },
  {
   "cell_type": "code",
   "execution_count": null,
   "metadata": {},
   "outputs": [],
   "source": []
  },
  {
   "cell_type": "code",
   "execution_count": 69,
   "metadata": {},
   "outputs": [
    {
     "name": "stdout",
     "output_type": "stream",
     "text": [
      "<class 'pandas.core.indexes.numeric.Int64Index'>\n"
     ]
    }
   ],
   "source": [
    "# scikit-learn bootstrap\n",
    "from sklearn.utils import resample\n",
    "# data sample\n",
    "\n",
    "# prepare bootstrap sample\n",
    "bootIndex = resample(y_test.index, replace=True, n_samples=int(len(y_test)*0.05), random_state=1)\n",
    "print(type(bootIndex))"
   ]
  },
  {
   "cell_type": "code",
   "execution_count": null,
   "metadata": {},
   "outputs": [],
   "source": []
  },
  {
   "cell_type": "code",
   "execution_count": null,
   "metadata": {},
   "outputs": [],
   "source": []
  }
 ],
 "metadata": {
  "kernelspec": {
   "display_name": "Python 3",
   "language": "python",
   "name": "python3"
  },
  "language_info": {
   "codemirror_mode": {
    "name": "ipython",
    "version": 3
   },
   "file_extension": ".py",
   "mimetype": "text/x-python",
   "name": "python",
   "nbconvert_exporter": "python",
   "pygments_lexer": "ipython3",
   "version": "3.7.4"
  }
 },
 "nbformat": 4,
 "nbformat_minor": 4
}
